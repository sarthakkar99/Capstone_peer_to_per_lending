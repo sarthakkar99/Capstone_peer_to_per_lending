{
  "nbformat": 4,
  "nbformat_minor": 0,
  "metadata": {
    "celltoolbar": "Raw Cell Format",
    "kernelspec": {
      "display_name": "Python 3",
      "language": "python",
      "name": "python3"
    },
    "language_info": {
      "codemirror_mode": {
        "name": "ipython",
        "version": 3
      },
      "file_extension": ".py",
      "mimetype": "text/x-python",
      "name": "python",
      "nbconvert_exporter": "python",
      "pygments_lexer": "ipython3",
      "version": "3.7.3"
    },
    "colab": {
      "provenance": [],
      "include_colab_link": true
    }
  },
  "cells": [
    {
      "cell_type": "markdown",
      "metadata": {
        "id": "view-in-github",
        "colab_type": "text"
      },
      "source": [
        "<a href=\"https://colab.research.google.com/github/sarthakkar99/Capstone_peer_to_per_lending/blob/main/peer_to_peer_lending_combine2.ipynb\" target=\"_parent\"><img src=\"https://colab.research.google.com/assets/colab-badge.svg\" alt=\"Open In Colab\"/></a>"
      ]
    },
    {
      "cell_type": "code",
      "metadata": {
        "id": "cHjiXs3PeLZz",
        "outputId": "eb693a5f-d73b-4aa9-8591-41ab7205d5d2",
        "colab": {
          "base_uri": "https://localhost:8080/",
          "height": 84
        }
      },
      "source": [],
      "execution_count": null,
      "outputs": [
        {
          "output_type": "stream",
          "text": [
            "Using TensorFlow backend.\n"
          ],
          "name": "stderr"
        },
        {
          "output_type": "display_data",
          "data": {
            "text/html": [
              "<p style=\"color: red;\">\n",
              "The default version of TensorFlow in Colab will soon switch to TensorFlow 2.x.<br>\n",
              "We recommend you <a href=\"https://www.tensorflow.org/guide/migrate\" target=\"_blank\">upgrade</a> now \n",
              "or ensure your notebook will continue to use TensorFlow 1.x via the <code>%tensorflow_version 1.x</code> magic:\n",
              "<a href=\"https://colab.research.google.com/notebooks/tensorflow_version.ipynb\" target=\"_blank\">more info</a>.</p>\n"
            ],
            "text/plain": [
              "<IPython.core.display.HTML object>"
            ]
          },
          "metadata": {
            "tags": []
          }
        }
      ]
    },
    {
      "cell_type": "code",
      "metadata": {
        "id": "hvs22jFCfWiW",
        "outputId": "255ce8b0-da9e-4031-d984-569625314fd2",
        "colab": {
          "base_uri": "https://localhost:8080/",
          "height": 294
        }
      },
      "source": [
        "!pip uninstall tensorflow"
      ],
      "execution_count": null,
      "outputs": [
        {
          "output_type": "stream",
          "text": [
            "Uninstalling tensorflow-1.15.0:\n",
            "  Would remove:\n",
            "    /usr/local/bin/estimator_ckpt_converter\n",
            "    /usr/local/bin/freeze_graph\n",
            "    /usr/local/bin/saved_model_cli\n",
            "    /usr/local/bin/tensorboard\n",
            "    /usr/local/bin/tf_upgrade_v2\n",
            "    /usr/local/bin/tflite_convert\n",
            "    /usr/local/bin/toco\n",
            "    /usr/local/bin/toco_from_protos\n",
            "    /usr/local/lib/python3.6/dist-packages/tensorflow-1.15.0.dist-info/*\n",
            "    /usr/local/lib/python3.6/dist-packages/tensorflow/*\n",
            "    /usr/local/lib/python3.6/dist-packages/tensorflow_core/*\n",
            "Proceed (y/n)? y\n",
            "  Successfully uninstalled tensorflow-1.15.0\n"
          ],
          "name": "stdout"
        }
      ]
    },
    {
      "cell_type": "code",
      "metadata": {
        "id": "hq4N5MqmfoPl",
        "outputId": "66f86320-0fbb-497f-c55f-3cd23ca6face",
        "colab": {
          "base_uri": "https://localhost:8080/",
          "height": 923
        }
      },
      "source": [
        "!pip install tensorflow==2.0.0"
      ],
      "execution_count": null,
      "outputs": [
        {
          "output_type": "stream",
          "text": [
            "Collecting tensorflow==2.0.0\n",
            "\u001b[?25l  Downloading https://files.pythonhosted.org/packages/46/0f/7bd55361168bb32796b360ad15a25de6966c9c1beb58a8e30c01c8279862/tensorflow-2.0.0-cp36-cp36m-manylinux2010_x86_64.whl (86.3MB)\n",
            "\u001b[K     |████████████████████████████████| 86.3MB 73kB/s \n",
            "\u001b[?25hCollecting tensorboard<2.1.0,>=2.0.0\n",
            "\u001b[?25l  Downloading https://files.pythonhosted.org/packages/76/54/99b9d5d52d5cb732f099baaaf7740403e83fe6b0cedde940fabd2b13d75a/tensorboard-2.0.2-py3-none-any.whl (3.8MB)\n",
            "\u001b[K     |████████████████████████████████| 3.8MB 42.7MB/s \n",
            "\u001b[?25hRequirement already satisfied: grpcio>=1.8.6 in /usr/local/lib/python3.6/dist-packages (from tensorflow==2.0.0) (1.27.1)\n",
            "Requirement already satisfied: gast==0.2.2 in /usr/local/lib/python3.6/dist-packages (from tensorflow==2.0.0) (0.2.2)\n",
            "Requirement already satisfied: astor>=0.6.0 in /usr/local/lib/python3.6/dist-packages (from tensorflow==2.0.0) (0.8.1)\n",
            "Requirement already satisfied: absl-py>=0.7.0 in /usr/local/lib/python3.6/dist-packages (from tensorflow==2.0.0) (0.9.0)\n",
            "Requirement already satisfied: keras-preprocessing>=1.0.5 in /usr/local/lib/python3.6/dist-packages (from tensorflow==2.0.0) (1.1.0)\n",
            "Requirement already satisfied: six>=1.10.0 in /usr/local/lib/python3.6/dist-packages (from tensorflow==2.0.0) (1.12.0)\n",
            "Requirement already satisfied: wheel>=0.26 in /usr/local/lib/python3.6/dist-packages (from tensorflow==2.0.0) (0.34.2)\n",
            "Requirement already satisfied: protobuf>=3.6.1 in /usr/local/lib/python3.6/dist-packages (from tensorflow==2.0.0) (3.10.0)\n",
            "Requirement already satisfied: google-pasta>=0.1.6 in /usr/local/lib/python3.6/dist-packages (from tensorflow==2.0.0) (0.1.8)\n",
            "Requirement already satisfied: keras-applications>=1.0.8 in /usr/local/lib/python3.6/dist-packages (from tensorflow==2.0.0) (1.0.8)\n",
            "Requirement already satisfied: numpy<2.0,>=1.16.0 in /usr/local/lib/python3.6/dist-packages (from tensorflow==2.0.0) (1.17.5)\n",
            "Requirement already satisfied: opt-einsum>=2.3.2 in /usr/local/lib/python3.6/dist-packages (from tensorflow==2.0.0) (3.1.0)\n",
            "Requirement already satisfied: wrapt>=1.11.1 in /usr/local/lib/python3.6/dist-packages (from tensorflow==2.0.0) (1.11.2)\n",
            "Collecting tensorflow-estimator<2.1.0,>=2.0.0\n",
            "\u001b[?25l  Downloading https://files.pythonhosted.org/packages/fc/08/8b927337b7019c374719145d1dceba21a8bb909b93b1ad6f8fb7d22c1ca1/tensorflow_estimator-2.0.1-py2.py3-none-any.whl (449kB)\n",
            "\u001b[K     |████████████████████████████████| 450kB 42.9MB/s \n",
            "\u001b[?25hRequirement already satisfied: termcolor>=1.1.0 in /usr/local/lib/python3.6/dist-packages (from tensorflow==2.0.0) (1.1.0)\n",
            "Requirement already satisfied: google-auth<2,>=1.6.3 in /usr/local/lib/python3.6/dist-packages (from tensorboard<2.1.0,>=2.0.0->tensorflow==2.0.0) (1.7.2)\n",
            "Requirement already satisfied: werkzeug>=0.11.15 in /usr/local/lib/python3.6/dist-packages (from tensorboard<2.1.0,>=2.0.0->tensorflow==2.0.0) (1.0.0)\n",
            "Requirement already satisfied: requests<3,>=2.21.0 in /usr/local/lib/python3.6/dist-packages (from tensorboard<2.1.0,>=2.0.0->tensorflow==2.0.0) (2.21.0)\n",
            "Requirement already satisfied: google-auth-oauthlib<0.5,>=0.4.1 in /usr/local/lib/python3.6/dist-packages (from tensorboard<2.1.0,>=2.0.0->tensorflow==2.0.0) (0.4.1)\n",
            "Requirement already satisfied: markdown>=2.6.8 in /usr/local/lib/python3.6/dist-packages (from tensorboard<2.1.0,>=2.0.0->tensorflow==2.0.0) (3.2.1)\n",
            "Requirement already satisfied: setuptools>=41.0.0 in /usr/local/lib/python3.6/dist-packages (from tensorboard<2.1.0,>=2.0.0->tensorflow==2.0.0) (45.2.0)\n",
            "Requirement already satisfied: h5py in /usr/local/lib/python3.6/dist-packages (from keras-applications>=1.0.8->tensorflow==2.0.0) (2.8.0)\n",
            "Requirement already satisfied: rsa<4.1,>=3.1.4 in /usr/local/lib/python3.6/dist-packages (from google-auth<2,>=1.6.3->tensorboard<2.1.0,>=2.0.0->tensorflow==2.0.0) (4.0)\n",
            "Requirement already satisfied: pyasn1-modules>=0.2.1 in /usr/local/lib/python3.6/dist-packages (from google-auth<2,>=1.6.3->tensorboard<2.1.0,>=2.0.0->tensorflow==2.0.0) (0.2.8)\n",
            "Requirement already satisfied: cachetools<3.2,>=2.0.0 in /usr/local/lib/python3.6/dist-packages (from google-auth<2,>=1.6.3->tensorboard<2.1.0,>=2.0.0->tensorflow==2.0.0) (3.1.1)\n",
            "Requirement already satisfied: chardet<3.1.0,>=3.0.2 in /usr/local/lib/python3.6/dist-packages (from requests<3,>=2.21.0->tensorboard<2.1.0,>=2.0.0->tensorflow==2.0.0) (3.0.4)\n",
            "Requirement already satisfied: certifi>=2017.4.17 in /usr/local/lib/python3.6/dist-packages (from requests<3,>=2.21.0->tensorboard<2.1.0,>=2.0.0->tensorflow==2.0.0) (2019.11.28)\n",
            "Requirement already satisfied: urllib3<1.25,>=1.21.1 in /usr/local/lib/python3.6/dist-packages (from requests<3,>=2.21.0->tensorboard<2.1.0,>=2.0.0->tensorflow==2.0.0) (1.24.3)\n",
            "Requirement already satisfied: idna<2.9,>=2.5 in /usr/local/lib/python3.6/dist-packages (from requests<3,>=2.21.0->tensorboard<2.1.0,>=2.0.0->tensorflow==2.0.0) (2.8)\n",
            "Requirement already satisfied: requests-oauthlib>=0.7.0 in /usr/local/lib/python3.6/dist-packages (from google-auth-oauthlib<0.5,>=0.4.1->tensorboard<2.1.0,>=2.0.0->tensorflow==2.0.0) (1.3.0)\n",
            "Requirement already satisfied: pyasn1>=0.1.3 in /usr/local/lib/python3.6/dist-packages (from rsa<4.1,>=3.1.4->google-auth<2,>=1.6.3->tensorboard<2.1.0,>=2.0.0->tensorflow==2.0.0) (0.4.8)\n",
            "Requirement already satisfied: oauthlib>=3.0.0 in /usr/local/lib/python3.6/dist-packages (from requests-oauthlib>=0.7.0->google-auth-oauthlib<0.5,>=0.4.1->tensorboard<2.1.0,>=2.0.0->tensorflow==2.0.0) (3.1.0)\n",
            "Installing collected packages: tensorboard, tensorflow-estimator, tensorflow\n",
            "  Found existing installation: tensorboard 1.15.0\n",
            "    Uninstalling tensorboard-1.15.0:\n",
            "      Successfully uninstalled tensorboard-1.15.0\n",
            "  Found existing installation: tensorflow-estimator 1.15.1\n",
            "    Uninstalling tensorflow-estimator-1.15.1:\n",
            "      Successfully uninstalled tensorflow-estimator-1.15.1\n",
            "Successfully installed tensorboard-2.0.2 tensorflow-2.0.0 tensorflow-estimator-2.0.1\n"
          ],
          "name": "stdout"
        }
      ]
    },
    {
      "cell_type": "code",
      "metadata": {
        "id": "TWm6XW57gkf2",
        "outputId": "ef382fca-86bd-4042-b549-845eaf8953d3",
        "colab": {
          "base_uri": "https://localhost:8080/",
          "height": 885
        }
      },
      "source": [
        " import tensorflow as tf\n",
        " help(tf)"
      ],
      "execution_count": null,
      "outputs": [
        {
          "output_type": "stream",
          "text": [
            "Help on package tensorflow:\n",
            "\n",
            "NAME\n",
            "    tensorflow - TensorFlow root package\n",
            "\n",
            "PACKAGE CONTENTS\n",
            "\n",
            "\n",
            "DATA\n",
            "    __compiler_version__ = '7.3.1 20180303'\n",
            "    __cxx11_abi_flag__ = 0\n",
            "    __git_version__ = 'v2.0.0-rc2-26-g64c3d38'\n",
            "    __monolithic_build__ = 0\n",
            "    bfloat16 = tf.bfloat16\n",
            "    bool = tf.bool\n",
            "    complex128 = tf.complex128\n",
            "    complex64 = tf.complex64\n",
            "    double = tf.float64\n",
            "    float16 = tf.float16\n",
            "    float32 = tf.float32\n",
            "    float64 = tf.float64\n",
            "    half = tf.float16\n",
            "    int16 = tf.int16\n",
            "    int32 = tf.int32\n",
            "    int64 = tf.int64\n",
            "    int8 = tf.int8\n",
            "    newaxis = None\n",
            "    qint16 = tf.qint16\n",
            "    qint32 = tf.qint32\n",
            "    qint8 = tf.qint8\n",
            "    quint16 = tf.quint16\n",
            "    quint8 = tf.quint8\n",
            "    resource = tf.resource\n",
            "    string = tf.string\n",
            "    uint16 = tf.uint16\n",
            "    uint32 = tf.uint32\n",
            "    uint64 = tf.uint64\n",
            "    uint8 = tf.uint8\n",
            "    variant = tf.variant\n",
            "\n",
            "VERSION\n",
            "    2.0.0\n",
            "\n",
            "FILE\n",
            "    /usr/local/lib/python3.6/dist-packages/tensorflow/__init__.py\n",
            "\n",
            "\n"
          ],
          "name": "stdout"
        }
      ]
    },
    {
      "cell_type": "code",
      "metadata": {
        "id": "FlaQuR3Thicm",
        "outputId": "2b6ac9ff-0794-4f55-90ae-7d8b5f49c069",
        "colab": {
          "base_uri": "https://localhost:8080/",
          "height": 35
        }
      },
      "source": [
        "import pandas as pd\n",
        "import numpy as np\n",
        "from sklearn.model_selection import train_test_split,cross_val_score\n",
        "from sklearn.preprocessing import StandardScaler\n",
        "from sklearn.linear_model import LinearRegression,LogisticRegression\n",
        "from sklearn.metrics import accuracy_score,confusion_matrix\n",
        "from sklearn.svm import SVC\n",
        "from sklearn.preprocessing import LabelEncoder\n",
        "import matplotlib.pyplot as plt\n",
        "import math\n",
        "from keras.models import Sequential\n",
        "from keras.layers import Dense,Softmax\n",
        "from sklearn.neighbors import KNeighborsClassifier\n",
        "from sklearn.naive_bayes import GaussianNB\n",
        "from sklearn.preprocessing import OneHotEncoder\n",
        "import seaborn as sns"
      ],
      "execution_count": null,
      "outputs": [
        {
          "output_type": "stream",
          "text": [
            "Using TensorFlow backend.\n"
          ],
          "name": "stderr"
        }
      ]
    },
    {
      "cell_type": "markdown",
      "metadata": {
        "id": "j1lkkp5lhtgQ"
      },
      "source": [
        "# Data loading\n"
      ]
    },
    {
      "cell_type": "code",
      "metadata": {
        "id": "CQIEcIqehn46",
        "outputId": "3ab24995-08a4-4a8f-814f-250c6e69cc2c",
        "colab": {
          "resources": {
            "http://localhost:8080/nbextensions/google.colab/files.js": {
              "data": "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",
              "ok": true,
              "headers": [
                [
                  "content-type",
                  "application/javascript"
                ]
              ],
              "status": 200,
              "status_text": "OK"
            }
          },
          "base_uri": "https://localhost:8080/",
          "height": 75
        }
      },
      "source": [
        "from google.colab import files\n",
        "uploaded = files.upload()"
      ],
      "execution_count": null,
      "outputs": [
        {
          "output_type": "display_data",
          "data": {
            "text/html": [
              "\n",
              "     <input type=\"file\" id=\"files-af85efa5-43de-469b-b8ad-868adaf19182\" name=\"files[]\" multiple disabled />\n",
              "     <output id=\"result-af85efa5-43de-469b-b8ad-868adaf19182\">\n",
              "      Upload widget is only available when the cell has been executed in the\n",
              "      current browser session. Please rerun this cell to enable.\n",
              "      </output>\n",
              "      <script src=\"/nbextensions/google.colab/files.js\"></script> "
            ],
            "text/plain": [
              "<IPython.core.display.HTML object>"
            ]
          },
          "metadata": {
            "tags": []
          }
        },
        {
          "output_type": "stream",
          "text": [
            "Saving crx2.csv to crx2.csv\n"
          ],
          "name": "stdout"
        }
      ]
    },
    {
      "cell_type": "code",
      "metadata": {
        "id": "e9rboQhHeLat",
        "outputId": "d454f5eb-8d86-458f-b3ff-caf82e65b8e3",
        "colab": {
          "base_uri": "https://localhost:8080/",
          "height": 206
        }
      },
      "source": [
        "data= pd.read_csv('crx2.csv')\n",
        "data.head()"
      ],
      "execution_count": null,
      "outputs": [
        {
          "output_type": "execute_result",
          "data": {
            "text/html": [
              "<div>\n",
              "<style scoped>\n",
              "    .dataframe tbody tr th:only-of-type {\n",
              "        vertical-align: middle;\n",
              "    }\n",
              "\n",
              "    .dataframe tbody tr th {\n",
              "        vertical-align: top;\n",
              "    }\n",
              "\n",
              "    .dataframe thead th {\n",
              "        text-align: right;\n",
              "    }\n",
              "</style>\n",
              "<table border=\"1\" class=\"dataframe\">\n",
              "  <thead>\n",
              "    <tr style=\"text-align: right;\">\n",
              "      <th></th>\n",
              "      <th>C0</th>\n",
              "      <th>C1</th>\n",
              "      <th>C2</th>\n",
              "      <th>C3</th>\n",
              "      <th>C4</th>\n",
              "      <th>C5</th>\n",
              "      <th>C6</th>\n",
              "      <th>C7</th>\n",
              "      <th>C8</th>\n",
              "      <th>C9</th>\n",
              "      <th>C10</th>\n",
              "      <th>C11</th>\n",
              "      <th>C12</th>\n",
              "      <th>C13</th>\n",
              "      <th>C14</th>\n",
              "      <th>C15</th>\n",
              "    </tr>\n",
              "  </thead>\n",
              "  <tbody>\n",
              "    <tr>\n",
              "      <th>0</th>\n",
              "      <td>b</td>\n",
              "      <td>30.83</td>\n",
              "      <td>0.000</td>\n",
              "      <td>u</td>\n",
              "      <td>g</td>\n",
              "      <td>w</td>\n",
              "      <td>v</td>\n",
              "      <td>1.25</td>\n",
              "      <td>t</td>\n",
              "      <td>t</td>\n",
              "      <td>1</td>\n",
              "      <td>f</td>\n",
              "      <td>g</td>\n",
              "      <td>202</td>\n",
              "      <td>0</td>\n",
              "      <td>+</td>\n",
              "    </tr>\n",
              "    <tr>\n",
              "      <th>1</th>\n",
              "      <td>a</td>\n",
              "      <td>58.67</td>\n",
              "      <td>4.460</td>\n",
              "      <td>u</td>\n",
              "      <td>g</td>\n",
              "      <td>q</td>\n",
              "      <td>h</td>\n",
              "      <td>3.04</td>\n",
              "      <td>t</td>\n",
              "      <td>t</td>\n",
              "      <td>6</td>\n",
              "      <td>f</td>\n",
              "      <td>g</td>\n",
              "      <td>43</td>\n",
              "      <td>560</td>\n",
              "      <td>+</td>\n",
              "    </tr>\n",
              "    <tr>\n",
              "      <th>2</th>\n",
              "      <td>a</td>\n",
              "      <td>24.5</td>\n",
              "      <td>0.500</td>\n",
              "      <td>u</td>\n",
              "      <td>g</td>\n",
              "      <td>q</td>\n",
              "      <td>h</td>\n",
              "      <td>1.50</td>\n",
              "      <td>t</td>\n",
              "      <td>f</td>\n",
              "      <td>0</td>\n",
              "      <td>f</td>\n",
              "      <td>g</td>\n",
              "      <td>280</td>\n",
              "      <td>824</td>\n",
              "      <td>+</td>\n",
              "    </tr>\n",
              "    <tr>\n",
              "      <th>3</th>\n",
              "      <td>b</td>\n",
              "      <td>27.83</td>\n",
              "      <td>1.540</td>\n",
              "      <td>u</td>\n",
              "      <td>g</td>\n",
              "      <td>w</td>\n",
              "      <td>v</td>\n",
              "      <td>3.75</td>\n",
              "      <td>t</td>\n",
              "      <td>t</td>\n",
              "      <td>5</td>\n",
              "      <td>t</td>\n",
              "      <td>g</td>\n",
              "      <td>100</td>\n",
              "      <td>3</td>\n",
              "      <td>+</td>\n",
              "    </tr>\n",
              "    <tr>\n",
              "      <th>4</th>\n",
              "      <td>b</td>\n",
              "      <td>20.17</td>\n",
              "      <td>5.625</td>\n",
              "      <td>u</td>\n",
              "      <td>g</td>\n",
              "      <td>w</td>\n",
              "      <td>v</td>\n",
              "      <td>1.71</td>\n",
              "      <td>t</td>\n",
              "      <td>f</td>\n",
              "      <td>0</td>\n",
              "      <td>f</td>\n",
              "      <td>s</td>\n",
              "      <td>120</td>\n",
              "      <td>0</td>\n",
              "      <td>+</td>\n",
              "    </tr>\n",
              "  </tbody>\n",
              "</table>\n",
              "</div>"
            ],
            "text/plain": [
              "  C0     C1     C2 C3 C4 C5 C6    C7 C8 C9  C10 C11 C12  C13  C14 C15\n",
              "0  b  30.83  0.000  u  g  w  v  1.25  t  t    1   f   g  202    0   +\n",
              "1  a  58.67  4.460  u  g  q  h  3.04  t  t    6   f   g   43  560   +\n",
              "2  a   24.5  0.500  u  g  q  h  1.50  t  f    0   f   g  280  824   +\n",
              "3  b  27.83  1.540  u  g  w  v  3.75  t  t    5   t   g  100    3   +\n",
              "4  b  20.17  5.625  u  g  w  v  1.71  t  f    0   f   s  120    0   +"
            ]
          },
          "metadata": {
            "tags": []
          },
          "execution_count": 9
        }
      ]
    },
    {
      "cell_type": "code",
      "metadata": {
        "id": "WLx5zlq9iOxc",
        "outputId": "8453a846-1358-4c14-a513-22aac9a20b3f",
        "colab": {
          "resources": {
            "http://localhost:8080/nbextensions/google.colab/files.js": {
              "data": "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",
              "ok": true,
              "headers": [
                [
                  "content-type",
                  "application/javascript"
                ]
              ],
              "status": 200,
              "status_text": "OK"
            }
          },
          "base_uri": "https://localhost:8080/",
          "height": 75
        }
      },
      "source": [
        "from google.colab import files\n",
        "uploaded = files.upload()"
      ],
      "execution_count": null,
      "outputs": [
        {
          "output_type": "display_data",
          "data": {
            "text/html": [
              "\n",
              "     <input type=\"file\" id=\"files-7c300e8b-0b69-4352-bf61-70d9e823aa8e\" name=\"files[]\" multiple disabled />\n",
              "     <output id=\"result-7c300e8b-0b69-4352-bf61-70d9e823aa8e\">\n",
              "      Upload widget is only available when the cell has been executed in the\n",
              "      current browser session. Please rerun this cell to enable.\n",
              "      </output>\n",
              "      <script src=\"/nbextensions/google.colab/files.js\"></script> "
            ],
            "text/plain": [
              "<IPython.core.display.HTML object>"
            ]
          },
          "metadata": {
            "tags": []
          }
        },
        {
          "output_type": "stream",
          "text": [
            "Saving credit1.csv to credit1.csv\n"
          ],
          "name": "stdout"
        }
      ]
    },
    {
      "cell_type": "code",
      "metadata": {
        "id": "BRB5dBOAeLbL",
        "outputId": "6cb1c380-585c-4e70-bc2e-834a70e49854",
        "colab": {
          "base_uri": "https://localhost:8080/",
          "height": 330
        }
      },
      "source": [
        "data1= pd.read_csv('credit1.csv')\n",
        "data1.head()"
      ],
      "execution_count": null,
      "outputs": [
        {
          "output_type": "execute_result",
          "data": {
            "text/html": [
              "<div>\n",
              "<style scoped>\n",
              "    .dataframe tbody tr th:only-of-type {\n",
              "        vertical-align: middle;\n",
              "    }\n",
              "\n",
              "    .dataframe tbody tr th {\n",
              "        vertical-align: top;\n",
              "    }\n",
              "\n",
              "    .dataframe thead th {\n",
              "        text-align: right;\n",
              "    }\n",
              "</style>\n",
              "<table border=\"1\" class=\"dataframe\">\n",
              "  <thead>\n",
              "    <tr style=\"text-align: right;\">\n",
              "      <th></th>\n",
              "      <th>checking_balance</th>\n",
              "      <th>months_loan_duration</th>\n",
              "      <th>credit_history</th>\n",
              "      <th>purpose</th>\n",
              "      <th>amount</th>\n",
              "      <th>savings_balance</th>\n",
              "      <th>employment_length</th>\n",
              "      <th>installment_rate</th>\n",
              "      <th>personal_status</th>\n",
              "      <th>other_debtors</th>\n",
              "      <th>residence_history</th>\n",
              "      <th>property</th>\n",
              "      <th>age</th>\n",
              "      <th>installment_plan</th>\n",
              "      <th>housing</th>\n",
              "      <th>existing_credits</th>\n",
              "      <th>default</th>\n",
              "      <th>dependents</th>\n",
              "      <th>telephone</th>\n",
              "      <th>foreign_worker</th>\n",
              "      <th>job</th>\n",
              "    </tr>\n",
              "  </thead>\n",
              "  <tbody>\n",
              "    <tr>\n",
              "      <th>0</th>\n",
              "      <td>&lt; 0 DM</td>\n",
              "      <td>6</td>\n",
              "      <td>critical</td>\n",
              "      <td>radio/tv</td>\n",
              "      <td>1169</td>\n",
              "      <td>unknown</td>\n",
              "      <td>&gt; 7 yrs</td>\n",
              "      <td>4</td>\n",
              "      <td>single male</td>\n",
              "      <td>none</td>\n",
              "      <td>4</td>\n",
              "      <td>real estate</td>\n",
              "      <td>67</td>\n",
              "      <td>none</td>\n",
              "      <td>own</td>\n",
              "      <td>2</td>\n",
              "      <td>1</td>\n",
              "      <td>1</td>\n",
              "      <td>yes</td>\n",
              "      <td>yes</td>\n",
              "      <td>skilled employee</td>\n",
              "    </tr>\n",
              "    <tr>\n",
              "      <th>1</th>\n",
              "      <td>1 - 200 DM</td>\n",
              "      <td>48</td>\n",
              "      <td>repaid</td>\n",
              "      <td>radio/tv</td>\n",
              "      <td>5951</td>\n",
              "      <td>&lt; 100 DM</td>\n",
              "      <td>1 - 4 yrs</td>\n",
              "      <td>2</td>\n",
              "      <td>female</td>\n",
              "      <td>none</td>\n",
              "      <td>2</td>\n",
              "      <td>real estate</td>\n",
              "      <td>22</td>\n",
              "      <td>none</td>\n",
              "      <td>own</td>\n",
              "      <td>1</td>\n",
              "      <td>2</td>\n",
              "      <td>1</td>\n",
              "      <td>none</td>\n",
              "      <td>yes</td>\n",
              "      <td>skilled employee</td>\n",
              "    </tr>\n",
              "    <tr>\n",
              "      <th>2</th>\n",
              "      <td>unknown</td>\n",
              "      <td>12</td>\n",
              "      <td>critical</td>\n",
              "      <td>education</td>\n",
              "      <td>2096</td>\n",
              "      <td>&lt; 100 DM</td>\n",
              "      <td>4 - 7 yrs</td>\n",
              "      <td>2</td>\n",
              "      <td>single male</td>\n",
              "      <td>none</td>\n",
              "      <td>3</td>\n",
              "      <td>real estate</td>\n",
              "      <td>49</td>\n",
              "      <td>none</td>\n",
              "      <td>own</td>\n",
              "      <td>1</td>\n",
              "      <td>1</td>\n",
              "      <td>2</td>\n",
              "      <td>none</td>\n",
              "      <td>yes</td>\n",
              "      <td>unskilled resident</td>\n",
              "    </tr>\n",
              "    <tr>\n",
              "      <th>3</th>\n",
              "      <td>&lt; 0 DM</td>\n",
              "      <td>42</td>\n",
              "      <td>repaid</td>\n",
              "      <td>furniture</td>\n",
              "      <td>7882</td>\n",
              "      <td>&lt; 100 DM</td>\n",
              "      <td>4 - 7 yrs</td>\n",
              "      <td>2</td>\n",
              "      <td>single male</td>\n",
              "      <td>guarantor</td>\n",
              "      <td>4</td>\n",
              "      <td>building society savings</td>\n",
              "      <td>45</td>\n",
              "      <td>none</td>\n",
              "      <td>for free</td>\n",
              "      <td>1</td>\n",
              "      <td>1</td>\n",
              "      <td>2</td>\n",
              "      <td>none</td>\n",
              "      <td>yes</td>\n",
              "      <td>skilled employee</td>\n",
              "    </tr>\n",
              "    <tr>\n",
              "      <th>4</th>\n",
              "      <td>&lt; 0 DM</td>\n",
              "      <td>24</td>\n",
              "      <td>delayed</td>\n",
              "      <td>car (new)</td>\n",
              "      <td>4870</td>\n",
              "      <td>&lt; 100 DM</td>\n",
              "      <td>1 - 4 yrs</td>\n",
              "      <td>3</td>\n",
              "      <td>single male</td>\n",
              "      <td>none</td>\n",
              "      <td>4</td>\n",
              "      <td>unknown/none</td>\n",
              "      <td>53</td>\n",
              "      <td>none</td>\n",
              "      <td>for free</td>\n",
              "      <td>2</td>\n",
              "      <td>2</td>\n",
              "      <td>2</td>\n",
              "      <td>none</td>\n",
              "      <td>yes</td>\n",
              "      <td>skilled employee</td>\n",
              "    </tr>\n",
              "  </tbody>\n",
              "</table>\n",
              "</div>"
            ],
            "text/plain": [
              "  checking_balance  months_loan_duration  ... foreign_worker                 job\n",
              "0           < 0 DM                     6  ...            yes    skilled employee\n",
              "1       1 - 200 DM                    48  ...            yes    skilled employee\n",
              "2          unknown                    12  ...            yes  unskilled resident\n",
              "3           < 0 DM                    42  ...            yes    skilled employee\n",
              "4           < 0 DM                    24  ...            yes    skilled employee\n",
              "\n",
              "[5 rows x 21 columns]"
            ]
          },
          "metadata": {
            "tags": []
          },
          "execution_count": 11
        }
      ]
    },
    {
      "cell_type": "markdown",
      "metadata": {
        "id": "dKzw99HjeLbm"
      },
      "source": [
        "# label encoding"
      ]
    },
    {
      "cell_type": "code",
      "metadata": {
        "id": "7pkRP3XyeLbs",
        "outputId": "5371d79c-374a-484a-c632-56e6e96bf1ed",
        "colab": {
          "base_uri": "https://localhost:8080/",
          "height": 35
        }
      },
      "source": [
        "label_encoder=LabelEncoder()\n",
        "print(type(data['C1'].values[0]))\n",
        "columns=data.columns\n",
        "for cols in columns:\n",
        "   # print(cols)\n",
        "    if(isinstance(data[cols].values[0],str)):\n",
        "        data[cols]=label_encoder.fit_transform(data[cols].values)"
      ],
      "execution_count": null,
      "outputs": [
        {
          "output_type": "stream",
          "text": [
            "<class 'numpy.int64'>\n"
          ],
          "name": "stdout"
        }
      ]
    },
    {
      "cell_type": "code",
      "metadata": {
        "id": "YIlSv2AaeLcI",
        "outputId": "6c7c84bb-d4e5-4550-c3d5-7c89cca3e189",
        "colab": {
          "base_uri": "https://localhost:8080/",
          "height": 35
        }
      },
      "source": [
        "label_encoder=LabelEncoder()\n",
        "print(type(data1['checking_balance'].values[0]))\n",
        "columns=data1.columns\n",
        "for cols in columns:\n",
        "   # print(cols)\n",
        "    if(isinstance(data1[cols].values[0],str)):\n",
        "        data1[cols]=label_encoder.fit_transform(data1[cols].values)"
      ],
      "execution_count": null,
      "outputs": [
        {
          "output_type": "stream",
          "text": [
            "<class 'numpy.int64'>\n"
          ],
          "name": "stdout"
        }
      ]
    },
    {
      "cell_type": "code",
      "metadata": {
        "id": "5dhuEeCneLcc",
        "outputId": "f56a219d-d846-4d6c-e3d5-2e5235248a22",
        "colab": {
          "base_uri": "https://localhost:8080/",
          "height": 300
        }
      },
      "source": [
        "sns.countplot(data['C15'])"
      ],
      "execution_count": null,
      "outputs": [
        {
          "output_type": "execute_result",
          "data": {
            "text/plain": [
              "<matplotlib.axes._subplots.AxesSubplot at 0x7fe7a4267898>"
            ]
          },
          "metadata": {
            "tags": []
          },
          "execution_count": 16
        },
        {
          "output_type": "display_data",
          "data": {
            "image/png": "[encoded data removed]",
            "text/plain": [
              "<Figure size 432x288 with 1 Axes>"
            ]
          },
          "metadata": {
            "tags": []
          }
        }
      ]
    },
    {
      "cell_type": "code",
      "metadata": {
        "id": "s0xglzSSeLct",
        "outputId": "07d2336e-7704-480a-fd7e-f2dc332f0552",
        "colab": {
          "base_uri": "https://localhost:8080/",
          "height": 226
        }
      },
      "source": [
        "data1.head()"
      ],
      "execution_count": null,
      "outputs": [
        {
          "output_type": "execute_result",
          "data": {
            "text/html": [
              "<div>\n",
              "<style scoped>\n",
              "    .dataframe tbody tr th:only-of-type {\n",
              "        vertical-align: middle;\n",
              "    }\n",
              "\n",
              "    .dataframe tbody tr th {\n",
              "        vertical-align: top;\n",
              "    }\n",
              "\n",
              "    .dataframe thead th {\n",
              "        text-align: right;\n",
              "    }\n",
              "</style>\n",
              "<table border=\"1\" class=\"dataframe\">\n",
              "  <thead>\n",
              "    <tr style=\"text-align: right;\">\n",
              "      <th></th>\n",
              "      <th>checking_balance</th>\n",
              "      <th>months_loan_duration</th>\n",
              "      <th>credit_history</th>\n",
              "      <th>purpose</th>\n",
              "      <th>amount</th>\n",
              "      <th>savings_balance</th>\n",
              "      <th>employment_length</th>\n",
              "      <th>installment_rate</th>\n",
              "      <th>personal_status</th>\n",
              "      <th>other_debtors</th>\n",
              "      <th>residence_history</th>\n",
              "      <th>property</th>\n",
              "      <th>age</th>\n",
              "      <th>installment_plan</th>\n",
              "      <th>housing</th>\n",
              "      <th>existing_credits</th>\n",
              "      <th>default</th>\n",
              "      <th>dependents</th>\n",
              "      <th>telephone</th>\n",
              "      <th>foreign_worker</th>\n",
              "      <th>job</th>\n",
              "    </tr>\n",
              "  </thead>\n",
              "  <tbody>\n",
              "    <tr>\n",
              "      <th>0</th>\n",
              "      <td>1</td>\n",
              "      <td>6</td>\n",
              "      <td>0</td>\n",
              "      <td>7</td>\n",
              "      <td>1169</td>\n",
              "      <td>4</td>\n",
              "      <td>3</td>\n",
              "      <td>4</td>\n",
              "      <td>3</td>\n",
              "      <td>2</td>\n",
              "      <td>4</td>\n",
              "      <td>2</td>\n",
              "      <td>67</td>\n",
              "      <td>1</td>\n",
              "      <td>1</td>\n",
              "      <td>2</td>\n",
              "      <td>1</td>\n",
              "      <td>1</td>\n",
              "      <td>1</td>\n",
              "      <td>1</td>\n",
              "      <td>1</td>\n",
              "    </tr>\n",
              "    <tr>\n",
              "      <th>1</th>\n",
              "      <td>0</td>\n",
              "      <td>48</td>\n",
              "      <td>4</td>\n",
              "      <td>7</td>\n",
              "      <td>5951</td>\n",
              "      <td>2</td>\n",
              "      <td>1</td>\n",
              "      <td>2</td>\n",
              "      <td>1</td>\n",
              "      <td>2</td>\n",
              "      <td>2</td>\n",
              "      <td>2</td>\n",
              "      <td>22</td>\n",
              "      <td>1</td>\n",
              "      <td>1</td>\n",
              "      <td>1</td>\n",
              "      <td>2</td>\n",
              "      <td>1</td>\n",
              "      <td>0</td>\n",
              "      <td>1</td>\n",
              "      <td>1</td>\n",
              "    </tr>\n",
              "    <tr>\n",
              "      <th>2</th>\n",
              "      <td>3</td>\n",
              "      <td>12</td>\n",
              "      <td>0</td>\n",
              "      <td>4</td>\n",
              "      <td>2096</td>\n",
              "      <td>2</td>\n",
              "      <td>2</td>\n",
              "      <td>2</td>\n",
              "      <td>3</td>\n",
              "      <td>2</td>\n",
              "      <td>3</td>\n",
              "      <td>2</td>\n",
              "      <td>49</td>\n",
              "      <td>1</td>\n",
              "      <td>1</td>\n",
              "      <td>1</td>\n",
              "      <td>1</td>\n",
              "      <td>2</td>\n",
              "      <td>0</td>\n",
              "      <td>1</td>\n",
              "      <td>3</td>\n",
              "    </tr>\n",
              "    <tr>\n",
              "      <th>3</th>\n",
              "      <td>1</td>\n",
              "      <td>42</td>\n",
              "      <td>4</td>\n",
              "      <td>5</td>\n",
              "      <td>7882</td>\n",
              "      <td>2</td>\n",
              "      <td>2</td>\n",
              "      <td>2</td>\n",
              "      <td>3</td>\n",
              "      <td>1</td>\n",
              "      <td>4</td>\n",
              "      <td>0</td>\n",
              "      <td>45</td>\n",
              "      <td>1</td>\n",
              "      <td>0</td>\n",
              "      <td>1</td>\n",
              "      <td>1</td>\n",
              "      <td>2</td>\n",
              "      <td>0</td>\n",
              "      <td>1</td>\n",
              "      <td>1</td>\n",
              "    </tr>\n",
              "    <tr>\n",
              "      <th>4</th>\n",
              "      <td>1</td>\n",
              "      <td>24</td>\n",
              "      <td>1</td>\n",
              "      <td>1</td>\n",
              "      <td>4870</td>\n",
              "      <td>2</td>\n",
              "      <td>1</td>\n",
              "      <td>3</td>\n",
              "      <td>3</td>\n",
              "      <td>2</td>\n",
              "      <td>4</td>\n",
              "      <td>3</td>\n",
              "      <td>53</td>\n",
              "      <td>1</td>\n",
              "      <td>0</td>\n",
              "      <td>2</td>\n",
              "      <td>2</td>\n",
              "      <td>2</td>\n",
              "      <td>0</td>\n",
              "      <td>1</td>\n",
              "      <td>1</td>\n",
              "    </tr>\n",
              "  </tbody>\n",
              "</table>\n",
              "</div>"
            ],
            "text/plain": [
              "   checking_balance  months_loan_duration  ...  foreign_worker  job\n",
              "0                 1                     6  ...               1    1\n",
              "1                 0                    48  ...               1    1\n",
              "2                 3                    12  ...               1    3\n",
              "3                 1                    42  ...               1    1\n",
              "4                 1                    24  ...               1    1\n",
              "\n",
              "[5 rows x 21 columns]"
            ]
          },
          "metadata": {
            "tags": []
          },
          "execution_count": 17
        }
      ]
    },
    {
      "cell_type": "code",
      "metadata": {
        "id": "13pj4FVmeLc-",
        "outputId": "b7e7de0e-a416-45a3-a8fa-dd5794634969",
        "colab": {
          "base_uri": "https://localhost:8080/",
          "height": 297
        }
      },
      "source": [
        "sns.countplot(data1['default'])"
      ],
      "execution_count": null,
      "outputs": [
        {
          "output_type": "execute_result",
          "data": {
            "text/plain": [
              "<matplotlib.axes._subplots.AxesSubplot at 0x7fe7a4201be0>"
            ]
          },
          "metadata": {
            "tags": []
          },
          "execution_count": 18
        },
        {
          "output_type": "display_data",
          "data": {
            "image/png": "[encoded data removed]",
            "text/plain": [
              "<Figure size 432x288 with 1 Axes>"
            ]
          },
          "metadata": {
            "tags": []
          }
        }
      ]
    },
    {
      "cell_type": "markdown",
      "metadata": {
        "id": "ekDgOQGdeLdR"
      },
      "source": [
        "# data cleaning"
      ]
    },
    {
      "cell_type": "code",
      "metadata": {
        "id": "L862aUuqeLdX",
        "outputId": "7635101b-5e61-4f6d-fb51-5e442a519d44",
        "colab": {
          "base_uri": "https://localhost:8080/",
          "height": 35
        }
      },
      "source": [
        "print(type(data['C1'].values[86]),data['C1'].values[98])"
      ],
      "execution_count": null,
      "outputs": [
        {
          "output_type": "stream",
          "text": [
            "<class 'numpy.int64'> 69\n"
          ],
          "name": "stdout"
        }
      ]
    },
    {
      "cell_type": "code",
      "metadata": {
        "id": "SqnoJQ8_eLdn",
        "outputId": "15c08d51-24c4-43a3-dc38-86ef970d9ef7",
        "colab": {
          "base_uri": "https://localhost:8080/",
          "height": 423
        }
      },
      "source": [
        "data1.isnull().sum()"
      ],
      "execution_count": null,
      "outputs": [
        {
          "output_type": "execute_result",
          "data": {
            "text/plain": [
              "checking_balance        0\n",
              "months_loan_duration    0\n",
              "credit_history          0\n",
              "purpose                 0\n",
              "amount                  0\n",
              "savings_balance         0\n",
              "employment_length       0\n",
              "installment_rate        0\n",
              "personal_status         0\n",
              "other_debtors           0\n",
              "residence_history       0\n",
              "property                0\n",
              "age                     0\n",
              "installment_plan        0\n",
              "housing                 0\n",
              "existing_credits        0\n",
              "default                 0\n",
              "dependents              0\n",
              "telephone               0\n",
              "foreign_worker          0\n",
              "job                     0\n",
              "dtype: int64"
            ]
          },
          "metadata": {
            "tags": []
          },
          "execution_count": 20
        }
      ]
    },
    {
      "cell_type": "code",
      "metadata": {
        "id": "VHHJ2AQMeLd8"
      },
      "source": [
        "x=data.drop(['C15'],axis=1).values\n",
        "y=data['C15'].values\n"
      ],
      "execution_count": null,
      "outputs": []
    },
    {
      "cell_type": "code",
      "metadata": {
        "id": "gDwPEEIeeLeP",
        "outputId": "97a8007f-8322-4b9a-923d-3c21b3d07bea",
        "colab": {
          "base_uri": "https://localhost:8080/",
          "height": 35
        }
      },
      "source": [
        "X_train,X_test,Y_train,Y_test=train_test_split(x,y,stratify=y,test_size=0.2,random_state=False)\n",
        "scaler=StandardScaler()\n",
        "x_train=scaler.fit_transform(X_train)\n",
        "x_test=scaler.transform(X_test)\n",
        "print(X_train.shape,X_test.shape)"
      ],
      "execution_count": null,
      "outputs": [
        {
          "output_type": "stream",
          "text": [
            "(552, 15) (138, 15)\n"
          ],
          "name": "stdout"
        }
      ]
    },
    {
      "cell_type": "code",
      "metadata": {
        "id": "nIG0xBGTmENl"
      },
      "source": [
        "x1=data1.drop(['default'],axis=1).values\n",
        "y1=data1['default'].values\n"
      ],
      "execution_count": null,
      "outputs": []
    },
    {
      "cell_type": "code",
      "metadata": {
        "id": "KoE7aVOfeLed",
        "outputId": "f5cb623c-75aa-4842-ee31-1e0175dd7564",
        "colab": {
          "base_uri": "https://localhost:8080/",
          "height": 35
        }
      },
      "source": [
        "X_train1,X_test1,Y_train1,Y_test1=train_test_split(x1,y1,stratify=y1,test_size=0.2,random_state=False)\n",
        "scaler=StandardScaler()\n",
        "x_train1=scaler.fit_transform(X_train1)\n",
        "x_test1=scaler.transform(X_test1)\n",
        "print(X_train1.shape,X_test1.shape)"
      ],
      "execution_count": null,
      "outputs": [
        {
          "output_type": "stream",
          "text": [
            "(800, 20) (200, 20)\n"
          ],
          "name": "stdout"
        }
      ]
    },
    {
      "cell_type": "code",
      "metadata": {
        "id": "dSw9Wmj7eLer",
        "outputId": "b8b8321d-68ca-4c08-d0d7-99f2097269dc",
        "colab": {
          "base_uri": "https://localhost:8080/",
          "height": 35
        }
      },
      "source": [
        "Y_train1.shape"
      ],
      "execution_count": null,
      "outputs": [
        {
          "output_type": "execute_result",
          "data": {
            "text/plain": [
              "(800,)"
            ]
          },
          "metadata": {
            "tags": []
          },
          "execution_count": 25
        }
      ]
    },
    {
      "cell_type": "code",
      "metadata": {
        "id": "xWsbGxhaeLe8",
        "outputId": "24799460-19ef-4f60-943f-cd3bd96a6935",
        "colab": {
          "base_uri": "https://localhost:8080/",
          "height": 338
        }
      },
      "source": [
        "svm=SVC()\n",
        "svm.fit(x_train1,Y_train1)\n",
        "y_pred=svm.predict(x_test1)\n",
        "print(accuracy_score(y_pred,Y_test1))\n",
        "print(confusion_matrix(y_pred,Y_test1))\n",
        "plt.imshow(confusion_matrix(y_pred,Y_test1))\n",
        "plt.xlabel(\"Predicted labels\")\n",
        "plt.ylabel(\"True labels\")\n",
        "plt.show()"
      ],
      "execution_count": null,
      "outputs": [
        {
          "output_type": "stream",
          "text": [
            "0.73\n",
            "[[133  47]\n",
            " [  7  13]]\n"
          ],
          "name": "stdout"
        },
        {
          "output_type": "display_data",
          "data": {
            "image/png": "[encoded data removed]",
            "text/plain": [
              "<Figure size 432x288 with 1 Axes>"
            ]
          },
          "metadata": {
            "tags": []
          }
        }
      ]
    },
    {
      "cell_type": "code",
      "metadata": {
        "id": "I43D6vQBm4C3",
        "outputId": "71dcfb31-cb52-437f-9554-8dba9ed56d8c",
        "colab": {
          "base_uri": "https://localhost:8080/",
          "height": 338
        }
      },
      "source": [
        "svm=SVC()\n",
        "svm.fit(x_train,Y_train)\n",
        "y_pred=svm.predict(x_test)\n",
        "print(accuracy_score(y_pred,Y_test))\n",
        "print(confusion_matrix(y_pred,Y_test))\n",
        "plt.imshow(confusion_matrix(y_pred,Y_test))\n",
        "plt.xlabel(\"Predicted labels\")\n",
        "plt.ylabel(\"True labels\")\n",
        "plt.show()"
      ],
      "execution_count": null,
      "outputs": [
        {
          "output_type": "stream",
          "text": [
            "0.8840579710144928\n",
            "[[57 12]\n",
            " [ 4 65]]\n"
          ],
          "name": "stdout"
        },
        {
          "output_type": "display_data",
          "data": {
            "image/png": "[encoded data removed]",
            "text/plain": [
              "<Figure size 432x288 with 1 Axes>"
            ]
          },
          "metadata": {
            "tags": []
          }
        }
      ]
    },
    {
      "cell_type": "code",
      "metadata": {
        "id": "fkMsupsDeLfL",
        "outputId": "43e241d5-dcd3-4d70-ae1d-80b14caa3dd5",
        "colab": {
          "base_uri": "https://localhost:8080/",
          "height": 35
        }
      },
      "source": [
        "lr=LogisticRegression()\n",
        "lr.fit(x_train,Y_train)\n",
        "y_pred=lr.predict(x_test)\n",
        "print(accuracy_score(y_pred,Y_test))"
      ],
      "execution_count": null,
      "outputs": [
        {
          "output_type": "stream",
          "text": [
            "0.8840579710144928\n"
          ],
          "name": "stdout"
        }
      ]
    },
    {
      "cell_type": "code",
      "metadata": {
        "id": "ZUN41o5deLfb",
        "outputId": "29e52c44-68ff-4de9-9821-7c0859e23216",
        "colab": {
          "base_uri": "https://localhost:8080/",
          "height": 35
        }
      },
      "source": [
        "lr=LogisticRegression()\n",
        "lr.fit(x_train1,Y_train1)\n",
        "y_pred=lr.predict(x_test1)\n",
        "print(accuracy_score(y_pred,Y_test1))"
      ],
      "execution_count": null,
      "outputs": [
        {
          "output_type": "stream",
          "text": [
            "0.715\n"
          ],
          "name": "stdout"
        }
      ]
    },
    {
      "cell_type": "code",
      "metadata": {
        "id": "4BZ7yoAIeLfo",
        "outputId": "2a5b0289-620c-4017-cec1-402315edab52",
        "colab": {
          "base_uri": "https://localhost:8080/",
          "height": 338
        }
      },
      "source": [
        "Nb= GaussianNB()\n",
        "Nb.fit(x_train1,Y_train1)\n",
        "y_pred=Nb.predict(x_test1)\n",
        "print(accuracy_score(y_pred,Y_test1))\n",
        "print(confusion_matrix(y_pred,Y_test1))\n",
        "plt.imshow(confusion_matrix(y_pred,Y_test1))\n",
        "plt.xlabel(\"Predicted labels\")\n",
        "plt.ylabel(\"True labels\")\n",
        "plt.show()"
      ],
      "execution_count": null,
      "outputs": [
        {
          "output_type": "stream",
          "text": [
            "0.66\n",
            "[[101  29]\n",
            " [ 39  31]]\n"
          ],
          "name": "stdout"
        },
        {
          "output_type": "display_data",
          "data": {
            "image/png": "[encoded data removed]",
            "text/plain": [
              "<Figure size 432x288 with 1 Axes>"
            ]
          },
          "metadata": {
            "tags": []
          }
        }
      ]
    },
    {
      "cell_type": "code",
      "metadata": {
        "id": "LF6YEOhwnVfH",
        "outputId": "ba235b3d-864c-49e2-fd9f-52ece1268a37",
        "colab": {
          "base_uri": "https://localhost:8080/",
          "height": 338
        }
      },
      "source": [
        "Nb= GaussianNB()\n",
        "Nb.fit(x_train,Y_train)\n",
        "y_pred=Nb.predict(x_test)\n",
        "print(accuracy_score(y_pred,Y_test))\n",
        "print(confusion_matrix(y_pred,Y_test))\n",
        "plt.imshow(confusion_matrix(y_pred,Y_test))\n",
        "plt.xlabel(\"Predicted labels\")\n",
        "plt.ylabel(\"True labels\")\n",
        "plt.show()"
      ],
      "execution_count": null,
      "outputs": [
        {
          "output_type": "stream",
          "text": [
            "0.8043478260869565\n",
            "[[40  6]\n",
            " [21 71]]\n"
          ],
          "name": "stdout"
        },
        {
          "output_type": "display_data",
          "data": {
            "image/png": "[encoded data removed]",
            "text/plain": [
              "<Figure size 432x288 with 1 Axes>"
            ]
          },
          "metadata": {
            "tags": []
          }
        }
      ]
    },
    {
      "cell_type": "code",
      "metadata": {
        "id": "7fdf-3kdeLf2",
        "outputId": "16b2b234-805f-4bb4-8917-a889a07cb801",
        "colab": {
          "base_uri": "https://localhost:8080/",
          "height": 165
        }
      },
      "source": [
        "class Naive_bayes_classifier:\n",
        "    def fit(self,X,Y):\n",
        "        self.mean_x=X.mean(axis=0)\n",
        "        self.std_x=np.std(X,axis=0)\n",
        "        self.mean_y=Y.mean()\n",
        "        self.std_y=np.std(Y)\n",
        "        self.total=Y.shape[0]\n",
        "        self.Y=Y\n",
        "        print(self.mean_x.shape)\n",
        "        print(self.std_x.shape)\n",
        "        print(self.mean_y)\n",
        "        print(self.std_y)\n",
        "        self.cls=np.unique(Y)\n",
        "        seperated_class={}\n",
        "        for c in self.cls:\n",
        "            print(c)\n",
        "            seperated_class[c]=list()\n",
        "            for j in range(Y.shape[0]):\n",
        "                if c==Y[j]:\n",
        "                    seperated_class[c].append(list(X[j]))\n",
        "        print(np.array(seperated_class[1]).shape)\n",
        "        self.sumarize={}\n",
        "        for labels in seperated_class:\n",
        "            self.sumarize[labels]=list()\n",
        "           # print(np.array(seperated_class[labels]).shape)\n",
        "            for cols in zip(*np.array(seperated_class[labels])):\n",
        "                self.sumarize[labels].append([np.array(cols).mean(),np.array(cols).std()])\n",
        "    def calculate_probablity(self,X,mean_std):\n",
        "            pdf=1\n",
        "            for x,cols in zip(X,mean_std):\n",
        "                m=cols[0]\n",
        "                std=cols[1]\n",
        "                #print(m,std,x)\n",
        "                #print(std)\n",
        "                if(round(std,3)>0):\n",
        "                    exponent = math.exp(-(math.pow(x-m,2)/(2*math.pow(std,2))))\n",
        "                    if(exponent!=0):\n",
        "                        gus=(1/(math.sqrt(2*math.pi)*std))*exponent\n",
        "                        pdf=pdf*gus\n",
        "            return pdf\n",
        "    def predict(self,X):\n",
        "            y_pred=[]\n",
        "            P_den=0\n",
        "            for x in X:\n",
        "                y_prob=[]\n",
        "                for c in self.cls:\n",
        "                    P_x_given_y=self.calculate_probablity(x,self.sumarize[c])\n",
        "                    P_c=list(self.Y).count(c)/self.Y.shape[0]\n",
        "                    #P_den+= P_x_given_y*P_c\n",
        "                    #print(P_x_given_y*P_c,end=' ')\n",
        "                    y_prob.append(P_x_given_y*P_c)\n",
        "                y_prob=np.array(y_prob)\n",
        "                #print(np.argmax(y_prob,axis=0))\n",
        "                y_pred.append(np.argmax(y_prob,axis=0))\n",
        "            return y_pred\n",
        "                    \n",
        "                    \n",
        "                #print(Px)\n",
        "                \n",
        "                \n",
        "  \n",
        "        \n",
        "model=Naive_bayes_classifier()\n",
        "X_train1=X_train1.astype('float64')\n",
        "model.fit(X_train1,Y_train1)\n",
        "y_pred=model.predict(X_test1)\n",
        "print(accuracy_score(y_pred,Y_test1))"
      ],
      "execution_count": null,
      "outputs": [
        {
          "output_type": "stream",
          "text": [
            "(20,)\n",
            "(20,)\n",
            "1.3\n",
            "0.45825756949558394\n",
            "1\n",
            "2\n",
            "(560, 20)\n",
            "0.195\n"
          ],
          "name": "stdout"
        }
      ]
    },
    {
      "cell_type": "code",
      "metadata": {
        "id": "xxGbsO0Vn2Ut",
        "outputId": "d7930caf-aa42-4805-ba1b-db06c0a558f5",
        "colab": {
          "base_uri": "https://localhost:8080/",
          "height": 165
        }
      },
      "source": [
        "class Naive_bayes_classifier:\n",
        "    def fit(self,X,Y):\n",
        "        self.mean_x=X.mean(axis=0)\n",
        "        self.std_x=np.std(X,axis=0)\n",
        "        self.mean_y=Y.mean()\n",
        "        self.std_y=np.std(Y)\n",
        "        self.total=Y.shape[0]\n",
        "        self.Y=Y\n",
        "        print(self.mean_x.shape)\n",
        "        print(self.std_x.shape)\n",
        "        print(self.mean_y)\n",
        "        print(self.std_y)\n",
        "        self.cls=np.unique(Y)\n",
        "        seperated_class={}\n",
        "        for c in self.cls:\n",
        "            print(c)\n",
        "            seperated_class[c]=list()\n",
        "            for j in range(Y.shape[0]):\n",
        "                if c==Y[j]:\n",
        "                    seperated_class[c].append(list(X[j]))\n",
        "        print(np.array(seperated_class[1]).shape)\n",
        "        self.sumarize={}\n",
        "        for labels in seperated_class:\n",
        "            self.sumarize[labels]=list()\n",
        "           # print(np.array(seperated_class[labels]).shape)\n",
        "            for cols in zip(*np.array(seperated_class[labels])):\n",
        "                self.sumarize[labels].append([np.array(cols).mean(),np.array(cols).std()])\n",
        "    def calculate_probablity(self,X,mean_std):\n",
        "            pdf=1\n",
        "            for x,cols in zip(X,mean_std):\n",
        "                m=cols[0]\n",
        "                std=cols[1]\n",
        "                #print(m,std,x)\n",
        "                #print(std)\n",
        "                if(round(std,3)>0):\n",
        "                    exponent = math.exp(-(math.pow(x-m,2)/(2*math.pow(std,2))))\n",
        "                    if(exponent!=0):\n",
        "                        gus=(1/(math.sqrt(2*math.pi)*std))*exponent\n",
        "                        pdf=pdf*gus\n",
        "            return pdf\n",
        "    def predict(self,X):\n",
        "            y_pred=[]\n",
        "            P_den=0\n",
        "            for x in X:\n",
        "                y_prob=[]\n",
        "                for c in self.cls:\n",
        "                    P_x_given_y=self.calculate_probablity(x,self.sumarize[c])\n",
        "                    P_c=list(self.Y).count(c)/self.Y.shape[0]\n",
        "                    #P_den+= P_x_given_y*P_c\n",
        "                    #print(P_x_given_y*P_c,end=' ')\n",
        "                    y_prob.append(P_x_given_y*P_c)\n",
        "                y_prob=np.array(y_prob)\n",
        "                #print(np.argmax(y_prob,axis=0))\n",
        "                y_pred.append(np.argmax(y_prob,axis=0))\n",
        "            return y_pred\n",
        "                    \n",
        "                    \n",
        "                #print(Px)\n",
        "                \n",
        "                \n",
        "  \n",
        "        \n",
        "model=Naive_bayes_classifier()\n",
        "X_train1=X_train.astype('float64')\n",
        "model.fit(X_train,Y_train)\n",
        "y_pred=model.predict(X_test)\n",
        "print(accuracy_score(y_pred,Y_test))"
      ],
      "execution_count": null,
      "outputs": [
        {
          "output_type": "stream",
          "text": [
            "(15,)\n",
            "(15,)\n",
            "0.5543478260869565\n",
            "0.4970375376162468\n",
            "0\n",
            "1\n",
            "(306, 15)\n",
            "0.8043478260869565\n"
          ],
          "name": "stdout"
        }
      ]
    },
    {
      "cell_type": "code",
      "metadata": {
        "id": "MF5JphVzeLgC",
        "outputId": "1f5979f0-3339-43ab-e541-9c2f44e4d050",
        "colab": {
          "base_uri": "https://localhost:8080/",
          "height": 338
        }
      },
      "source": [
        "kn=KNeighborsClassifier(n_neighbors=5)\n",
        "kn.fit(x_train,Y_train)\n",
        "y_pred=kn.predict(x_test)\n",
        "print(accuracy_score(y_pred,Y_test))\n",
        "print(confusion_matrix(y_pred,Y_test))\n",
        "plt.imshow(confusion_matrix(y_pred,Y_test))\n",
        "plt.xlabel(\"Predicted labels\")\n",
        "plt.ylabel(\"True labels\")\n",
        "plt.show()"
      ],
      "execution_count": null,
      "outputs": [
        {
          "output_type": "stream",
          "text": [
            "0.8768115942028986\n",
            "[[50  6]\n",
            " [11 71]]\n"
          ],
          "name": "stdout"
        },
        {
          "output_type": "display_data",
          "data": {
            "image/png": "[encoded data removed]",
            "text/plain": [
              "<Figure size 432x288 with 1 Axes>"
            ]
          },
          "metadata": {
            "tags": []
          }
        }
      ]
    },
    {
      "cell_type": "code",
      "metadata": {
        "id": "oKa4tCPCp2ZR",
        "outputId": "dd04f9b0-7e69-4d56-bebe-f8789563a1da",
        "colab": {
          "base_uri": "https://localhost:8080/",
          "height": 338
        }
      },
      "source": [
        "kn=KNeighborsClassifier(n_neighbors=5)\n",
        "kn.fit(x_train1,Y_train1)\n",
        "y_pred=kn.predict(x_test1)\n",
        "print(accuracy_score(y_pred,Y_test1))\n",
        "print(confusion_matrix(y_pred,Y_test1))\n",
        "plt.imshow(confusion_matrix(y_pred,Y_test1))\n",
        "plt.xlabel(\"Predicted labels\")\n",
        "plt.ylabel(\"True labels\")\n",
        "plt.show()"
      ],
      "execution_count": null,
      "outputs": [
        {
          "output_type": "stream",
          "text": [
            "0.705\n",
            "[[118  37]\n",
            " [ 22  23]]\n"
          ],
          "name": "stdout"
        },
        {
          "output_type": "display_data",
          "data": {
            "image/png": "[encoded data removed]",
            "text/plain": [
              "<Figure size 432x288 with 1 Axes>"
            ]
          },
          "metadata": {
            "tags": []
          }
        }
      ]
    },
    {
      "cell_type": "code",
      "metadata": {
        "id": "JBtcJ7XOeLgM",
        "outputId": "439abbab-526c-452c-a752-da405d75a96e",
        "colab": {
          "base_uri": "https://localhost:8080/",
          "height": 35
        }
      },
      "source": [
        "l=[]\n",
        "Y_pred=[]\n",
        "def distance(x_test,K):\n",
        "    l=[]\n",
        "    for i in range(X_train1.shape[0]):\n",
        "        s=0\n",
        "        for j,t in zip(x_train1[i],x_test):\n",
        "            s+=(t-j)**2\n",
        "        l.append((np.sqrt(s),Y_train1[i]))\n",
        "       # print(l)\n",
        "    l.sort()\n",
        "    l_min=[]\n",
        "    #print(l)\n",
        "    for k in range(K):\n",
        "        l_min.append(l[k])\n",
        "    l_lables=[]\n",
        "    #print(l_min)\n",
        "    for i in l_min:\n",
        "     l_lables.append(i[1])\n",
        "    Y_pred.append(most_frequent(l_lables))\n",
        "    #Y_pred.append((min(l_min))[1])\n",
        "\n",
        "def most_frequent(List):\n",
        "    return max(set(List),key=List.count)\n",
        "for i in range(X_test1.shape[0]):\n",
        "    distance(x_test1[i],5)#change here for different k value for getting better accuracy\n",
        "#print(Y_pred,Y_test)\n",
        "print(accuracy_score(Y_pred,Y_test1))\n",
        "\n"
      ],
      "execution_count": null,
      "outputs": [
        {
          "output_type": "stream",
          "text": [
            "0.66\n"
          ],
          "name": "stdout"
        }
      ]
    },
    {
      "cell_type": "code",
      "metadata": {
        "id": "8ql-pq-0q8yV",
        "outputId": "20310fbc-dd08-4511-95b1-a3b7b8dea777",
        "colab": {
          "base_uri": "https://localhost:8080/",
          "height": 35
        }
      },
      "source": [
        "l=[]\n",
        "Y_pred=[]\n",
        "def distance(x_test,K):\n",
        "    l=[]\n",
        "    for i in range(X_train.shape[0]):\n",
        "        s=0\n",
        "        for j,t in zip(x_train[i],x_test):\n",
        "            s+=(t-j)**2\n",
        "        l.append((np.sqrt(s),Y_train[i]))\n",
        "       # print(l)\n",
        "    l.sort()\n",
        "    l_min=[]\n",
        "    #print(l)\n",
        "    for k in range(K):\n",
        "        l_min.append(l[k])\n",
        "    l_lables=[]\n",
        "    #print(l_min)\n",
        "    for i in l_min:\n",
        "     l_lables.append(i[1])\n",
        "    Y_pred.append(most_frequent(l_lables))\n",
        "    #Y_pred.append((min(l_min))[1])\n",
        "\n",
        "def most_frequent(List):\n",
        "    return max(set(List),key=List.count)\n",
        "for i in range(X_test.shape[0]):\n",
        "    distance(x_test[i],5)#change here for different k value for getting better accuracy\n",
        "#print(Y_pred,Y_test)\n",
        "print(accuracy_score(Y_pred,Y_test))"
      ],
      "execution_count": null,
      "outputs": [
        {
          "output_type": "stream",
          "text": [
            "0.8768115942028986\n"
          ],
          "name": "stdout"
        }
      ]
    },
    {
      "cell_type": "code",
      "metadata": {
        "id": "kEFB3SKseLga",
        "outputId": "8ae13722-bc8e-4635-9b6e-f24e2c1276ad",
        "colab": {
          "base_uri": "https://localhost:8080/",
          "height": 667
        }
      },
      "source": [
        "from numpy import linalg as LA\n",
        "from sklearn.preprocessing import StandardScaler\n",
        "\n",
        "S=np.dot(X_train1.T,X_train1)\n",
        "#print(S)\n",
        "eign_value,eign_vect=LA.eig(S)\n",
        "print(len(eign_value))\n",
        "eig_sort=np.argsort(eign_value)[::-1]\n",
        "eig_vect_sort=None\n",
        "for i in eig_sort:\n",
        "   if eig_vect_sort is None:\n",
        "     eig_vect_sort=eign_vect[i]\n",
        "   else:\n",
        "     eig_vect_sort=np.vstack((eig_vect_sort,eign_vect[i]))\n",
        "eig_vect_sort=eig_vect_sort.T \n",
        "S_=np.dot(S,eig_vect_sort)\n",
        "#print(S_)\n",
        "propotion_variance=[]\n",
        "c=0\n",
        "s=0\n",
        "for v in eign_value:\n",
        "      f=v\n",
        "      if(c==0 or c==1):\n",
        "       #print(v/sum(eign_value))\n",
        "       propotion_variance.append(f/sum(eign_value))\n",
        "      else:\n",
        "        #print(s/sum(eign_value))\n",
        "        propotion_variance.append(s/sum(eign_value))\n",
        "      s=s+f\n",
        "      c+=1\n",
        "print(len(propotion_variance))\n",
        "plt.figure(figsize=(50,10))\n",
        "import matplotlib.pyplot as plt\n",
        "cols=[i for i in range(len(eign_value))]\n",
        "plt.plot(cols, propotion_variance)\n",
        "plt.xticks(cols)\n",
        "plt.show()\n",
        "print(eig_vect_sort.shape)"
      ],
      "execution_count": null,
      "outputs": [
        {
          "output_type": "stream",
          "text": [
            "15\n",
            "15\n"
          ],
          "name": "stdout"
        },
        {
          "output_type": "display_data",
          "data": {
            "image/png": "[encoded data removed]",
            "text/plain": [
              "<Figure size 3600x720 with 1 Axes>"
            ]
          },
          "metadata": {
            "tags": []
          }
        },
        {
          "output_type": "stream",
          "text": [
            "(15, 15)\n"
          ],
          "name": "stdout"
        }
      ]
    },
    {
      "cell_type": "code",
      "metadata": {
        "id": "cUZWZl7UeLgi"
      },
      "source": [
        "np.random.seed(0)\n",
        "class Logistic:\n",
        "    def __init__(self):\n",
        "            self.w=np.random.randn(x_train.shape[1])/(x_train.shape[1]**0.5)\n",
        "            self.b=0\n",
        "            self.v_w=0\n",
        "            self.m_w=0\n",
        "            self.v_b=0\n",
        "            self.m_b=0\n",
        "    def sigmoid(self,x):\n",
        "         return(1/(1+np.exp(-x)))\n",
        "    def loss(self,y,fx):\n",
        "        return ((fx-y)**2)\n",
        "    def fit(self,X,Y,eta):\n",
        "        beta_1=0.9\n",
        "        beta_2=0.99\n",
        "        \n",
        "        for t in range(100):\n",
        "            dw=0\n",
        "            db=0\n",
        "            self.Loss=0\n",
        "            self.Y_pred=[]\n",
        "            self.Y_true=[]\n",
        "            epsilon=1e-10\n",
        "            num=0\n",
        "            for x,y in zip(X,Y):\n",
        "                self.a=np.dot(x,self.w)+self.b\n",
        "                p=self.sigmoid(self.a)\n",
        "                if(p>=0.5):\n",
        "                    fx=2\n",
        "                else:\n",
        "                    fx=1\n",
        "                #self.Loss=self.Loss+self.loss(y,fx)\n",
        "            self.w=self.w+eta*x\n",
        "            self.b=self.b-eta*1\n",
        "        #print(\"Epochs {}-----------loss {}\".format(t,self.Loss))\n",
        "    def predict(self,x_test):\n",
        "            pred=[]\n",
        "            for x in x_test:\n",
        "                self.a=np.dot(x,self.w)+self.b\n",
        "                p=self.sigmoid(self.a)\n",
        "                #print(p)\n",
        "                if(p>=0.5):\n",
        "                    fx=2\n",
        "                else:\n",
        "                    fx=1\n",
        "                pred.append(fx)\n",
        "            return(pred)\n",
        "                \n",
        "model=Logistic()\n",
        "model.fit(X_train,Y_train,eta=0.1)\n"
      ],
      "execution_count": null,
      "outputs": []
    },
    {
      "cell_type": "code",
      "metadata": {
        "id": "2Ql9A_WXeLgp"
      },
      "source": [
        "y_pred=model.predict(X_test)"
      ],
      "execution_count": null,
      "outputs": []
    },
    {
      "cell_type": "code",
      "metadata": {
        "id": "vZDLLIfteLgw",
        "outputId": "a6ad3391-b7ae-4fa9-d7c3-1ac0275282a8",
        "colab": {
          "base_uri": "https://localhost:8080/",
          "height": 1000
        }
      },
      "source": [
        "y_pred"
      ],
      "execution_count": null,
      "outputs": [
        {
          "output_type": "execute_result",
          "data": {
            "text/plain": [
              "[2,\n",
              " 2,\n",
              " 2,\n",
              " 2,\n",
              " 2,\n",
              " 2,\n",
              " 2,\n",
              " 2,\n",
              " 2,\n",
              " 2,\n",
              " 2,\n",
              " 2,\n",
              " 2,\n",
              " 2,\n",
              " 2,\n",
              " 2,\n",
              " 2,\n",
              " 2,\n",
              " 2,\n",
              " 2,\n",
              " 2,\n",
              " 2,\n",
              " 2,\n",
              " 2,\n",
              " 2,\n",
              " 2,\n",
              " 2,\n",
              " 2,\n",
              " 2,\n",
              " 2,\n",
              " 2,\n",
              " 2,\n",
              " 2,\n",
              " 2,\n",
              " 2,\n",
              " 2,\n",
              " 2,\n",
              " 2,\n",
              " 2,\n",
              " 2,\n",
              " 2,\n",
              " 2,\n",
              " 2,\n",
              " 2,\n",
              " 2,\n",
              " 2,\n",
              " 2,\n",
              " 2,\n",
              " 2,\n",
              " 2,\n",
              " 2,\n",
              " 2,\n",
              " 2,\n",
              " 2,\n",
              " 2,\n",
              " 2,\n",
              " 2,\n",
              " 2,\n",
              " 2,\n",
              " 2,\n",
              " 2,\n",
              " 2,\n",
              " 2,\n",
              " 2,\n",
              " 2,\n",
              " 2,\n",
              " 2,\n",
              " 2,\n",
              " 2,\n",
              " 2,\n",
              " 2,\n",
              " 2,\n",
              " 2,\n",
              " 2,\n",
              " 2,\n",
              " 2,\n",
              " 2,\n",
              " 2,\n",
              " 2,\n",
              " 2,\n",
              " 2,\n",
              " 2,\n",
              " 2,\n",
              " 2,\n",
              " 2,\n",
              " 2,\n",
              " 2,\n",
              " 2,\n",
              " 2,\n",
              " 2,\n",
              " 2,\n",
              " 2,\n",
              " 2,\n",
              " 2,\n",
              " 2,\n",
              " 2,\n",
              " 2,\n",
              " 2,\n",
              " 2,\n",
              " 2,\n",
              " 2,\n",
              " 2,\n",
              " 2,\n",
              " 2,\n",
              " 2,\n",
              " 2,\n",
              " 2,\n",
              " 2,\n",
              " 2,\n",
              " 2,\n",
              " 2,\n",
              " 2,\n",
              " 2,\n",
              " 2,\n",
              " 2,\n",
              " 2,\n",
              " 2,\n",
              " 2,\n",
              " 2,\n",
              " 2,\n",
              " 2,\n",
              " 2,\n",
              " 2,\n",
              " 2,\n",
              " 2,\n",
              " 2,\n",
              " 2,\n",
              " 2,\n",
              " 2,\n",
              " 2,\n",
              " 2,\n",
              " 2,\n",
              " 2,\n",
              " 2,\n",
              " 2,\n",
              " 2,\n",
              " 2,\n",
              " 2]"
            ]
          },
          "metadata": {
            "tags": []
          },
          "execution_count": 41
        }
      ]
    },
    {
      "cell_type": "code",
      "metadata": {
        "id": "LCBZcYHbomh1",
        "outputId": "16b20e7d-b394-4897-8881-88e29a22bf0e",
        "colab": {
          "base_uri": "https://localhost:8080/",
          "height": 146
        }
      },
      "source": [
        "Y_test"
      ],
      "execution_count": null,
      "outputs": [
        {
          "output_type": "execute_result",
          "data": {
            "text/plain": [
              "array([0, 0, 1, 1, 1, 1, 1, 1, 0, 1, 0, 1, 0, 0, 1, 1, 0, 0, 1, 1, 1, 0,\n",
              "       1, 1, 1, 0, 0, 1, 0, 1, 0, 1, 0, 1, 1, 0, 1, 1, 1, 0, 1, 0, 1, 0,\n",
              "       1, 0, 1, 1, 1, 1, 1, 0, 1, 1, 0, 0, 1, 0, 1, 1, 1, 0, 1, 0, 1, 0,\n",
              "       1, 0, 0, 1, 0, 1, 1, 1, 1, 0, 1, 1, 1, 0, 0, 0, 1, 1, 1, 0, 1, 0,\n",
              "       1, 0, 1, 1, 1, 0, 1, 1, 0, 0, 0, 0, 0, 0, 1, 0, 1, 1, 0, 1, 1, 1,\n",
              "       0, 0, 1, 1, 1, 0, 0, 1, 1, 0, 0, 0, 0, 1, 0, 1, 0, 1, 0, 0, 1, 0,\n",
              "       1, 1, 0, 0, 1, 0])"
            ]
          },
          "metadata": {
            "tags": []
          },
          "execution_count": 42
        }
      ]
    },
    {
      "cell_type": "code",
      "metadata": {
        "id": "EzA3IpFEeLg3",
        "outputId": "aa979f25-a2c6-4636-ad10-859a8cd0bfbc",
        "colab": {
          "base_uri": "https://localhost:8080/",
          "height": 202
        }
      },
      "source": [
        "Y_test1"
      ],
      "execution_count": null,
      "outputs": [
        {
          "output_type": "execute_result",
          "data": {
            "text/plain": [
              "array([1, 2, 1, 1, 2, 1, 2, 1, 1, 1, 2, 1, 2, 2, 2, 1, 1, 1, 1, 1, 1, 1,\n",
              "       1, 1, 2, 1, 2, 2, 1, 1, 1, 1, 1, 1, 1, 1, 2, 1, 1, 2, 2, 2, 2, 1,\n",
              "       2, 1, 2, 1, 2, 2, 2, 1, 1, 2, 1, 2, 2, 2, 1, 1, 2, 2, 1, 1, 1, 1,\n",
              "       1, 1, 2, 1, 1, 1, 2, 1, 1, 1, 2, 1, 2, 2, 1, 2, 1, 2, 2, 2, 1, 1,\n",
              "       1, 1, 1, 1, 1, 2, 2, 1, 2, 1, 1, 1, 2, 1, 1, 1, 1, 1, 1, 1, 1, 2,\n",
              "       1, 1, 1, 1, 1, 2, 2, 1, 1, 1, 2, 2, 2, 1, 1, 2, 1, 1, 1, 1, 1, 1,\n",
              "       1, 1, 2, 1, 1, 1, 1, 2, 1, 2, 1, 1, 2, 1, 1, 1, 2, 1, 1, 1, 1, 1,\n",
              "       1, 1, 1, 1, 2, 1, 1, 1, 2, 1, 1, 2, 1, 1, 2, 1, 1, 1, 1, 2, 2, 1,\n",
              "       1, 1, 1, 1, 1, 1, 1, 1, 2, 1, 2, 1, 1, 1, 1, 1, 1, 2, 1, 1, 1, 1,\n",
              "       1, 1])"
            ]
          },
          "metadata": {
            "tags": []
          },
          "execution_count": 43
        }
      ]
    },
    {
      "cell_type": "code",
      "metadata": {
        "id": "jBygOONFeLg9",
        "outputId": "f2efeeaf-908c-4956-d4f4-63dc0811d803",
        "colab": {
          "base_uri": "https://localhost:8080/",
          "height": 146
        }
      },
      "source": [
        "ohe = OneHotEncoder(categories='auto')\n",
        "Y_cat_train= ohe.fit_transform(Y_train.reshape(-1,1)).toarray()\n",
        "Y_cat_test= ohe.fit_transform(Y_test.reshape(-1,1)).toarray()\n",
        "Y_cat_train"
      ],
      "execution_count": null,
      "outputs": [
        {
          "output_type": "execute_result",
          "data": {
            "text/plain": [
              "array([[1., 0.],\n",
              "       [0., 1.],\n",
              "       [0., 1.],\n",
              "       ...,\n",
              "       [0., 1.],\n",
              "       [0., 1.],\n",
              "       [1., 0.]])"
            ]
          },
          "metadata": {
            "tags": []
          },
          "execution_count": 44
        }
      ]
    },
    {
      "cell_type": "code",
      "metadata": {
        "id": "yRktMxhqVwDH",
        "outputId": "221ed28d-4c49-4eec-eb28-417f9da29e37",
        "colab": {
          "base_uri": "https://localhost:8080/",
          "height": 146
        }
      },
      "source": [
        "ohe = OneHotEncoder(categories='auto')\n",
        "Y_cat_train1= ohe.fit_transform(Y_train1.reshape(-1,1)).toarray()\n",
        "Y_cat_test1= ohe.fit_transform(Y_test1.reshape(-1,1)).toarray()\n",
        "Y_cat_train1"
      ],
      "execution_count": null,
      "outputs": [
        {
          "output_type": "execute_result",
          "data": {
            "text/plain": [
              "array([[1., 0.],\n",
              "       [1., 0.],\n",
              "       [1., 0.],\n",
              "       ...,\n",
              "       [1., 0.],\n",
              "       [1., 0.],\n",
              "       [1., 0.]])"
            ]
          },
          "metadata": {
            "tags": []
          },
          "execution_count": 45
        }
      ]
    },
    {
      "cell_type": "code",
      "metadata": {
        "id": "DbdS6oIVUKb8"
      },
      "source": [
        "from tensorflow.python.keras.layers import Dense\n",
        "from tensorflow.python.keras import Sequential"
      ],
      "execution_count": null,
      "outputs": []
    },
    {
      "cell_type": "markdown",
      "metadata": {
        "id": "zrpFLrFleLhD"
      },
      "source": [
        "# Artificial neural Network"
      ]
    },
    {
      "cell_type": "code",
      "metadata": {
        "id": "9RSefhUZeLhE"
      },
      "source": [
        "model=Sequential()\n",
        "model.add(Dense(12,input_dim=15))\n",
        "model.add(Dense(4))\n",
        "model.add(Dense(2,activation='softmax'))"
      ],
      "execution_count": null,
      "outputs": []
    },
    {
      "cell_type": "code",
      "metadata": {
        "id": "b-x9E_3oLipf",
        "outputId": "8db42cf3-0d8a-4608-eb9f-ed002848714e",
        "colab": {
          "base_uri": "https://localhost:8080/",
          "height": 35
        }
      },
      "source": [
        " import tensorflow as tf\n",
        " print(tf.__version__)"
      ],
      "execution_count": null,
      "outputs": [
        {
          "output_type": "stream",
          "text": [
            "2.0.0\n"
          ],
          "name": "stdout"
        }
      ]
    },
    {
      "cell_type": "code",
      "metadata": {
        "id": "NgmYT3SceLhX"
      },
      "source": [
        "model.compile(optimizer='adam',loss='categorical_crossentropy',metrics=['accuracy'])"
      ],
      "execution_count": null,
      "outputs": []
    },
    {
      "cell_type": "code",
      "metadata": {
        "id": "WtChH-tveLhd",
        "outputId": "02a0ea4b-8fd4-45cd-a2c6-eb219a5ef8b0",
        "colab": {
          "base_uri": "https://localhost:8080/",
          "height": 1000
        }
      },
      "source": [
        "history=model.fit(X_train,Y_cat_train,epochs=200,validation_data=(X_test,Y_cat_test),verbose=1)"
      ],
      "execution_count": null,
      "outputs": [
        {
          "output_type": "stream",
          "text": [
            "Train on 552 samples, validate on 138 samples\n",
            "Epoch 1/200\n",
            "552/552 [==============================] - 1s 1ms/sample - loss: 460.3250 - accuracy: 0.5543 - val_loss: 203.5385 - val_accuracy: 0.5580\n",
            "Epoch 2/200\n",
            "552/552 [==============================] - 0s 96us/sample - loss: 308.9339 - accuracy: 0.5507 - val_loss: 133.4974 - val_accuracy: 0.5435\n",
            "Epoch 3/200\n",
            "552/552 [==============================] - 0s 85us/sample - loss: 183.3150 - accuracy: 0.5453 - val_loss: 60.4698 - val_accuracy: 0.5435\n",
            "Epoch 4/200\n",
            "552/552 [==============================] - 0s 91us/sample - loss: 55.7936 - accuracy: 0.5489 - val_loss: 13.5547 - val_accuracy: 0.5725\n",
            "Epoch 5/200\n",
            "552/552 [==============================] - 0s 118us/sample - loss: 8.8125 - accuracy: 0.6558 - val_loss: 16.3895 - val_accuracy: 0.5797\n",
            "Epoch 6/200\n",
            "552/552 [==============================] - 0s 109us/sample - loss: 7.9499 - accuracy: 0.6286 - val_loss: 14.8801 - val_accuracy: 0.5797\n",
            "Epoch 7/200\n",
            "552/552 [==============================] - 0s 96us/sample - loss: 6.7774 - accuracy: 0.6159 - val_loss: 12.7527 - val_accuracy: 0.5870\n",
            "Epoch 8/200\n",
            "552/552 [==============================] - 0s 92us/sample - loss: 5.4794 - accuracy: 0.6123 - val_loss: 9.9246 - val_accuracy: 0.5652\n",
            "Epoch 9/200\n",
            "552/552 [==============================] - 0s 102us/sample - loss: 4.1118 - accuracy: 0.6286 - val_loss: 6.9132 - val_accuracy: 0.5507\n",
            "Epoch 10/200\n",
            "552/552 [==============================] - 0s 94us/sample - loss: 2.7464 - accuracy: 0.6558 - val_loss: 4.1595 - val_accuracy: 0.5797\n",
            "Epoch 11/200\n",
            "552/552 [==============================] - 0s 92us/sample - loss: 1.3518 - accuracy: 0.6830 - val_loss: 1.1304 - val_accuracy: 0.5870\n",
            "Epoch 12/200\n",
            "552/552 [==============================] - 0s 90us/sample - loss: 1.9321 - accuracy: 0.6341 - val_loss: 5.4413 - val_accuracy: 0.6377\n",
            "Epoch 13/200\n",
            "552/552 [==============================] - 0s 95us/sample - loss: 2.3331 - accuracy: 0.6957 - val_loss: 3.7044 - val_accuracy: 0.5942\n",
            "Epoch 14/200\n",
            "552/552 [==============================] - 0s 90us/sample - loss: 1.2652 - accuracy: 0.6957 - val_loss: 0.9644 - val_accuracy: 0.6667\n",
            "Epoch 15/200\n",
            "552/552 [==============================] - 0s 98us/sample - loss: 1.7548 - accuracy: 0.6812 - val_loss: 7.3636 - val_accuracy: 0.6377\n",
            "Epoch 16/200\n",
            "552/552 [==============================] - 0s 90us/sample - loss: 3.5139 - accuracy: 0.6993 - val_loss: 6.4110 - val_accuracy: 0.6594\n",
            "Epoch 17/200\n",
            "552/552 [==============================] - 0s 89us/sample - loss: 2.4338 - accuracy: 0.6848 - val_loss: 3.5126 - val_accuracy: 0.6957\n",
            "Epoch 18/200\n",
            "552/552 [==============================] - 0s 94us/sample - loss: 1.1469 - accuracy: 0.7174 - val_loss: 0.6698 - val_accuracy: 0.7246\n",
            "Epoch 19/200\n",
            "552/552 [==============================] - 0s 91us/sample - loss: 1.0352 - accuracy: 0.7120 - val_loss: 2.1261 - val_accuracy: 0.6957\n",
            "Epoch 20/200\n",
            "552/552 [==============================] - 0s 89us/sample - loss: 0.8489 - accuracy: 0.7192 - val_loss: 0.7584 - val_accuracy: 0.7391\n",
            "Epoch 21/200\n",
            "552/552 [==============================] - 0s 90us/sample - loss: 0.5876 - accuracy: 0.7301 - val_loss: 0.5440 - val_accuracy: 0.7609\n",
            "Epoch 22/200\n",
            "552/552 [==============================] - 0s 89us/sample - loss: 0.5401 - accuracy: 0.7319 - val_loss: 0.5612 - val_accuracy: 0.7464\n",
            "Epoch 23/200\n",
            "552/552 [==============================] - 0s 89us/sample - loss: 0.5803 - accuracy: 0.7337 - val_loss: 0.8185 - val_accuracy: 0.7464\n",
            "Epoch 24/200\n",
            "552/552 [==============================] - 0s 94us/sample - loss: 0.5913 - accuracy: 0.7500 - val_loss: 1.2855 - val_accuracy: 0.7609\n",
            "Epoch 25/200\n",
            "552/552 [==============================] - 0s 93us/sample - loss: 0.6956 - accuracy: 0.7482 - val_loss: 0.4943 - val_accuracy: 0.7826\n",
            "Epoch 26/200\n",
            "552/552 [==============================] - 0s 88us/sample - loss: 0.5130 - accuracy: 0.7428 - val_loss: 0.5315 - val_accuracy: 0.7464\n",
            "Epoch 27/200\n",
            "552/552 [==============================] - 0s 90us/sample - loss: 0.5159 - accuracy: 0.7572 - val_loss: 0.7295 - val_accuracy: 0.7536\n",
            "Epoch 28/200\n",
            "552/552 [==============================] - 0s 93us/sample - loss: 0.5539 - accuracy: 0.7663 - val_loss: 0.4396 - val_accuracy: 0.7826\n",
            "Epoch 29/200\n",
            "552/552 [==============================] - 0s 104us/sample - loss: 0.8225 - accuracy: 0.7482 - val_loss: 3.4891 - val_accuracy: 0.6957\n",
            "Epoch 30/200\n",
            "552/552 [==============================] - 0s 98us/sample - loss: 1.3696 - accuracy: 0.7355 - val_loss: 0.9824 - val_accuracy: 0.7391\n",
            "Epoch 31/200\n",
            "552/552 [==============================] - 0s 89us/sample - loss: 0.8698 - accuracy: 0.7373 - val_loss: 2.2331 - val_accuracy: 0.7029\n",
            "Epoch 32/200\n",
            "552/552 [==============================] - 0s 93us/sample - loss: 1.0053 - accuracy: 0.7446 - val_loss: 0.5016 - val_accuracy: 0.8188\n",
            "Epoch 33/200\n",
            "552/552 [==============================] - 0s 93us/sample - loss: 0.5488 - accuracy: 0.7844 - val_loss: 0.4703 - val_accuracy: 0.7609\n",
            "Epoch 34/200\n",
            "552/552 [==============================] - 0s 92us/sample - loss: 0.6959 - accuracy: 0.7717 - val_loss: 1.1007 - val_accuracy: 0.7101\n",
            "Epoch 35/200\n",
            "552/552 [==============================] - 0s 85us/sample - loss: 0.5743 - accuracy: 0.7591 - val_loss: 0.4477 - val_accuracy: 0.8188\n",
            "Epoch 36/200\n",
            "552/552 [==============================] - 0s 92us/sample - loss: 0.9167 - accuracy: 0.7554 - val_loss: 2.8332 - val_accuracy: 0.7391\n",
            "Epoch 37/200\n",
            "552/552 [==============================] - 0s 91us/sample - loss: 1.0539 - accuracy: 0.7446 - val_loss: 0.5149 - val_accuracy: 0.7609\n",
            "Epoch 38/200\n",
            "552/552 [==============================] - 0s 101us/sample - loss: 1.8356 - accuracy: 0.7228 - val_loss: 5.5316 - val_accuracy: 0.7029\n",
            "Epoch 39/200\n",
            "552/552 [==============================] - 0s 92us/sample - loss: 2.1662 - accuracy: 0.7210 - val_loss: 2.0111 - val_accuracy: 0.7246\n",
            "Epoch 40/200\n",
            "552/552 [==============================] - 0s 95us/sample - loss: 0.6522 - accuracy: 0.7645 - val_loss: 1.1716 - val_accuracy: 0.7899\n",
            "Epoch 41/200\n",
            "552/552 [==============================] - 0s 90us/sample - loss: 0.6926 - accuracy: 0.7772 - val_loss: 0.4594 - val_accuracy: 0.8188\n",
            "Epoch 42/200\n",
            "552/552 [==============================] - 0s 88us/sample - loss: 0.5039 - accuracy: 0.8043 - val_loss: 0.5428 - val_accuracy: 0.8116\n",
            "Epoch 43/200\n",
            "552/552 [==============================] - 0s 87us/sample - loss: 0.4492 - accuracy: 0.8152 - val_loss: 0.4685 - val_accuracy: 0.8188\n",
            "Epoch 44/200\n",
            "552/552 [==============================] - 0s 84us/sample - loss: 0.4576 - accuracy: 0.8043 - val_loss: 0.5176 - val_accuracy: 0.8188\n",
            "Epoch 45/200\n",
            "552/552 [==============================] - 0s 89us/sample - loss: 0.4427 - accuracy: 0.8134 - val_loss: 0.4211 - val_accuracy: 0.8261\n",
            "Epoch 46/200\n",
            "552/552 [==============================] - 0s 92us/sample - loss: 0.4446 - accuracy: 0.8043 - val_loss: 0.5040 - val_accuracy: 0.8116\n",
            "Epoch 47/200\n",
            "552/552 [==============================] - 0s 92us/sample - loss: 0.4506 - accuracy: 0.8098 - val_loss: 0.3895 - val_accuracy: 0.8043\n",
            "Epoch 48/200\n",
            "552/552 [==============================] - 0s 90us/sample - loss: 0.4354 - accuracy: 0.8116 - val_loss: 0.5148 - val_accuracy: 0.8043\n",
            "Epoch 49/200\n",
            "552/552 [==============================] - 0s 87us/sample - loss: 0.5266 - accuracy: 0.8098 - val_loss: 0.9730 - val_accuracy: 0.7971\n",
            "Epoch 50/200\n",
            "552/552 [==============================] - 0s 85us/sample - loss: 0.6054 - accuracy: 0.7953 - val_loss: 1.6054 - val_accuracy: 0.7391\n",
            "Epoch 51/200\n",
            "552/552 [==============================] - 0s 86us/sample - loss: 1.4227 - accuracy: 0.7482 - val_loss: 2.0775 - val_accuracy: 0.7101\n",
            "Epoch 52/200\n",
            "552/552 [==============================] - 0s 86us/sample - loss: 0.6947 - accuracy: 0.7826 - val_loss: 0.4632 - val_accuracy: 0.8116\n",
            "Epoch 53/200\n",
            "552/552 [==============================] - 0s 98us/sample - loss: 0.5670 - accuracy: 0.8152 - val_loss: 0.7147 - val_accuracy: 0.7754\n",
            "Epoch 54/200\n",
            "552/552 [==============================] - 0s 89us/sample - loss: 0.4560 - accuracy: 0.7880 - val_loss: 0.4264 - val_accuracy: 0.8116\n",
            "Epoch 55/200\n",
            "552/552 [==============================] - 0s 92us/sample - loss: 0.4026 - accuracy: 0.8170 - val_loss: 0.3854 - val_accuracy: 0.8551\n",
            "Epoch 56/200\n",
            "552/552 [==============================] - 0s 92us/sample - loss: 0.4441 - accuracy: 0.8207 - val_loss: 0.3700 - val_accuracy: 0.8478\n",
            "Epoch 57/200\n",
            "552/552 [==============================] - 0s 90us/sample - loss: 0.3992 - accuracy: 0.8370 - val_loss: 0.3588 - val_accuracy: 0.8623\n",
            "Epoch 58/200\n",
            "552/552 [==============================] - 0s 87us/sample - loss: 0.3867 - accuracy: 0.8424 - val_loss: 0.4966 - val_accuracy: 0.8116\n",
            "Epoch 59/200\n",
            "552/552 [==============================] - 0s 89us/sample - loss: 0.6342 - accuracy: 0.8116 - val_loss: 7.7601 - val_accuracy: 0.7029\n",
            "Epoch 60/200\n",
            "552/552 [==============================] - 0s 91us/sample - loss: 4.4625 - accuracy: 0.7011 - val_loss: 9.6526 - val_accuracy: 0.6884\n",
            "Epoch 61/200\n",
            "552/552 [==============================] - 0s 89us/sample - loss: 3.4373 - accuracy: 0.6884 - val_loss: 4.2158 - val_accuracy: 0.6957\n",
            "Epoch 62/200\n",
            "552/552 [==============================] - 0s 89us/sample - loss: 1.1859 - accuracy: 0.7446 - val_loss: 0.3972 - val_accuracy: 0.8261\n",
            "Epoch 63/200\n",
            "552/552 [==============================] - 0s 102us/sample - loss: 0.4554 - accuracy: 0.8152 - val_loss: 0.9453 - val_accuracy: 0.7899\n",
            "Epoch 64/200\n",
            "552/552 [==============================] - 0s 87us/sample - loss: 0.5097 - accuracy: 0.8152 - val_loss: 2.4714 - val_accuracy: 0.6884\n",
            "Epoch 65/200\n",
            "552/552 [==============================] - 0s 84us/sample - loss: 1.3216 - accuracy: 0.7464 - val_loss: 1.2634 - val_accuracy: 0.7609\n",
            "Epoch 66/200\n",
            "552/552 [==============================] - 0s 90us/sample - loss: 1.0074 - accuracy: 0.7717 - val_loss: 3.5783 - val_accuracy: 0.7609\n",
            "Epoch 67/200\n",
            "552/552 [==============================] - 0s 94us/sample - loss: 1.2831 - accuracy: 0.7627 - val_loss: 0.4488 - val_accuracy: 0.8333\n",
            "Epoch 68/200\n",
            "552/552 [==============================] - 0s 94us/sample - loss: 0.5805 - accuracy: 0.8080 - val_loss: 0.4926 - val_accuracy: 0.7899\n",
            "Epoch 69/200\n",
            "552/552 [==============================] - 0s 90us/sample - loss: 0.4156 - accuracy: 0.8279 - val_loss: 0.3596 - val_accuracy: 0.8551\n",
            "Epoch 70/200\n",
            "552/552 [==============================] - 0s 91us/sample - loss: 0.3863 - accuracy: 0.8351 - val_loss: 0.3847 - val_accuracy: 0.8406\n",
            "Epoch 71/200\n",
            "552/552 [==============================] - 0s 85us/sample - loss: 0.4063 - accuracy: 0.8406 - val_loss: 0.6759 - val_accuracy: 0.8188\n",
            "Epoch 72/200\n",
            "552/552 [==============================] - 0s 87us/sample - loss: 0.7173 - accuracy: 0.8062 - val_loss: 0.4053 - val_accuracy: 0.8116\n",
            "Epoch 73/200\n",
            "552/552 [==============================] - 0s 92us/sample - loss: 0.5982 - accuracy: 0.8170 - val_loss: 0.4065 - val_accuracy: 0.8261\n",
            "Epoch 74/200\n",
            "552/552 [==============================] - 0s 92us/sample - loss: 0.5157 - accuracy: 0.7971 - val_loss: 0.5793 - val_accuracy: 0.7754\n",
            "Epoch 75/200\n",
            "552/552 [==============================] - 0s 91us/sample - loss: 0.5287 - accuracy: 0.8152 - val_loss: 1.0874 - val_accuracy: 0.7536\n",
            "Epoch 76/200\n",
            "552/552 [==============================] - 0s 94us/sample - loss: 0.6842 - accuracy: 0.8188 - val_loss: 4.8903 - val_accuracy: 0.7391\n",
            "Epoch 77/200\n",
            "552/552 [==============================] - 0s 91us/sample - loss: 3.1658 - accuracy: 0.7174 - val_loss: 6.1022 - val_accuracy: 0.7101\n",
            "Epoch 78/200\n",
            "552/552 [==============================] - 0s 86us/sample - loss: 1.8951 - accuracy: 0.7246 - val_loss: 1.0721 - val_accuracy: 0.7246\n",
            "Epoch 79/200\n",
            "552/552 [==============================] - 0s 88us/sample - loss: 1.1577 - accuracy: 0.7518 - val_loss: 6.5642 - val_accuracy: 0.7391\n",
            "Epoch 80/200\n",
            "552/552 [==============================] - 0s 93us/sample - loss: 3.0522 - accuracy: 0.7138 - val_loss: 4.4992 - val_accuracy: 0.7464\n",
            "Epoch 81/200\n",
            "552/552 [==============================] - 0s 93us/sample - loss: 1.3224 - accuracy: 0.7717 - val_loss: 3.3957 - val_accuracy: 0.7609\n",
            "Epoch 82/200\n",
            "552/552 [==============================] - 0s 96us/sample - loss: 5.1211 - accuracy: 0.7138 - val_loss: 12.9679 - val_accuracy: 0.6812\n",
            "Epoch 83/200\n",
            "552/552 [==============================] - 0s 90us/sample - loss: 5.0730 - accuracy: 0.6848 - val_loss: 8.5017 - val_accuracy: 0.7101\n",
            "Epoch 84/200\n",
            "552/552 [==============================] - 0s 91us/sample - loss: 2.7130 - accuracy: 0.7138 - val_loss: 3.2680 - val_accuracy: 0.7319\n",
            "Epoch 85/200\n",
            "552/552 [==============================] - 0s 89us/sample - loss: 0.8869 - accuracy: 0.7899 - val_loss: 0.9713 - val_accuracy: 0.7754\n",
            "Epoch 86/200\n",
            "552/552 [==============================] - 0s 90us/sample - loss: 0.5869 - accuracy: 0.7917 - val_loss: 1.1278 - val_accuracy: 0.7899\n",
            "Epoch 87/200\n",
            "552/552 [==============================] - 0s 103us/sample - loss: 1.0086 - accuracy: 0.7754 - val_loss: 0.5498 - val_accuracy: 0.7826\n",
            "Epoch 88/200\n",
            "552/552 [==============================] - 0s 93us/sample - loss: 0.6740 - accuracy: 0.8207 - val_loss: 1.7730 - val_accuracy: 0.7681\n",
            "Epoch 89/200\n",
            "552/552 [==============================] - 0s 93us/sample - loss: 0.6450 - accuracy: 0.7826 - val_loss: 1.0107 - val_accuracy: 0.7681\n",
            "Epoch 90/200\n",
            "552/552 [==============================] - 0s 96us/sample - loss: 0.5843 - accuracy: 0.7880 - val_loss: 3.5430 - val_accuracy: 0.6957\n",
            "Epoch 91/200\n",
            "552/552 [==============================] - 0s 91us/sample - loss: 3.0608 - accuracy: 0.7482 - val_loss: 6.8070 - val_accuracy: 0.6812\n",
            "Epoch 92/200\n",
            "552/552 [==============================] - 0s 100us/sample - loss: 2.4451 - accuracy: 0.7554 - val_loss: 1.9540 - val_accuracy: 0.7246\n",
            "Epoch 93/200\n",
            "552/552 [==============================] - 0s 91us/sample - loss: 0.5573 - accuracy: 0.7971 - val_loss: 0.5385 - val_accuracy: 0.8043\n",
            "Epoch 94/200\n",
            "552/552 [==============================] - 0s 92us/sample - loss: 0.4292 - accuracy: 0.8225 - val_loss: 0.4874 - val_accuracy: 0.8116\n",
            "Epoch 95/200\n",
            "552/552 [==============================] - 0s 90us/sample - loss: 0.7786 - accuracy: 0.8225 - val_loss: 3.0489 - val_accuracy: 0.7754\n",
            "Epoch 96/200\n",
            "552/552 [==============================] - 0s 87us/sample - loss: 0.7864 - accuracy: 0.7844 - val_loss: 1.4098 - val_accuracy: 0.7464\n",
            "Epoch 97/200\n",
            "552/552 [==============================] - 0s 88us/sample - loss: 1.4329 - accuracy: 0.7645 - val_loss: 2.5313 - val_accuracy: 0.7391\n",
            "Epoch 98/200\n",
            "552/552 [==============================] - 0s 92us/sample - loss: 0.7187 - accuracy: 0.8116 - val_loss: 0.3028 - val_accuracy: 0.8551\n",
            "Epoch 99/200\n",
            "552/552 [==============================] - 0s 90us/sample - loss: 0.3920 - accuracy: 0.8514 - val_loss: 0.3860 - val_accuracy: 0.8406\n",
            "Epoch 100/200\n",
            "552/552 [==============================] - 0s 88us/sample - loss: 0.4477 - accuracy: 0.8279 - val_loss: 0.3575 - val_accuracy: 0.8261\n",
            "Epoch 101/200\n",
            "552/552 [==============================] - 0s 81us/sample - loss: 1.1614 - accuracy: 0.7808 - val_loss: 2.2060 - val_accuracy: 0.7029\n",
            "Epoch 102/200\n",
            "552/552 [==============================] - 0s 93us/sample - loss: 0.8243 - accuracy: 0.7989 - val_loss: 2.3498 - val_accuracy: 0.7464\n",
            "Epoch 103/200\n",
            "552/552 [==============================] - 0s 92us/sample - loss: 1.0297 - accuracy: 0.7953 - val_loss: 0.3996 - val_accuracy: 0.8261\n",
            "Epoch 104/200\n",
            "552/552 [==============================] - 0s 85us/sample - loss: 0.4522 - accuracy: 0.8297 - val_loss: 2.6300 - val_accuracy: 0.7754\n",
            "Epoch 105/200\n",
            "552/552 [==============================] - 0s 90us/sample - loss: 3.3017 - accuracy: 0.7409 - val_loss: 8.8039 - val_accuracy: 0.7174\n",
            "Epoch 106/200\n",
            "552/552 [==============================] - 0s 89us/sample - loss: 3.1561 - accuracy: 0.7156 - val_loss: 3.7299 - val_accuracy: 0.7319\n",
            "Epoch 107/200\n",
            "552/552 [==============================] - 0s 94us/sample - loss: 0.9139 - accuracy: 0.7989 - val_loss: 0.3087 - val_accuracy: 0.8696\n",
            "Epoch 108/200\n",
            "552/552 [==============================] - 0s 88us/sample - loss: 0.5009 - accuracy: 0.8188 - val_loss: 0.4137 - val_accuracy: 0.8261\n",
            "Epoch 109/200\n",
            "552/552 [==============================] - 0s 87us/sample - loss: 0.4551 - accuracy: 0.8442 - val_loss: 1.0465 - val_accuracy: 0.8188\n",
            "Epoch 110/200\n",
            "552/552 [==============================] - 0s 90us/sample - loss: 0.6395 - accuracy: 0.8098 - val_loss: 1.8928 - val_accuracy: 0.7246\n",
            "Epoch 111/200\n",
            "552/552 [==============================] - 0s 93us/sample - loss: 1.5405 - accuracy: 0.7627 - val_loss: 2.8454 - val_accuracy: 0.7174\n",
            "Epoch 112/200\n",
            "552/552 [==============================] - 0s 85us/sample - loss: 0.8449 - accuracy: 0.7953 - val_loss: 0.8384 - val_accuracy: 0.7971\n",
            "Epoch 113/200\n",
            "552/552 [==============================] - 0s 91us/sample - loss: 0.4839 - accuracy: 0.8116 - val_loss: 0.8219 - val_accuracy: 0.7609\n",
            "Epoch 114/200\n",
            "552/552 [==============================] - 0s 94us/sample - loss: 0.5776 - accuracy: 0.8025 - val_loss: 0.8294 - val_accuracy: 0.7826\n",
            "Epoch 115/200\n",
            "552/552 [==============================] - 0s 95us/sample - loss: 0.6140 - accuracy: 0.7989 - val_loss: 0.3596 - val_accuracy: 0.8406\n",
            "Epoch 116/200\n",
            "552/552 [==============================] - 0s 100us/sample - loss: 0.3968 - accuracy: 0.8551 - val_loss: 0.3581 - val_accuracy: 0.8623\n",
            "Epoch 117/200\n",
            "552/552 [==============================] - 0s 87us/sample - loss: 0.3630 - accuracy: 0.8569 - val_loss: 0.3126 - val_accuracy: 0.8623\n",
            "Epoch 118/200\n",
            "552/552 [==============================] - 0s 85us/sample - loss: 0.4855 - accuracy: 0.8406 - val_loss: 4.5624 - val_accuracy: 0.7174\n",
            "Epoch 119/200\n",
            "552/552 [==============================] - 0s 90us/sample - loss: 4.2757 - accuracy: 0.7138 - val_loss: 11.1785 - val_accuracy: 0.6884\n",
            "Epoch 120/200\n",
            "552/552 [==============================] - 0s 85us/sample - loss: 4.3506 - accuracy: 0.7083 - val_loss: 6.3854 - val_accuracy: 0.7536\n",
            "Epoch 121/200\n",
            "552/552 [==============================] - 0s 91us/sample - loss: 1.9796 - accuracy: 0.7627 - val_loss: 1.0998 - val_accuracy: 0.7391\n",
            "Epoch 122/200\n",
            "552/552 [==============================] - 0s 89us/sample - loss: 0.5850 - accuracy: 0.8188 - val_loss: 1.3157 - val_accuracy: 0.7971\n",
            "Epoch 123/200\n",
            "552/552 [==============================] - 0s 95us/sample - loss: 0.5823 - accuracy: 0.8297 - val_loss: 0.6968 - val_accuracy: 0.7681\n",
            "Epoch 124/200\n",
            "552/552 [==============================] - 0s 87us/sample - loss: 0.6080 - accuracy: 0.8188 - val_loss: 0.4489 - val_accuracy: 0.7899\n",
            "Epoch 125/200\n",
            "552/552 [==============================] - 0s 107us/sample - loss: 0.9066 - accuracy: 0.8043 - val_loss: 0.7840 - val_accuracy: 0.7464\n",
            "Epoch 126/200\n",
            "552/552 [==============================] - 0s 89us/sample - loss: 0.5292 - accuracy: 0.8152 - val_loss: 0.7063 - val_accuracy: 0.7899\n",
            "Epoch 127/200\n",
            "552/552 [==============================] - 0s 93us/sample - loss: 1.5521 - accuracy: 0.7790 - val_loss: 3.5875 - val_accuracy: 0.7754\n",
            "Epoch 128/200\n",
            "552/552 [==============================] - 0s 88us/sample - loss: 0.9826 - accuracy: 0.8007 - val_loss: 0.5846 - val_accuracy: 0.7971\n",
            "Epoch 129/200\n",
            "552/552 [==============================] - 0s 88us/sample - loss: 0.9084 - accuracy: 0.8025 - val_loss: 1.2846 - val_accuracy: 0.7101\n",
            "Epoch 130/200\n",
            "552/552 [==============================] - 0s 96us/sample - loss: 0.5041 - accuracy: 0.8134 - val_loss: 0.5107 - val_accuracy: 0.8406\n",
            "Epoch 131/200\n",
            "552/552 [==============================] - 0s 92us/sample - loss: 0.3865 - accuracy: 0.8442 - val_loss: 0.3545 - val_accuracy: 0.8696\n",
            "Epoch 132/200\n",
            "552/552 [==============================] - 0s 90us/sample - loss: 0.4330 - accuracy: 0.8514 - val_loss: 0.9356 - val_accuracy: 0.8188\n",
            "Epoch 133/200\n",
            "552/552 [==============================] - 0s 94us/sample - loss: 0.4049 - accuracy: 0.8641 - val_loss: 0.2948 - val_accuracy: 0.8768\n",
            "Epoch 134/200\n",
            "552/552 [==============================] - 0s 95us/sample - loss: 0.4797 - accuracy: 0.8496 - val_loss: 4.7329 - val_accuracy: 0.7826\n",
            "Epoch 135/200\n",
            "552/552 [==============================] - 0s 99us/sample - loss: 3.0227 - accuracy: 0.7283 - val_loss: 6.1989 - val_accuracy: 0.7174\n",
            "Epoch 136/200\n",
            "552/552 [==============================] - 0s 89us/sample - loss: 2.1024 - accuracy: 0.7609 - val_loss: 1.9209 - val_accuracy: 0.7246\n",
            "Epoch 137/200\n",
            "552/552 [==============================] - 0s 91us/sample - loss: 1.4798 - accuracy: 0.7663 - val_loss: 7.1141 - val_accuracy: 0.7391\n",
            "Epoch 138/200\n",
            "552/552 [==============================] - 0s 87us/sample - loss: 3.1911 - accuracy: 0.7409 - val_loss: 5.4305 - val_accuracy: 0.7319\n",
            "Epoch 139/200\n",
            "552/552 [==============================] - 0s 88us/sample - loss: 1.6157 - accuracy: 0.7572 - val_loss: 0.7716 - val_accuracy: 0.7899\n",
            "Epoch 140/200\n",
            "552/552 [==============================] - 0s 91us/sample - loss: 0.6571 - accuracy: 0.8243 - val_loss: 1.7911 - val_accuracy: 0.7826\n",
            "Epoch 141/200\n",
            "552/552 [==============================] - 0s 93us/sample - loss: 0.7062 - accuracy: 0.8134 - val_loss: 0.3750 - val_accuracy: 0.8261\n",
            "Epoch 142/200\n",
            "552/552 [==============================] - 0s 87us/sample - loss: 0.4634 - accuracy: 0.8496 - val_loss: 0.6386 - val_accuracy: 0.7754\n",
            "Epoch 143/200\n",
            "552/552 [==============================] - 0s 91us/sample - loss: 0.4392 - accuracy: 0.8514 - val_loss: 0.5203 - val_accuracy: 0.8261\n",
            "Epoch 144/200\n",
            "552/552 [==============================] - 0s 90us/sample - loss: 0.4683 - accuracy: 0.8406 - val_loss: 1.9465 - val_accuracy: 0.7971\n",
            "Epoch 145/200\n",
            "552/552 [==============================] - 0s 90us/sample - loss: 1.1491 - accuracy: 0.7935 - val_loss: 1.3626 - val_accuracy: 0.7754\n",
            "Epoch 146/200\n",
            "552/552 [==============================] - 0s 88us/sample - loss: 0.5368 - accuracy: 0.8315 - val_loss: 0.6659 - val_accuracy: 0.7899\n",
            "Epoch 147/200\n",
            "552/552 [==============================] - 0s 95us/sample - loss: 0.4153 - accuracy: 0.8460 - val_loss: 0.3388 - val_accuracy: 0.8623\n",
            "Epoch 148/200\n",
            "552/552 [==============================] - 0s 97us/sample - loss: 0.3595 - accuracy: 0.8623 - val_loss: 0.3889 - val_accuracy: 0.8406\n",
            "Epoch 149/200\n",
            "552/552 [==============================] - 0s 87us/sample - loss: 0.7211 - accuracy: 0.8225 - val_loss: 0.8867 - val_accuracy: 0.7899\n",
            "Epoch 150/200\n",
            "552/552 [==============================] - 0s 97us/sample - loss: 0.7437 - accuracy: 0.8116 - val_loss: 2.4115 - val_accuracy: 0.7826\n",
            "Epoch 151/200\n",
            "552/552 [==============================] - 0s 91us/sample - loss: 0.9227 - accuracy: 0.7917 - val_loss: 0.4454 - val_accuracy: 0.8478\n",
            "Epoch 152/200\n",
            "552/552 [==============================] - 0s 87us/sample - loss: 0.8519 - accuracy: 0.8279 - val_loss: 1.2190 - val_accuracy: 0.7464\n",
            "Epoch 153/200\n",
            "552/552 [==============================] - 0s 88us/sample - loss: 1.0172 - accuracy: 0.7880 - val_loss: 6.5027 - val_accuracy: 0.7174\n",
            "Epoch 154/200\n",
            "552/552 [==============================] - 0s 87us/sample - loss: 3.9600 - accuracy: 0.7156 - val_loss: 7.8132 - val_accuracy: 0.6812\n",
            "Epoch 155/200\n",
            "552/552 [==============================] - 0s 101us/sample - loss: 2.7888 - accuracy: 0.7428 - val_loss: 2.9672 - val_accuracy: 0.6957\n",
            "Epoch 156/200\n",
            "552/552 [==============================] - 0s 103us/sample - loss: 1.1570 - accuracy: 0.7989 - val_loss: 1.1407 - val_accuracy: 0.7609\n",
            "Epoch 157/200\n",
            "552/552 [==============================] - 0s 91us/sample - loss: 0.5781 - accuracy: 0.7935 - val_loss: 0.8189 - val_accuracy: 0.7681\n",
            "Epoch 158/200\n",
            "552/552 [==============================] - 0s 93us/sample - loss: 0.6059 - accuracy: 0.8333 - val_loss: 1.7480 - val_accuracy: 0.7899\n",
            "Epoch 159/200\n",
            "552/552 [==============================] - 0s 88us/sample - loss: 0.6718 - accuracy: 0.8225 - val_loss: 0.5738 - val_accuracy: 0.8043\n",
            "Epoch 160/200\n",
            "552/552 [==============================] - 0s 90us/sample - loss: 0.7036 - accuracy: 0.8043 - val_loss: 0.4147 - val_accuracy: 0.8478\n",
            "Epoch 161/200\n",
            "552/552 [==============================] - 0s 87us/sample - loss: 1.8378 - accuracy: 0.7681 - val_loss: 7.2627 - val_accuracy: 0.7246\n",
            "Epoch 162/200\n",
            "552/552 [==============================] - 0s 82us/sample - loss: 2.7767 - accuracy: 0.7283 - val_loss: 3.7406 - val_accuracy: 0.7754\n",
            "Epoch 163/200\n",
            "552/552 [==============================] - 0s 98us/sample - loss: 1.0507 - accuracy: 0.7953 - val_loss: 0.7537 - val_accuracy: 0.7899\n",
            "Epoch 164/200\n",
            "552/552 [==============================] - 0s 89us/sample - loss: 0.8375 - accuracy: 0.8007 - val_loss: 0.9458 - val_accuracy: 0.7319\n",
            "Epoch 165/200\n",
            "552/552 [==============================] - 0s 90us/sample - loss: 0.5896 - accuracy: 0.8043 - val_loss: 0.5101 - val_accuracy: 0.8551\n",
            "Epoch 166/200\n",
            "552/552 [==============================] - 0s 98us/sample - loss: 0.4266 - accuracy: 0.8351 - val_loss: 0.3791 - val_accuracy: 0.8623\n",
            "Epoch 167/200\n",
            "552/552 [==============================] - 0s 93us/sample - loss: 0.3581 - accuracy: 0.8659 - val_loss: 0.3252 - val_accuracy: 0.8696\n",
            "Epoch 168/200\n",
            "552/552 [==============================] - 0s 91us/sample - loss: 2.0160 - accuracy: 0.7826 - val_loss: 8.7850 - val_accuracy: 0.7029\n",
            "Epoch 169/200\n",
            "552/552 [==============================] - 0s 94us/sample - loss: 3.5681 - accuracy: 0.7283 - val_loss: 5.8930 - val_accuracy: 0.7391\n",
            "Epoch 170/200\n",
            "552/552 [==============================] - 0s 93us/sample - loss: 1.8369 - accuracy: 0.7699 - val_loss: 1.0541 - val_accuracy: 0.7391\n",
            "Epoch 171/200\n",
            "552/552 [==============================] - 0s 91us/sample - loss: 0.5439 - accuracy: 0.8188 - val_loss: 0.6772 - val_accuracy: 0.7754\n",
            "Epoch 172/200\n",
            "552/552 [==============================] - 0s 92us/sample - loss: 0.4228 - accuracy: 0.8243 - val_loss: 0.3695 - val_accuracy: 0.8551\n",
            "Epoch 173/200\n",
            "552/552 [==============================] - 0s 88us/sample - loss: 0.5886 - accuracy: 0.8478 - val_loss: 1.4480 - val_accuracy: 0.7971\n",
            "Epoch 174/200\n",
            "552/552 [==============================] - 0s 90us/sample - loss: 0.5709 - accuracy: 0.8297 - val_loss: 0.5631 - val_accuracy: 0.8043\n",
            "Epoch 175/200\n",
            "552/552 [==============================] - 0s 92us/sample - loss: 0.4941 - accuracy: 0.8442 - val_loss: 0.3527 - val_accuracy: 0.8551\n",
            "Epoch 176/200\n",
            "552/552 [==============================] - 0s 89us/sample - loss: 0.3577 - accuracy: 0.8551 - val_loss: 0.2985 - val_accuracy: 0.8768\n",
            "Epoch 177/200\n",
            "552/552 [==============================] - 0s 103us/sample - loss: 0.3559 - accuracy: 0.8587 - val_loss: 0.3543 - val_accuracy: 0.8551\n",
            "Epoch 178/200\n",
            "552/552 [==============================] - 0s 97us/sample - loss: 0.3602 - accuracy: 0.8641 - val_loss: 0.3050 - val_accuracy: 0.8623\n",
            "Epoch 179/200\n",
            "552/552 [==============================] - 0s 98us/sample - loss: 0.4008 - accuracy: 0.8424 - val_loss: 0.4837 - val_accuracy: 0.8478\n",
            "Epoch 180/200\n",
            "552/552 [==============================] - 0s 93us/sample - loss: 0.3532 - accuracy: 0.8587 - val_loss: 0.3095 - val_accuracy: 0.8696\n",
            "Epoch 181/200\n",
            "552/552 [==============================] - 0s 94us/sample - loss: 0.3569 - accuracy: 0.8659 - val_loss: 0.3153 - val_accuracy: 0.8696\n",
            "Epoch 182/200\n",
            "552/552 [==============================] - 0s 95us/sample - loss: 0.3784 - accuracy: 0.8605 - val_loss: 0.3488 - val_accuracy: 0.8478\n",
            "Epoch 183/200\n",
            "552/552 [==============================] - 0s 88us/sample - loss: 2.4068 - accuracy: 0.7572 - val_loss: 6.6867 - val_accuracy: 0.7319\n",
            "Epoch 184/200\n",
            "552/552 [==============================] - 0s 87us/sample - loss: 2.0410 - accuracy: 0.7536 - val_loss: 1.7138 - val_accuracy: 0.7536\n",
            "Epoch 185/200\n",
            "552/552 [==============================] - 0s 89us/sample - loss: 1.2878 - accuracy: 0.8025 - val_loss: 6.8847 - val_accuracy: 0.7174\n",
            "Epoch 186/200\n",
            "552/552 [==============================] - 0s 91us/sample - loss: 3.3234 - accuracy: 0.7337 - val_loss: 6.1767 - val_accuracy: 0.7101\n",
            "Epoch 187/200\n",
            "552/552 [==============================] - 0s 91us/sample - loss: 1.9314 - accuracy: 0.7736 - val_loss: 1.7489 - val_accuracy: 0.7754\n",
            "Epoch 188/200\n",
            "552/552 [==============================] - 0s 87us/sample - loss: 0.9977 - accuracy: 0.8207 - val_loss: 5.6873 - val_accuracy: 0.7029\n",
            "Epoch 189/200\n",
            "552/552 [==============================] - 0s 84us/sample - loss: 3.1924 - accuracy: 0.7464 - val_loss: 6.4016 - val_accuracy: 0.6812\n",
            "Epoch 190/200\n",
            "552/552 [==============================] - 0s 91us/sample - loss: 2.1828 - accuracy: 0.7627 - val_loss: 2.4502 - val_accuracy: 0.7899\n",
            "Epoch 191/200\n",
            "552/552 [==============================] - 0s 86us/sample - loss: 0.6756 - accuracy: 0.8170 - val_loss: 0.4654 - val_accuracy: 0.8478\n",
            "Epoch 192/200\n",
            "552/552 [==============================] - 0s 91us/sample - loss: 0.3748 - accuracy: 0.8659 - val_loss: 0.3576 - val_accuracy: 0.8551\n",
            "Epoch 193/200\n",
            "552/552 [==============================] - 0s 88us/sample - loss: 0.3547 - accuracy: 0.8551 - val_loss: 0.3001 - val_accuracy: 0.8768\n",
            "Epoch 194/200\n",
            "552/552 [==============================] - 0s 90us/sample - loss: 0.3554 - accuracy: 0.8659 - val_loss: 0.3038 - val_accuracy: 0.8841\n",
            "Epoch 195/200\n",
            "552/552 [==============================] - 0s 93us/sample - loss: 0.3434 - accuracy: 0.8623 - val_loss: 0.3341 - val_accuracy: 0.8551\n",
            "Epoch 196/200\n",
            "552/552 [==============================] - 0s 90us/sample - loss: 0.3463 - accuracy: 0.8623 - val_loss: 0.3794 - val_accuracy: 0.8768\n",
            "Epoch 197/200\n",
            "552/552 [==============================] - 0s 100us/sample - loss: 0.3530 - accuracy: 0.8605 - val_loss: 0.3681 - val_accuracy: 0.8551\n",
            "Epoch 198/200\n",
            "552/552 [==============================] - 0s 104us/sample - loss: 0.3621 - accuracy: 0.8659 - val_loss: 0.3025 - val_accuracy: 0.8696\n",
            "Epoch 199/200\n",
            "552/552 [==============================] - 0s 92us/sample - loss: 0.3800 - accuracy: 0.8569 - val_loss: 0.4467 - val_accuracy: 0.8261\n",
            "Epoch 200/200\n",
            "552/552 [==============================] - 0s 92us/sample - loss: 0.3863 - accuracy: 0.8496 - val_loss: 0.3271 - val_accuracy: 0.8696\n"
          ],
          "name": "stdout"
        }
      ]
    },
    {
      "cell_type": "code",
      "metadata": {
        "id": "boyum9V0aW5m"
      },
      "source": [
        "model1=Sequential()\n",
        "model1.add(Dense(12,input_dim=20))\n",
        "model1.add(Dense(4))\n",
        "model1.add(Dense(2,activation='relu'))"
      ],
      "execution_count": null,
      "outputs": []
    },
    {
      "cell_type": "code",
      "metadata": {
        "id": "iqp3_yvivMUV"
      },
      "source": [
        "model1 = tf.keras.models.Sequential([\n",
        "  tf.keras.layers.Dense(40, input_shape=(20,), activation=tf.nn.relu),\n",
        "  tf.keras.layers.Dropout(0.2),\n",
        "  tf.keras.layers.Dense(1, activation=tf.nn.softmax)\n",
        "])\n",
        "model1.compile(optimizer='adam',\n",
        "              loss='categorical_crossentropy',\n",
        "              metrics=['accuracy'])\n"
      ],
      "execution_count": null,
      "outputs": []
    },
    {
      "cell_type": "code",
      "metadata": {
        "id": "KCZr_K_Mk-7t"
      },
      "source": [
        "model1.compile(optimizer='adam',loss='categorical_crossentropy',metrics=['accuracy'])"
      ],
      "execution_count": null,
      "outputs": []
    },
    {
      "cell_type": "code",
      "metadata": {
        "id": "UC6hKXAoVdjS",
        "outputId": "175dd4ac-f460-4a19-bffa-5be1a798ef89",
        "colab": {
          "base_uri": "https://localhost:8080/",
          "height": 1000
        }
      },
      "source": [
        "history=model.fit(X_train,Y_cat_train,epochs=200,validation_data=(X_test,Y_cat_test),verbose=1)"
      ],
      "execution_count": null,
      "outputs": [
        {
          "output_type": "stream",
          "text": [
            "Train on 552 samples, validate on 138 samples\n",
            "Epoch 1/200\n",
            "552/552 [==============================] - 0s 98us/sample - loss: 0.3569 - accuracy: 0.8587 - val_loss: 0.3168 - val_accuracy: 0.8696\n",
            "Epoch 2/200\n",
            "552/552 [==============================] - 0s 85us/sample - loss: 0.3644 - accuracy: 0.8605 - val_loss: 0.3507 - val_accuracy: 0.8623\n",
            "Epoch 3/200\n",
            "552/552 [==============================] - 0s 90us/sample - loss: 0.4789 - accuracy: 0.8496 - val_loss: 0.9824 - val_accuracy: 0.7609\n",
            "Epoch 4/200\n",
            "552/552 [==============================] - 0s 89us/sample - loss: 0.4743 - accuracy: 0.8333 - val_loss: 0.3196 - val_accuracy: 0.8768\n",
            "Epoch 5/200\n",
            "552/552 [==============================] - 0s 91us/sample - loss: 0.3809 - accuracy: 0.8587 - val_loss: 0.3099 - val_accuracy: 0.8478\n",
            "Epoch 6/200\n",
            "552/552 [==============================] - 0s 98us/sample - loss: 1.7543 - accuracy: 0.7736 - val_loss: 5.3804 - val_accuracy: 0.6812\n",
            "Epoch 7/200\n",
            "552/552 [==============================] - 0s 90us/sample - loss: 2.0263 - accuracy: 0.7536 - val_loss: 2.1908 - val_accuracy: 0.7826\n",
            "Epoch 8/200\n",
            "552/552 [==============================] - 0s 89us/sample - loss: 0.8946 - accuracy: 0.8025 - val_loss: 2.4033 - val_accuracy: 0.7826\n",
            "Epoch 9/200\n",
            "552/552 [==============================] - 0s 86us/sample - loss: 0.9161 - accuracy: 0.8007 - val_loss: 0.3299 - val_accuracy: 0.8478\n",
            "Epoch 10/200\n",
            "552/552 [==============================] - 0s 86us/sample - loss: 1.1537 - accuracy: 0.7880 - val_loss: 2.2268 - val_accuracy: 0.7101\n",
            "Epoch 11/200\n",
            "552/552 [==============================] - 0s 99us/sample - loss: 0.7054 - accuracy: 0.8134 - val_loss: 0.2866 - val_accuracy: 0.8768\n",
            "Epoch 12/200\n",
            "552/552 [==============================] - 0s 88us/sample - loss: 0.3980 - accuracy: 0.8641 - val_loss: 0.3087 - val_accuracy: 0.8551\n",
            "Epoch 13/200\n",
            "552/552 [==============================] - 0s 87us/sample - loss: 0.4121 - accuracy: 0.8460 - val_loss: 1.2443 - val_accuracy: 0.8043\n",
            "Epoch 14/200\n",
            "552/552 [==============================] - 0s 92us/sample - loss: 0.5897 - accuracy: 0.8243 - val_loss: 0.3033 - val_accuracy: 0.8696\n",
            "Epoch 15/200\n",
            "552/552 [==============================] - 0s 92us/sample - loss: 0.4715 - accuracy: 0.8315 - val_loss: 0.3131 - val_accuracy: 0.8696\n",
            "Epoch 16/200\n",
            "552/552 [==============================] - 0s 87us/sample - loss: 0.3525 - accuracy: 0.8641 - val_loss: 0.3260 - val_accuracy: 0.8841\n",
            "Epoch 17/200\n",
            "552/552 [==============================] - 0s 90us/sample - loss: 0.3488 - accuracy: 0.8605 - val_loss: 0.3453 - val_accuracy: 0.8768\n",
            "Epoch 18/200\n",
            "552/552 [==============================] - 0s 88us/sample - loss: 0.3736 - accuracy: 0.8587 - val_loss: 0.4129 - val_accuracy: 0.8768\n",
            "Epoch 19/200\n",
            "552/552 [==============================] - 0s 91us/sample - loss: 0.3803 - accuracy: 0.8569 - val_loss: 0.3053 - val_accuracy: 0.8768\n",
            "Epoch 20/200\n",
            "552/552 [==============================] - 0s 91us/sample - loss: 0.3870 - accuracy: 0.8551 - val_loss: 1.9890 - val_accuracy: 0.7391\n",
            "Epoch 21/200\n",
            "552/552 [==============================] - 0s 85us/sample - loss: 1.7746 - accuracy: 0.7699 - val_loss: 2.9298 - val_accuracy: 0.6739\n",
            "Epoch 22/200\n",
            "552/552 [==============================] - 0s 91us/sample - loss: 0.9875 - accuracy: 0.8170 - val_loss: 2.3888 - val_accuracy: 0.7536\n",
            "Epoch 23/200\n",
            "552/552 [==============================] - 0s 103us/sample - loss: 2.1219 - accuracy: 0.7645 - val_loss: 4.5812 - val_accuracy: 0.7174\n",
            "Epoch 24/200\n",
            "552/552 [==============================] - 0s 91us/sample - loss: 1.4190 - accuracy: 0.7917 - val_loss: 0.8777 - val_accuracy: 0.7681\n",
            "Epoch 25/200\n",
            "552/552 [==============================] - 0s 95us/sample - loss: 0.6043 - accuracy: 0.8225 - val_loss: 0.6507 - val_accuracy: 0.8188\n",
            "Epoch 26/200\n",
            "552/552 [==============================] - 0s 93us/sample - loss: 0.3916 - accuracy: 0.8388 - val_loss: 0.3214 - val_accuracy: 0.8841\n",
            "Epoch 27/200\n",
            "552/552 [==============================] - 0s 91us/sample - loss: 0.3541 - accuracy: 0.8623 - val_loss: 0.3025 - val_accuracy: 0.8696\n",
            "Epoch 28/200\n",
            "552/552 [==============================] - 0s 86us/sample - loss: 0.3485 - accuracy: 0.8641 - val_loss: 0.2995 - val_accuracy: 0.8768\n",
            "Epoch 29/200\n",
            "552/552 [==============================] - 0s 87us/sample - loss: 0.3502 - accuracy: 0.8641 - val_loss: 0.3021 - val_accuracy: 0.8841\n",
            "Epoch 30/200\n",
            "552/552 [==============================] - 0s 91us/sample - loss: 0.3634 - accuracy: 0.8478 - val_loss: 0.5610 - val_accuracy: 0.8043\n",
            "Epoch 31/200\n",
            "552/552 [==============================] - 0s 85us/sample - loss: 0.3889 - accuracy: 0.8533 - val_loss: 0.3473 - val_accuracy: 0.8696\n",
            "Epoch 32/200\n",
            "552/552 [==============================] - 0s 93us/sample - loss: 1.0427 - accuracy: 0.8062 - val_loss: 3.4529 - val_accuracy: 0.7319\n",
            "Epoch 33/200\n",
            "552/552 [==============================] - 0s 87us/sample - loss: 1.1823 - accuracy: 0.7989 - val_loss: 0.4102 - val_accuracy: 0.8696\n",
            "Epoch 34/200\n",
            "552/552 [==============================] - 0s 88us/sample - loss: 1.6754 - accuracy: 0.7862 - val_loss: 6.4000 - val_accuracy: 0.7246\n",
            "Epoch 35/200\n",
            "552/552 [==============================] - 0s 91us/sample - loss: 2.5429 - accuracy: 0.7283 - val_loss: 3.5474 - val_accuracy: 0.7681\n",
            "Epoch 36/200\n",
            "552/552 [==============================] - 0s 99us/sample - loss: 0.8859 - accuracy: 0.8116 - val_loss: 0.6633 - val_accuracy: 0.7826\n",
            "Epoch 37/200\n",
            "552/552 [==============================] - 0s 86us/sample - loss: 1.1159 - accuracy: 0.7899 - val_loss: 2.1325 - val_accuracy: 0.7246\n",
            "Epoch 38/200\n",
            "552/552 [==============================] - 0s 87us/sample - loss: 0.8344 - accuracy: 0.7808 - val_loss: 2.3180 - val_accuracy: 0.7246\n",
            "Epoch 39/200\n",
            "552/552 [==============================] - 0s 85us/sample - loss: 2.5341 - accuracy: 0.7083 - val_loss: 6.1337 - val_accuracy: 0.7101\n",
            "Epoch 40/200\n",
            "552/552 [==============================] - 0s 91us/sample - loss: 2.0157 - accuracy: 0.7572 - val_loss: 2.3920 - val_accuracy: 0.7754\n",
            "Epoch 41/200\n",
            "552/552 [==============================] - 0s 96us/sample - loss: 1.2809 - accuracy: 0.7899 - val_loss: 5.0356 - val_accuracy: 0.7464\n",
            "Epoch 42/200\n",
            "552/552 [==============================] - 0s 91us/sample - loss: 2.2481 - accuracy: 0.7681 - val_loss: 3.6761 - val_accuracy: 0.7754\n",
            "Epoch 43/200\n",
            "552/552 [==============================] - 0s 96us/sample - loss: 1.1098 - accuracy: 0.8080 - val_loss: 0.5832 - val_accuracy: 0.8406\n",
            "Epoch 44/200\n",
            "552/552 [==============================] - 0s 86us/sample - loss: 0.5331 - accuracy: 0.8315 - val_loss: 0.4081 - val_accuracy: 0.8406\n",
            "Epoch 45/200\n",
            "552/552 [==============================] - 0s 90us/sample - loss: 0.4480 - accuracy: 0.8333 - val_loss: 0.3134 - val_accuracy: 0.8623\n",
            "Epoch 46/200\n",
            "552/552 [==============================] - 0s 93us/sample - loss: 0.7615 - accuracy: 0.8116 - val_loss: 1.8458 - val_accuracy: 0.7319\n",
            "Epoch 47/200\n",
            "552/552 [==============================] - 0s 95us/sample - loss: 0.6621 - accuracy: 0.8333 - val_loss: 0.2980 - val_accuracy: 0.8696\n",
            "Epoch 48/200\n",
            "552/552 [==============================] - 0s 95us/sample - loss: 0.3592 - accuracy: 0.8514 - val_loss: 0.3302 - val_accuracy: 0.8696\n",
            "Epoch 49/200\n",
            "552/552 [==============================] - 0s 92us/sample - loss: 0.3724 - accuracy: 0.8750 - val_loss: 0.3411 - val_accuracy: 0.8623\n",
            "Epoch 50/200\n",
            "552/552 [==============================] - 0s 86us/sample - loss: 0.3824 - accuracy: 0.8478 - val_loss: 0.3531 - val_accuracy: 0.8551\n",
            "Epoch 51/200\n",
            "552/552 [==============================] - 0s 90us/sample - loss: 0.9421 - accuracy: 0.8261 - val_loss: 4.5210 - val_accuracy: 0.7754\n",
            "Epoch 52/200\n",
            "552/552 [==============================] - 0s 89us/sample - loss: 1.6977 - accuracy: 0.7572 - val_loss: 1.6270 - val_accuracy: 0.7826\n",
            "Epoch 53/200\n",
            "552/552 [==============================] - 0s 87us/sample - loss: 0.6020 - accuracy: 0.8424 - val_loss: 0.6277 - val_accuracy: 0.7899\n",
            "Epoch 54/200\n",
            "552/552 [==============================] - 0s 92us/sample - loss: 0.4231 - accuracy: 0.8460 - val_loss: 0.6186 - val_accuracy: 0.7899\n",
            "Epoch 55/200\n",
            "552/552 [==============================] - 0s 86us/sample - loss: 0.4438 - accuracy: 0.8370 - val_loss: 0.3323 - val_accuracy: 0.8406\n",
            "Epoch 56/200\n",
            "552/552 [==============================] - 0s 85us/sample - loss: 0.4210 - accuracy: 0.8496 - val_loss: 0.3963 - val_accuracy: 0.8841\n",
            "Epoch 57/200\n",
            "552/552 [==============================] - 0s 92us/sample - loss: 0.4489 - accuracy: 0.8533 - val_loss: 0.3172 - val_accuracy: 0.8841\n",
            "Epoch 58/200\n",
            "552/552 [==============================] - 0s 96us/sample - loss: 0.3621 - accuracy: 0.8623 - val_loss: 0.2995 - val_accuracy: 0.8696\n",
            "Epoch 59/200\n",
            "552/552 [==============================] - 0s 96us/sample - loss: 0.3623 - accuracy: 0.8551 - val_loss: 0.4955 - val_accuracy: 0.8406\n",
            "Epoch 60/200\n",
            "552/552 [==============================] - 0s 90us/sample - loss: 0.3952 - accuracy: 0.8424 - val_loss: 0.3952 - val_accuracy: 0.8551\n",
            "Epoch 61/200\n",
            "552/552 [==============================] - 0s 85us/sample - loss: 0.3565 - accuracy: 0.8605 - val_loss: 0.3600 - val_accuracy: 0.8768\n",
            "Epoch 62/200\n",
            "552/552 [==============================] - 0s 90us/sample - loss: 0.4103 - accuracy: 0.8460 - val_loss: 1.2905 - val_accuracy: 0.7971\n",
            "Epoch 63/200\n",
            "552/552 [==============================] - 0s 88us/sample - loss: 0.6111 - accuracy: 0.8388 - val_loss: 0.5513 - val_accuracy: 0.7609\n",
            "Epoch 64/200\n",
            "552/552 [==============================] - 0s 91us/sample - loss: 0.4956 - accuracy: 0.8388 - val_loss: 0.3706 - val_accuracy: 0.8406\n",
            "Epoch 65/200\n",
            "552/552 [==============================] - 0s 89us/sample - loss: 3.0853 - accuracy: 0.7554 - val_loss: 10.0524 - val_accuracy: 0.6957\n",
            "Epoch 66/200\n",
            "552/552 [==============================] - 0s 88us/sample - loss: 4.1095 - accuracy: 0.7101 - val_loss: 6.4800 - val_accuracy: 0.7246\n",
            "Epoch 67/200\n",
            "552/552 [==============================] - 0s 90us/sample - loss: 2.1515 - accuracy: 0.7754 - val_loss: 2.3195 - val_accuracy: 0.7174\n",
            "Epoch 68/200\n",
            "552/552 [==============================] - 0s 88us/sample - loss: 0.7784 - accuracy: 0.7917 - val_loss: 0.7435 - val_accuracy: 0.7681\n",
            "Epoch 69/200\n",
            "552/552 [==============================] - 0s 93us/sample - loss: 0.4619 - accuracy: 0.8478 - val_loss: 0.4517 - val_accuracy: 0.8841\n",
            "Epoch 70/200\n",
            "552/552 [==============================] - 0s 92us/sample - loss: 0.3728 - accuracy: 0.8496 - val_loss: 0.3117 - val_accuracy: 0.8841\n",
            "Epoch 71/200\n",
            "552/552 [==============================] - 0s 92us/sample - loss: 0.3742 - accuracy: 0.8569 - val_loss: 0.2998 - val_accuracy: 0.8623\n",
            "Epoch 72/200\n",
            "552/552 [==============================] - 0s 91us/sample - loss: 0.4095 - accuracy: 0.8551 - val_loss: 0.6962 - val_accuracy: 0.8043\n",
            "Epoch 73/200\n",
            "552/552 [==============================] - 0s 98us/sample - loss: 0.5518 - accuracy: 0.8406 - val_loss: 2.2559 - val_accuracy: 0.7319\n",
            "Epoch 74/200\n",
            "552/552 [==============================] - 0s 89us/sample - loss: 1.1711 - accuracy: 0.7772 - val_loss: 1.3884 - val_accuracy: 0.7681\n",
            "Epoch 75/200\n",
            "552/552 [==============================] - 0s 89us/sample - loss: 0.5485 - accuracy: 0.8442 - val_loss: 0.7758 - val_accuracy: 0.7826\n",
            "Epoch 76/200\n",
            "552/552 [==============================] - 0s 95us/sample - loss: 0.5931 - accuracy: 0.8388 - val_loss: 0.3492 - val_accuracy: 0.8696\n",
            "Epoch 77/200\n",
            "552/552 [==============================] - 0s 87us/sample - loss: 0.3897 - accuracy: 0.8533 - val_loss: 0.3507 - val_accuracy: 0.8551\n",
            "Epoch 78/200\n",
            "552/552 [==============================] - 0s 89us/sample - loss: 0.3769 - accuracy: 0.8460 - val_loss: 0.3246 - val_accuracy: 0.8696\n",
            "Epoch 79/200\n",
            "552/552 [==============================] - 0s 92us/sample - loss: 0.3599 - accuracy: 0.8641 - val_loss: 0.3084 - val_accuracy: 0.8696\n",
            "Epoch 80/200\n",
            "552/552 [==============================] - 0s 93us/sample - loss: 0.3536 - accuracy: 0.8587 - val_loss: 0.3039 - val_accuracy: 0.8841\n",
            "Epoch 81/200\n",
            "552/552 [==============================] - 0s 107us/sample - loss: 0.3515 - accuracy: 0.8587 - val_loss: 0.2992 - val_accuracy: 0.8696\n",
            "Epoch 82/200\n",
            "552/552 [==============================] - 0s 94us/sample - loss: 0.3597 - accuracy: 0.8641 - val_loss: 0.3235 - val_accuracy: 0.8841\n",
            "Epoch 83/200\n",
            "552/552 [==============================] - 0s 92us/sample - loss: 0.3623 - accuracy: 0.8641 - val_loss: 0.3080 - val_accuracy: 0.8841\n",
            "Epoch 84/200\n",
            "552/552 [==============================] - 0s 89us/sample - loss: 0.4213 - accuracy: 0.8478 - val_loss: 0.4820 - val_accuracy: 0.8188\n",
            "Epoch 85/200\n",
            "552/552 [==============================] - 0s 81us/sample - loss: 0.4622 - accuracy: 0.8478 - val_loss: 1.0769 - val_accuracy: 0.7971\n",
            "Epoch 86/200\n",
            "552/552 [==============================] - 0s 82us/sample - loss: 0.5094 - accuracy: 0.8533 - val_loss: 0.3683 - val_accuracy: 0.8478\n",
            "Epoch 87/200\n",
            "552/552 [==============================] - 0s 90us/sample - loss: 0.4041 - accuracy: 0.8496 - val_loss: 0.3260 - val_accuracy: 0.8478\n",
            "Epoch 88/200\n",
            "552/552 [==============================] - 0s 99us/sample - loss: 0.3538 - accuracy: 0.8587 - val_loss: 0.3741 - val_accuracy: 0.8478\n",
            "Epoch 89/200\n",
            "552/552 [==============================] - 0s 89us/sample - loss: 0.3594 - accuracy: 0.8587 - val_loss: 0.3004 - val_accuracy: 0.8696\n",
            "Epoch 90/200\n",
            "552/552 [==============================] - 0s 90us/sample - loss: 0.3466 - accuracy: 0.8641 - val_loss: 0.3155 - val_accuracy: 0.8623\n",
            "Epoch 91/200\n",
            "552/552 [==============================] - 0s 91us/sample - loss: 0.3434 - accuracy: 0.8605 - val_loss: 0.3114 - val_accuracy: 0.8696\n",
            "Epoch 92/200\n",
            "552/552 [==============================] - 0s 91us/sample - loss: 0.3489 - accuracy: 0.8569 - val_loss: 0.4156 - val_accuracy: 0.8623\n",
            "Epoch 93/200\n",
            "552/552 [==============================] - 0s 89us/sample - loss: 0.3478 - accuracy: 0.8678 - val_loss: 0.3009 - val_accuracy: 0.8696\n",
            "Epoch 94/200\n",
            "552/552 [==============================] - 0s 96us/sample - loss: 0.3415 - accuracy: 0.8587 - val_loss: 0.3141 - val_accuracy: 0.8768\n",
            "Epoch 95/200\n",
            "552/552 [==============================] - 0s 95us/sample - loss: 0.3420 - accuracy: 0.8623 - val_loss: 0.3074 - val_accuracy: 0.8841\n",
            "Epoch 96/200\n",
            "552/552 [==============================] - 0s 90us/sample - loss: 0.3626 - accuracy: 0.8478 - val_loss: 0.3066 - val_accuracy: 0.8768\n",
            "Epoch 97/200\n",
            "552/552 [==============================] - 0s 97us/sample - loss: 0.3425 - accuracy: 0.8623 - val_loss: 0.3064 - val_accuracy: 0.8768\n",
            "Epoch 98/200\n",
            "552/552 [==============================] - 0s 90us/sample - loss: 0.7351 - accuracy: 0.8098 - val_loss: 1.9627 - val_accuracy: 0.7246\n",
            "Epoch 99/200\n",
            "552/552 [==============================] - 0s 89us/sample - loss: 0.7901 - accuracy: 0.8025 - val_loss: 1.1449 - val_accuracy: 0.7536\n",
            "Epoch 100/200\n",
            "552/552 [==============================] - 0s 89us/sample - loss: 1.6519 - accuracy: 0.7862 - val_loss: 2.8798 - val_accuracy: 0.6739\n",
            "Epoch 101/200\n",
            "552/552 [==============================] - 0s 86us/sample - loss: 0.9660 - accuracy: 0.7826 - val_loss: 0.7915 - val_accuracy: 0.7464\n",
            "Epoch 102/200\n",
            "552/552 [==============================] - 0s 87us/sample - loss: 0.4276 - accuracy: 0.8370 - val_loss: 0.3612 - val_accuracy: 0.8696\n",
            "Epoch 103/200\n",
            "552/552 [==============================] - 0s 88us/sample - loss: 0.6331 - accuracy: 0.8243 - val_loss: 5.1503 - val_accuracy: 0.7536\n",
            "Epoch 104/200\n",
            "552/552 [==============================] - 0s 90us/sample - loss: 2.6899 - accuracy: 0.7355 - val_loss: 5.4538 - val_accuracy: 0.7536\n",
            "Epoch 105/200\n",
            "552/552 [==============================] - 0s 85us/sample - loss: 1.8360 - accuracy: 0.7844 - val_loss: 1.7390 - val_accuracy: 0.7174\n",
            "Epoch 106/200\n",
            "552/552 [==============================] - 0s 95us/sample - loss: 0.4673 - accuracy: 0.8370 - val_loss: 0.5548 - val_accuracy: 0.8116\n",
            "Epoch 107/200\n",
            "552/552 [==============================] - 0s 91us/sample - loss: 0.5024 - accuracy: 0.8424 - val_loss: 1.5348 - val_accuracy: 0.7971\n",
            "Epoch 108/200\n",
            "552/552 [==============================] - 0s 87us/sample - loss: 0.6155 - accuracy: 0.8442 - val_loss: 0.4108 - val_accuracy: 0.8406\n",
            "Epoch 109/200\n",
            "552/552 [==============================] - 0s 106us/sample - loss: 1.1634 - accuracy: 0.8025 - val_loss: 2.9281 - val_accuracy: 0.7029\n",
            "Epoch 110/200\n",
            "552/552 [==============================] - 0s 90us/sample - loss: 0.9326 - accuracy: 0.7772 - val_loss: 0.3101 - val_accuracy: 0.8913\n",
            "Epoch 111/200\n",
            "552/552 [==============================] - 0s 89us/sample - loss: 0.4527 - accuracy: 0.8514 - val_loss: 0.5661 - val_accuracy: 0.8333\n",
            "Epoch 112/200\n",
            "552/552 [==============================] - 0s 90us/sample - loss: 0.4193 - accuracy: 0.8478 - val_loss: 0.3369 - val_accuracy: 0.8841\n",
            "Epoch 113/200\n",
            "552/552 [==============================] - 0s 91us/sample - loss: 0.3651 - accuracy: 0.8641 - val_loss: 0.2929 - val_accuracy: 0.8841\n",
            "Epoch 114/200\n",
            "552/552 [==============================] - 0s 92us/sample - loss: 0.3510 - accuracy: 0.8641 - val_loss: 0.3306 - val_accuracy: 0.8551\n",
            "Epoch 115/200\n",
            "552/552 [==============================] - 0s 90us/sample - loss: 0.3730 - accuracy: 0.8514 - val_loss: 0.3507 - val_accuracy: 0.8478\n",
            "Epoch 116/200\n",
            "552/552 [==============================] - 0s 94us/sample - loss: 0.3551 - accuracy: 0.8533 - val_loss: 0.3297 - val_accuracy: 0.8768\n",
            "Epoch 117/200\n",
            "552/552 [==============================] - 0s 93us/sample - loss: 0.3551 - accuracy: 0.8678 - val_loss: 0.5115 - val_accuracy: 0.8188\n",
            "Epoch 118/200\n",
            "552/552 [==============================] - 0s 103us/sample - loss: 0.6878 - accuracy: 0.8424 - val_loss: 2.8599 - val_accuracy: 0.7754\n",
            "Epoch 119/200\n",
            "552/552 [==============================] - 0s 97us/sample - loss: 1.1228 - accuracy: 0.8025 - val_loss: 0.7685 - val_accuracy: 0.8116\n",
            "Epoch 120/200\n",
            "552/552 [==============================] - 0s 89us/sample - loss: 0.4858 - accuracy: 0.8351 - val_loss: 0.8326 - val_accuracy: 0.7826\n",
            "Epoch 121/200\n",
            "552/552 [==============================] - 0s 93us/sample - loss: 0.4736 - accuracy: 0.8351 - val_loss: 0.4666 - val_accuracy: 0.8333\n",
            "Epoch 122/200\n",
            "552/552 [==============================] - 0s 92us/sample - loss: 0.6097 - accuracy: 0.8279 - val_loss: 1.7778 - val_accuracy: 0.7536\n",
            "Epoch 123/200\n",
            "552/552 [==============================] - 0s 93us/sample - loss: 0.6535 - accuracy: 0.8152 - val_loss: 0.2951 - val_accuracy: 0.8841\n",
            "Epoch 124/200\n",
            "552/552 [==============================] - 0s 94us/sample - loss: 0.4328 - accuracy: 0.8496 - val_loss: 0.4909 - val_accuracy: 0.8696\n",
            "Epoch 125/200\n",
            "552/552 [==============================] - 0s 89us/sample - loss: 0.3712 - accuracy: 0.8623 - val_loss: 0.3610 - val_accuracy: 0.8406\n",
            "Epoch 126/200\n",
            "552/552 [==============================] - 0s 90us/sample - loss: 0.5337 - accuracy: 0.8388 - val_loss: 0.4509 - val_accuracy: 0.7754\n",
            "Epoch 127/200\n",
            "552/552 [==============================] - 0s 88us/sample - loss: 0.5275 - accuracy: 0.8134 - val_loss: 0.5605 - val_accuracy: 0.7464\n",
            "Epoch 128/200\n",
            "552/552 [==============================] - 0s 85us/sample - loss: 0.3842 - accuracy: 0.8551 - val_loss: 0.3176 - val_accuracy: 0.8623\n",
            "Epoch 129/200\n",
            "552/552 [==============================] - 0s 93us/sample - loss: 0.3433 - accuracy: 0.8587 - val_loss: 0.3036 - val_accuracy: 0.8841\n",
            "Epoch 130/200\n",
            "552/552 [==============================] - 0s 87us/sample - loss: 0.3520 - accuracy: 0.8533 - val_loss: 1.2424 - val_accuracy: 0.7536\n",
            "Epoch 131/200\n",
            "552/552 [==============================] - 0s 94us/sample - loss: 1.1627 - accuracy: 0.8043 - val_loss: 1.5233 - val_accuracy: 0.7319\n",
            "Epoch 132/200\n",
            "552/552 [==============================] - 0s 84us/sample - loss: 0.5993 - accuracy: 0.8297 - val_loss: 0.7998 - val_accuracy: 0.7609\n",
            "Epoch 133/200\n",
            "552/552 [==============================] - 0s 93us/sample - loss: 0.4049 - accuracy: 0.8514 - val_loss: 0.4684 - val_accuracy: 0.8188\n",
            "Epoch 134/200\n",
            "552/552 [==============================] - 0s 90us/sample - loss: 0.3660 - accuracy: 0.8533 - val_loss: 0.3067 - val_accuracy: 0.8623\n",
            "Epoch 135/200\n",
            "552/552 [==============================] - 0s 86us/sample - loss: 0.3452 - accuracy: 0.8569 - val_loss: 0.3142 - val_accuracy: 0.9058\n",
            "Epoch 136/200\n",
            "552/552 [==============================] - 0s 85us/sample - loss: 0.8063 - accuracy: 0.8279 - val_loss: 3.3671 - val_accuracy: 0.7609\n",
            "Epoch 137/200\n",
            "552/552 [==============================] - 0s 89us/sample - loss: 1.3258 - accuracy: 0.7754 - val_loss: 1.0552 - val_accuracy: 0.7899\n",
            "Epoch 138/200\n",
            "552/552 [==============================] - 0s 99us/sample - loss: 0.5356 - accuracy: 0.8207 - val_loss: 1.0170 - val_accuracy: 0.7609\n",
            "Epoch 139/200\n",
            "552/552 [==============================] - 0s 96us/sample - loss: 0.4946 - accuracy: 0.8170 - val_loss: 0.3005 - val_accuracy: 0.8623\n",
            "Epoch 140/200\n",
            "552/552 [==============================] - 0s 92us/sample - loss: 0.3511 - accuracy: 0.8623 - val_loss: 0.3525 - val_accuracy: 0.8768\n",
            "Epoch 141/200\n",
            "552/552 [==============================] - 0s 93us/sample - loss: 0.3629 - accuracy: 0.8587 - val_loss: 0.4222 - val_accuracy: 0.8551\n",
            "Epoch 142/200\n",
            "552/552 [==============================] - 0s 84us/sample - loss: 0.4268 - accuracy: 0.8460 - val_loss: 0.6764 - val_accuracy: 0.8261\n",
            "Epoch 143/200\n",
            "552/552 [==============================] - 0s 88us/sample - loss: 1.0973 - accuracy: 0.8025 - val_loss: 5.2131 - val_accuracy: 0.7464\n",
            "Epoch 144/200\n",
            "552/552 [==============================] - 0s 92us/sample - loss: 2.2776 - accuracy: 0.7554 - val_loss: 3.9226 - val_accuracy: 0.6884\n",
            "Epoch 145/200\n",
            "552/552 [==============================] - 0s 93us/sample - loss: 1.0306 - accuracy: 0.8007 - val_loss: 0.3263 - val_accuracy: 0.8406\n",
            "Epoch 146/200\n",
            "552/552 [==============================] - 0s 88us/sample - loss: 2.4631 - accuracy: 0.7554 - val_loss: 6.2604 - val_accuracy: 0.7101\n",
            "Epoch 147/200\n",
            "552/552 [==============================] - 0s 90us/sample - loss: 2.4040 - accuracy: 0.7283 - val_loss: 3.1191 - val_accuracy: 0.7464\n",
            "Epoch 148/200\n",
            "552/552 [==============================] - 0s 94us/sample - loss: 0.9579 - accuracy: 0.7935 - val_loss: 3.1126 - val_accuracy: 0.7391\n",
            "Epoch 149/200\n",
            "552/552 [==============================] - 0s 97us/sample - loss: 2.4015 - accuracy: 0.7482 - val_loss: 5.0186 - val_accuracy: 0.7029\n",
            "Epoch 150/200\n",
            "552/552 [==============================] - 0s 97us/sample - loss: 1.7590 - accuracy: 0.7500 - val_loss: 1.9779 - val_accuracy: 0.7899\n",
            "Epoch 151/200\n",
            "552/552 [==============================] - 0s 97us/sample - loss: 0.6667 - accuracy: 0.8062 - val_loss: 1.4124 - val_accuracy: 0.7536\n",
            "Epoch 152/200\n",
            "552/552 [==============================] - 0s 88us/sample - loss: 0.7441 - accuracy: 0.8043 - val_loss: 0.4700 - val_accuracy: 0.8261\n",
            "Epoch 153/200\n",
            "552/552 [==============================] - 0s 88us/sample - loss: 0.3897 - accuracy: 0.8388 - val_loss: 0.5565 - val_accuracy: 0.7971\n",
            "Epoch 154/200\n",
            "552/552 [==============================] - 0s 91us/sample - loss: 0.4246 - accuracy: 0.8370 - val_loss: 0.3764 - val_accuracy: 0.8261\n",
            "Epoch 155/200\n",
            "552/552 [==============================] - 0s 98us/sample - loss: 0.4208 - accuracy: 0.8496 - val_loss: 3.2924 - val_accuracy: 0.7319\n",
            "Epoch 156/200\n",
            "552/552 [==============================] - 0s 98us/sample - loss: 2.3248 - accuracy: 0.7663 - val_loss: 4.7910 - val_accuracy: 0.7029\n",
            "Epoch 157/200\n",
            "552/552 [==============================] - 0s 87us/sample - loss: 1.7149 - accuracy: 0.7554 - val_loss: 2.1288 - val_accuracy: 0.7609\n",
            "Epoch 158/200\n",
            "552/552 [==============================] - 0s 87us/sample - loss: 0.6825 - accuracy: 0.8315 - val_loss: 0.2902 - val_accuracy: 0.8986\n",
            "Epoch 159/200\n",
            "552/552 [==============================] - 0s 91us/sample - loss: 0.4163 - accuracy: 0.8424 - val_loss: 0.3572 - val_accuracy: 0.8841\n",
            "Epoch 160/200\n",
            "552/552 [==============================] - 0s 87us/sample - loss: 0.3588 - accuracy: 0.8551 - val_loss: 0.3467 - val_accuracy: 0.8551\n",
            "Epoch 161/200\n",
            "552/552 [==============================] - 0s 89us/sample - loss: 0.3439 - accuracy: 0.8551 - val_loss: 0.3051 - val_accuracy: 0.8841\n",
            "Epoch 162/200\n",
            "552/552 [==============================] - 0s 91us/sample - loss: 0.3638 - accuracy: 0.8514 - val_loss: 0.3642 - val_accuracy: 0.8841\n",
            "Epoch 163/200\n",
            "552/552 [==============================] - 0s 85us/sample - loss: 0.3795 - accuracy: 0.8587 - val_loss: 0.3215 - val_accuracy: 0.8551\n",
            "Epoch 164/200\n",
            "552/552 [==============================] - 0s 94us/sample - loss: 0.3536 - accuracy: 0.8605 - val_loss: 0.2970 - val_accuracy: 0.8696\n",
            "Epoch 165/200\n",
            "552/552 [==============================] - 0s 94us/sample - loss: 0.3588 - accuracy: 0.8551 - val_loss: 0.3454 - val_accuracy: 0.8623\n",
            "Epoch 166/200\n",
            "552/552 [==============================] - 0s 96us/sample - loss: 0.3440 - accuracy: 0.8478 - val_loss: 0.3040 - val_accuracy: 0.8623\n",
            "Epoch 167/200\n",
            "552/552 [==============================] - 0s 91us/sample - loss: 0.3367 - accuracy: 0.8623 - val_loss: 0.3160 - val_accuracy: 0.8696\n",
            "Epoch 168/200\n",
            "552/552 [==============================] - 0s 87us/sample - loss: 0.3481 - accuracy: 0.8641 - val_loss: 0.3033 - val_accuracy: 0.8913\n",
            "Epoch 169/200\n",
            "552/552 [==============================] - 0s 87us/sample - loss: 0.3519 - accuracy: 0.8551 - val_loss: 0.3736 - val_accuracy: 0.8623\n",
            "Epoch 170/200\n",
            "552/552 [==============================] - 0s 85us/sample - loss: 0.3683 - accuracy: 0.8533 - val_loss: 0.3503 - val_accuracy: 0.8768\n",
            "Epoch 171/200\n",
            "552/552 [==============================] - 0s 95us/sample - loss: 0.3367 - accuracy: 0.8623 - val_loss: 0.3053 - val_accuracy: 0.8768\n",
            "Epoch 172/200\n",
            "552/552 [==============================] - 0s 84us/sample - loss: 0.3477 - accuracy: 0.8605 - val_loss: 0.3015 - val_accuracy: 0.8696\n",
            "Epoch 173/200\n",
            "552/552 [==============================] - 0s 86us/sample - loss: 0.4816 - accuracy: 0.8478 - val_loss: 0.4142 - val_accuracy: 0.8623\n",
            "Epoch 174/200\n",
            "552/552 [==============================] - 0s 89us/sample - loss: 1.5608 - accuracy: 0.7681 - val_loss: 6.0232 - val_accuracy: 0.7174\n",
            "Epoch 175/200\n",
            "552/552 [==============================] - 0s 100us/sample - loss: 2.7442 - accuracy: 0.7174 - val_loss: 4.9492 - val_accuracy: 0.6884\n",
            "Epoch 176/200\n",
            "552/552 [==============================] - 0s 98us/sample - loss: 1.7376 - accuracy: 0.7681 - val_loss: 1.9813 - val_accuracy: 0.7464\n",
            "Epoch 177/200\n",
            "552/552 [==============================] - 0s 88us/sample - loss: 0.7138 - accuracy: 0.8261 - val_loss: 0.3006 - val_accuracy: 0.8841\n",
            "Epoch 178/200\n",
            "552/552 [==============================] - 0s 96us/sample - loss: 0.3649 - accuracy: 0.8551 - val_loss: 0.3125 - val_accuracy: 0.8841\n",
            "Epoch 179/200\n",
            "552/552 [==============================] - 0s 94us/sample - loss: 0.3395 - accuracy: 0.8623 - val_loss: 0.3204 - val_accuracy: 0.8623\n",
            "Epoch 180/200\n",
            "552/552 [==============================] - 0s 88us/sample - loss: 0.3377 - accuracy: 0.8605 - val_loss: 0.3028 - val_accuracy: 0.8913\n",
            "Epoch 181/200\n",
            "552/552 [==============================] - 0s 89us/sample - loss: 0.3403 - accuracy: 0.8623 - val_loss: 0.2976 - val_accuracy: 0.8841\n",
            "Epoch 182/200\n",
            "552/552 [==============================] - 0s 93us/sample - loss: 0.3549 - accuracy: 0.8696 - val_loss: 0.3072 - val_accuracy: 0.8768\n",
            "Epoch 183/200\n",
            "552/552 [==============================] - 0s 93us/sample - loss: 0.3394 - accuracy: 0.8678 - val_loss: 0.3005 - val_accuracy: 0.8841\n",
            "Epoch 184/200\n",
            "552/552 [==============================] - 0s 86us/sample - loss: 0.3465 - accuracy: 0.8605 - val_loss: 0.8644 - val_accuracy: 0.7826\n",
            "Epoch 185/200\n",
            "552/552 [==============================] - 0s 90us/sample - loss: 0.5471 - accuracy: 0.8351 - val_loss: 0.3520 - val_accuracy: 0.8623\n",
            "Epoch 186/200\n",
            "552/552 [==============================] - 0s 85us/sample - loss: 0.3492 - accuracy: 0.8605 - val_loss: 0.3010 - val_accuracy: 0.8768\n",
            "Epoch 187/200\n",
            "552/552 [==============================] - 0s 104us/sample - loss: 0.3438 - accuracy: 0.8678 - val_loss: 0.3586 - val_accuracy: 0.8551\n",
            "Epoch 188/200\n",
            "552/552 [==============================] - 0s 97us/sample - loss: 0.4219 - accuracy: 0.8460 - val_loss: 1.3013 - val_accuracy: 0.7754\n",
            "Epoch 189/200\n",
            "552/552 [==============================] - 0s 90us/sample - loss: 1.5941 - accuracy: 0.7645 - val_loss: 4.0971 - val_accuracy: 0.7319\n",
            "Epoch 190/200\n",
            "552/552 [==============================] - 0s 89us/sample - loss: 1.5700 - accuracy: 0.7645 - val_loss: 2.2605 - val_accuracy: 0.7391\n",
            "Epoch 191/200\n",
            "552/552 [==============================] - 0s 92us/sample - loss: 0.6982 - accuracy: 0.8134 - val_loss: 0.2982 - val_accuracy: 0.8768\n",
            "Epoch 192/200\n",
            "552/552 [==============================] - 0s 118us/sample - loss: 0.6239 - accuracy: 0.8261 - val_loss: 1.0334 - val_accuracy: 0.8043\n",
            "Epoch 193/200\n",
            "552/552 [==============================] - 0s 91us/sample - loss: 0.4678 - accuracy: 0.8170 - val_loss: 0.3026 - val_accuracy: 0.8623\n",
            "Epoch 194/200\n",
            "552/552 [==============================] - 0s 95us/sample - loss: 0.3576 - accuracy: 0.8605 - val_loss: 0.3094 - val_accuracy: 0.8841\n",
            "Epoch 195/200\n",
            "552/552 [==============================] - 0s 88us/sample - loss: 0.3477 - accuracy: 0.8569 - val_loss: 0.3117 - val_accuracy: 0.8913\n",
            "Epoch 196/200\n",
            "552/552 [==============================] - 0s 93us/sample - loss: 0.3550 - accuracy: 0.8569 - val_loss: 0.3069 - val_accuracy: 0.8623\n",
            "Epoch 197/200\n",
            "552/552 [==============================] - 0s 90us/sample - loss: 0.3407 - accuracy: 0.8587 - val_loss: 0.3018 - val_accuracy: 0.8768\n",
            "Epoch 198/200\n",
            "552/552 [==============================] - 0s 89us/sample - loss: 0.3423 - accuracy: 0.8696 - val_loss: 0.3048 - val_accuracy: 0.8841\n",
            "Epoch 199/200\n",
            "552/552 [==============================] - 0s 91us/sample - loss: 0.3413 - accuracy: 0.8605 - val_loss: 0.3098 - val_accuracy: 0.8696\n",
            "Epoch 200/200\n",
            "552/552 [==============================] - 0s 98us/sample - loss: 0.3526 - accuracy: 0.8587 - val_loss: 0.3416 - val_accuracy: 0.8551\n"
          ],
          "name": "stdout"
        }
      ]
    },
    {
      "cell_type": "code",
      "metadata": {
        "id": "btUu51wqeLhk",
        "outputId": "4c50269b-a042-4276-f8d4-b0dee64c0eb8",
        "colab": {
          "base_uri": "https://localhost:8080/",
          "height": 147
        }
      },
      "source": [
        "y_pred=model.predict(x_test)\n",
        "print(np.argmax(y_pred,axis=1))\n",
        "print(accuracy_score(np.argmax(y_pred.round(),axis=1),np.argmax(Y_cat_test,axis=1)))\n",
        "print(confusion_matrix(np.argmax(y_pred.round(),axis=1),np.argmax(Y_cat_test,axis=1)))"
      ],
      "execution_count": null,
      "outputs": [
        {
          "output_type": "stream",
          "text": [
            "[0 0 1 0 1 1 1 1 0 1 0 1 1 0 1 0 0 0 1 1 1 0 1 1 1 0 0 1 1 0 0 0 0 1 1 0 1\n",
            " 0 1 0 1 0 0 0 1 0 1 1 1 1 1 0 1 1 0 0 1 0 1 1 0 0 0 0 1 0 1 0 0 1 0 1 1 1\n",
            " 1 0 1 0 1 0 0 0 0 1 0 0 1 0 1 1 1 0 0 0 1 1 0 0 0 0 0 0 1 0 1 1 0 0 1 1 0\n",
            " 0 1 1 1 0 0 1 1 0 0 0 0 1 0 0 0 1 0 0 1 0 0 1 0 0 1 0]\n",
            "0.8623188405797102\n",
            "[[58 16]\n",
            " [ 3 61]]\n"
          ],
          "name": "stdout"
        }
      ]
    },
    {
      "cell_type": "code",
      "metadata": {
        "id": "2jxalAJzeLhs",
        "outputId": "77224ae9-7283-4719-be3b-18889a01210b",
        "colab": {
          "base_uri": "https://localhost:8080/",
          "height": 36
        }
      },
      "source": [
        "scores_svm =cross_val_score(SVC(gamma='auto'), x, y, cv=10)\n",
        "print(scores_svm.mean())"
      ],
      "execution_count": null,
      "outputs": [
        {
          "output_type": "stream",
          "text": [
            "0.553623188405797\n"
          ],
          "name": "stdout"
        }
      ]
    },
    {
      "cell_type": "code",
      "metadata": {
        "id": "DDPjBxBseLhx",
        "outputId": "1d6963d1-1fd5-4d2f-804f-950b56245cc2",
        "colab": {
          "base_uri": "https://localhost:8080/",
          "height": 36
        }
      },
      "source": [
        "scores_NB =cross_val_score(Nb, x, y, cv=10)\n",
        "print(scores_NB.mean())"
      ],
      "execution_count": null,
      "outputs": [
        {
          "output_type": "stream",
          "text": [
            "0.7884057971014493\n"
          ],
          "name": "stdout"
        }
      ]
    },
    {
      "cell_type": "code",
      "metadata": {
        "id": "ubWFRFWWeLh2",
        "outputId": "3d540b2b-39c7-4bde-f761-3b9eaad01da4",
        "colab": {
          "base_uri": "https://localhost:8080/",
          "height": 36
        }
      },
      "source": [
        "scores_kn =cross_val_score(kn, x, y, cv=10)\n",
        "print(scores_kn.mean())"
      ],
      "execution_count": null,
      "outputs": [
        {
          "output_type": "stream",
          "text": [
            "0.6594202898550725\n"
          ],
          "name": "stdout"
        }
      ]
    },
    {
      "cell_type": "code",
      "metadata": {
        "id": "qZfERdSZeLh7"
      },
      "source": [
        "result={'svm':scores_svm,'knn':scores_kn,'Nb':scores_NB}\n",
        "performance_matrix=pd.DataFrame(result,columns=['svm','knn','Nb'])"
      ],
      "execution_count": null,
      "outputs": []
    },
    {
      "cell_type": "code",
      "metadata": {
        "id": "cEWs9TxveLiC",
        "outputId": "70d2d084-88ce-4c32-a3b0-31e21057cfa6",
        "colab": {
          "base_uri": "https://localhost:8080/",
          "height": 363
        }
      },
      "source": [
        "performance_matrix"
      ],
      "execution_count": null,
      "outputs": [
        {
          "output_type": "execute_result",
          "data": {
            "text/html": [
              "<div>\n",
              "<style scoped>\n",
              "    .dataframe tbody tr th:only-of-type {\n",
              "        vertical-align: middle;\n",
              "    }\n",
              "\n",
              "    .dataframe tbody tr th {\n",
              "        vertical-align: top;\n",
              "    }\n",
              "\n",
              "    .dataframe thead th {\n",
              "        text-align: right;\n",
              "    }\n",
              "</style>\n",
              "<table border=\"1\" class=\"dataframe\">\n",
              "  <thead>\n",
              "    <tr style=\"text-align: right;\">\n",
              "      <th></th>\n",
              "      <th>svm</th>\n",
              "      <th>knn</th>\n",
              "      <th>Nb</th>\n",
              "    </tr>\n",
              "  </thead>\n",
              "  <tbody>\n",
              "    <tr>\n",
              "      <th>0</th>\n",
              "      <td>0.550725</td>\n",
              "      <td>0.623188</td>\n",
              "      <td>0.666667</td>\n",
              "    </tr>\n",
              "    <tr>\n",
              "      <th>1</th>\n",
              "      <td>0.550725</td>\n",
              "      <td>0.681159</td>\n",
              "      <td>0.768116</td>\n",
              "    </tr>\n",
              "    <tr>\n",
              "      <th>2</th>\n",
              "      <td>0.550725</td>\n",
              "      <td>0.724638</td>\n",
              "      <td>0.855072</td>\n",
              "    </tr>\n",
              "    <tr>\n",
              "      <th>3</th>\n",
              "      <td>0.536232</td>\n",
              "      <td>0.652174</td>\n",
              "      <td>0.797101</td>\n",
              "    </tr>\n",
              "    <tr>\n",
              "      <th>4</th>\n",
              "      <td>0.550725</td>\n",
              "      <td>0.695652</td>\n",
              "      <td>0.768116</td>\n",
              "    </tr>\n",
              "    <tr>\n",
              "      <th>5</th>\n",
              "      <td>0.550725</td>\n",
              "      <td>0.681159</td>\n",
              "      <td>0.797101</td>\n",
              "    </tr>\n",
              "    <tr>\n",
              "      <th>6</th>\n",
              "      <td>0.550725</td>\n",
              "      <td>0.681159</td>\n",
              "      <td>0.768116</td>\n",
              "    </tr>\n",
              "    <tr>\n",
              "      <th>7</th>\n",
              "      <td>0.565217</td>\n",
              "      <td>0.579710</td>\n",
              "      <td>0.768116</td>\n",
              "    </tr>\n",
              "    <tr>\n",
              "      <th>8</th>\n",
              "      <td>0.565217</td>\n",
              "      <td>0.652174</td>\n",
              "      <td>0.884058</td>\n",
              "    </tr>\n",
              "    <tr>\n",
              "      <th>9</th>\n",
              "      <td>0.565217</td>\n",
              "      <td>0.623188</td>\n",
              "      <td>0.811594</td>\n",
              "    </tr>\n",
              "  </tbody>\n",
              "</table>\n",
              "</div>"
            ],
            "text/plain": [
              "        svm       knn        Nb\n",
              "0  0.550725  0.623188  0.666667\n",
              "1  0.550725  0.681159  0.768116\n",
              "2  0.550725  0.724638  0.855072\n",
              "3  0.536232  0.652174  0.797101\n",
              "4  0.550725  0.695652  0.768116\n",
              "5  0.550725  0.681159  0.797101\n",
              "6  0.550725  0.681159  0.768116\n",
              "7  0.565217  0.579710  0.768116\n",
              "8  0.565217  0.652174  0.884058\n",
              "9  0.565217  0.623188  0.811594"
            ]
          },
          "metadata": {
            "tags": []
          },
          "execution_count": 113
        }
      ]
    },
    {
      "cell_type": "code",
      "metadata": {
        "id": "Alj0TeYzeLiH"
      },
      "source": [],
      "execution_count": null,
      "outputs": []
    }
  ]
}