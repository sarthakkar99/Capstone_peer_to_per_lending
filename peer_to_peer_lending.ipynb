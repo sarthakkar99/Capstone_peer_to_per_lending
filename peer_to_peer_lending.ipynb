{
  "nbformat": 4,
  "nbformat_minor": 0,
  "metadata": {
    "celltoolbar": "Raw Cell Format",
    "kernelspec": {
      "display_name": "Python 3",
      "language": "python",
      "name": "python3"
    },
    "language_info": {
      "codemirror_mode": {
        "name": "ipython",
        "version": 3
      },
      "file_extension": ".py",
      "mimetype": "text/x-python",
      "name": "python",
      "nbconvert_exporter": "python",
      "pygments_lexer": "ipython3",
      "version": "3.7.3"
    },
    "colab": {
      "provenance": []
    }
  },
  "cells": [
    {
      "cell_type": "code",
      "metadata": {
        "id": "VF2wi5azL7N0",
        "outputId": "9bb26fa7-308d-4f03-b72c-fed3df41e8e4",
        "colab": {
          "base_uri": "https://localhost:8080/",
          "height": 92
        }
      },
      "source": [
        "\n",
        "# PCA FEATURE SELECTION,RF\n",
        "import pandas as pd\n",
        "import numpy as np\n",
        "from sklearn.model_selection import train_test_split,cross_val_score\n",
        "from sklearn.preprocessing import StandardScaler\n",
        "from sklearn.linear_model import LinearRegression,LogisticRegression\n",
        "from sklearn.metrics import accuracy_score,confusion_matrix\n",
        "from sklearn.svm import SVC\n",
        "from sklearn.preprocessing import LabelEncoder\n",
        "import matplotlib.pyplot as plt\n",
        "import math\n",
        "from keras.models import Sequential\n",
        "from keras.layers import Dense,Softmax\n",
        "from sklearn.neighbors import KNeighborsClassifier\n",
        "from sklearn.naive_bayes import GaussianNB\n",
        "from sklearn.preprocessing import OneHotEncoder\n",
        "import seaborn as sns"
      ],
      "execution_count": null,
      "outputs": [
        {
          "output_type": "stream",
          "text": [
            "Using TensorFlow backend.\n",
            "/usr/local/lib/python3.6/dist-packages/statsmodels/tools/_testing.py:19: FutureWarning: pandas.util.testing is deprecated. Use the functions in the public API at pandas.testing instead.\n",
            "  import pandas.util.testing as tm\n"
          ],
          "name": "stderr"
        }
      ]
    },
    {
      "cell_type": "code",
      "metadata": {
        "id": "OmaosJ2p1dak",
        "colab": {
          "base_uri": "https://localhost:8080/",
          "height": 1000
        },
        "outputId": "d524d12d-b675-415f-d5be-f0b4e77cf10a"
      },
      "source": [
        "pip list"
      ],
      "execution_count": null,
      "outputs": [
        {
          "output_type": "stream",
          "text": [
            "Package                  Version        \n",
            "------------------------ ---------------\n",
            "absl-py                  0.9.0          \n",
            "alabaster                0.7.12         \n",
            "albumentations           0.1.12         \n",
            "altair                   4.1.0          \n",
            "asgiref                  3.2.7          \n",
            "astor                    0.8.1          \n",
            "astropy                  4.0.1.post1    \n",
            "astunparse               1.6.3          \n",
            "atari-py                 0.2.6          \n",
            "atomicwrites             1.4.0          \n",
            "attrs                    19.3.0         \n",
            "audioread                2.1.8          \n",
            "autograd                 1.3            \n",
            "Babel                    2.8.0          \n",
            "backcall                 0.1.0          \n",
            "beautifulsoup4           4.6.3          \n",
            "bleach                   3.1.5          \n",
            "blis                     0.4.1          \n",
            "bokeh                    1.4.0          \n",
            "boto                     2.49.0         \n",
            "boto3                    1.13.1         \n",
            "botocore                 1.16.1         \n",
            "Bottleneck               1.3.2          \n",
            "branca                   0.4.0          \n",
            "bs4                      0.0.1          \n",
            "CacheControl             0.12.6         \n",
            "cachetools               3.1.1          \n",
            "catalogue                1.0.0          \n",
            "certifi                  2020.4.5.1     \n",
            "cffi                     1.14.0         \n",
            "chainer                  6.5.0          \n",
            "chardet                  3.0.4          \n",
            "click                    7.1.2          \n",
            "cloudpickle              1.3.0          \n",
            "cmake                    3.12.0         \n",
            "cmdstanpy                0.4.0          \n",
            "colorlover               0.3.0          \n",
            "community                1.0.0b1        \n",
            "contextlib2              0.5.5          \n",
            "convertdate              2.2.0          \n",
            "coverage                 3.7.1          \n",
            "coveralls                0.5            \n",
            "crcmod                   1.7            \n",
            "cufflinks                0.17.3         \n",
            "cvxopt                   1.2.5          \n",
            "cvxpy                    1.0.31         \n",
            "cycler                   0.10.0         \n",
            "cymem                    2.0.3          \n",
            "Cython                   0.29.17        \n",
            "daft                     0.0.4          \n",
            "dask                     2.12.0         \n",
            "dataclasses              0.7            \n",
            "datascience              0.10.6         \n",
            "decorator                4.4.2          \n",
            "defusedxml               0.6.0          \n",
            "descartes                1.1.0          \n",
            "dill                     0.3.1.1        \n",
            "distributed              1.25.3         \n",
            "Django                   3.0.5          \n",
            "dlib                     19.18.0        \n",
            "docopt                   0.6.2          \n",
            "docutils                 0.15.2         \n",
            "dopamine-rl              1.0.5          \n",
            "earthengine-api          0.1.220        \n",
            "easydict                 1.9            \n",
            "ecos                     2.0.7.post1    \n",
            "editdistance             0.5.3          \n",
            "en-core-web-sm           2.2.5          \n",
            "entrypoints              0.3            \n",
            "ephem                    3.7.7.1        \n",
            "et-xmlfile               1.0.1          \n",
            "fa2                      0.3.5          \n",
            "fancyimpute              0.4.3          \n",
            "fastai                   1.0.61         \n",
            "fastdtw                  0.3.4          \n",
            "fastprogress             0.2.3          \n",
            "fastrlock                0.4            \n",
            "fbprophet                0.6            \n",
            "feather-format           0.4.1          \n",
            "featuretools             0.4.1          \n",
            "filelock                 3.0.12         \n",
            "firebase-admin           4.1.0          \n",
            "fix-yahoo-finance        0.0.22         \n",
            "Flask                    1.1.2          \n",
            "folium                   0.8.3          \n",
            "fsspec                   0.7.3          \n",
            "future                   0.16.0         \n",
            "gast                     0.3.3          \n",
            "GDAL                     2.2.2          \n",
            "gdown                    3.6.4          \n",
            "gensim                   3.6.0          \n",
            "geographiclib            1.50           \n",
            "geopy                    1.17.0         \n",
            "gin-config               0.3.0          \n",
            "glob2                    0.7            \n",
            "google                   2.0.3          \n",
            "google-api-core          1.16.0         \n",
            "google-api-python-client 1.7.12         \n",
            "google-auth              1.7.2          \n",
            "google-auth-httplib2     0.0.3          \n",
            "google-auth-oauthlib     0.4.1          \n",
            "google-cloud-bigquery    1.21.0         \n",
            "google-cloud-core        1.0.3          \n",
            "google-cloud-datastore   1.8.0          \n",
            "google-cloud-firestore   1.6.2          \n",
            "google-cloud-language    1.2.0          \n",
            "google-cloud-storage     1.18.1         \n",
            "google-cloud-translate   1.5.0          \n",
            "google-colab             1.0.0          \n",
            "google-pasta             0.2.0          \n",
            "google-resumable-media   0.4.1          \n",
            "googleapis-common-protos 1.51.0         \n",
            "googledrivedownloader    0.4            \n",
            "graphviz                 0.10.1         \n",
            "grpcio                   1.28.1         \n",
            "gspread                  3.0.1          \n",
            "gspread-dataframe        3.0.6          \n",
            "gym                      0.17.1         \n",
            "h5py                     2.10.0         \n",
            "HeapDict                 1.0.1          \n",
            "holidays                 0.9.12         \n",
            "html5lib                 1.0.1          \n",
            "httpimport               0.5.18         \n",
            "httplib2                 0.17.3         \n",
            "httplib2shim             0.0.3          \n",
            "humanize                 0.5.1          \n",
            "hyperopt                 0.1.2          \n",
            "ideep4py                 2.0.0.post3    \n",
            "idna                     2.9            \n",
            "image                    1.5.31         \n",
            "imageio                  2.4.1          \n",
            "imagesize                1.2.0          \n",
            "imbalanced-learn         0.4.3          \n",
            "imblearn                 0.0            \n",
            "imgaug                   0.2.9          \n",
            "importlib-metadata       1.6.0          \n",
            "imutils                  0.5.3          \n",
            "inflect                  2.1.0          \n",
            "intel-openmp             2020.0.133     \n",
            "intervaltree             2.1.0          \n",
            "ipykernel                4.10.1         \n",
            "ipython                  5.5.0          \n",
            "ipython-genutils         0.2.0          \n",
            "ipython-sql              0.3.9          \n",
            "ipywidgets               7.5.1          \n",
            "itsdangerous             1.1.0          \n",
            "jax                      0.1.64         \n",
            "jaxlib                   0.1.45         \n",
            "jdcal                    1.4.1          \n",
            "jedi                     0.17.0         \n",
            "jieba                    0.42.1         \n",
            "Jinja2                   2.11.2         \n",
            "jmespath                 0.9.5          \n",
            "joblib                   0.14.1         \n",
            "jpeg4py                  0.1.4          \n",
            "jsonschema               2.6.0          \n",
            "jupyter                  1.0.0          \n",
            "jupyter-client           5.3.4          \n",
            "jupyter-console          5.2.0          \n",
            "jupyter-core             4.6.3          \n",
            "kaggle                   1.5.6          \n",
            "kapre                    0.1.3.1        \n",
            "Keras                    2.3.1          \n",
            "Keras-Applications       1.0.8          \n",
            "Keras-Preprocessing      1.1.0          \n",
            "keras-vis                0.4.1          \n",
            "kiwisolver               1.2.0          \n",
            "knnimpute                0.1.0          \n",
            "librosa                  0.6.3          \n",
            "lightgbm                 2.2.3          \n",
            "llvmlite                 0.31.0         \n",
            "lmdb                     0.98           \n",
            "lucid                    0.3.8          \n",
            "LunarCalendar            0.0.9          \n",
            "lxml                     4.2.6          \n",
            "Markdown                 3.2.1          \n",
            "MarkupSafe               1.1.1          \n",
            "matplotlib               3.2.1          \n",
            "matplotlib-venn          0.11.5         \n",
            "missingno                0.4.2          \n",
            "mistune                  0.8.4          \n",
            "mizani                   0.6.0          \n",
            "mkl                      2019.0         \n",
            "mlxtend                  0.14.0         \n",
            "more-itertools           8.2.0          \n",
            "moviepy                  0.2.3.5        \n",
            "mpmath                   1.1.0          \n",
            "msgpack                  1.0.0          \n",
            "multiprocess             0.70.9         \n",
            "multitasking             0.0.9          \n",
            "murmurhash               1.0.2          \n",
            "music21                  5.5.0          \n",
            "natsort                  5.5.0          \n",
            "nbconvert                5.6.1          \n",
            "nbformat                 5.0.6          \n",
            "networkx                 2.4            \n",
            "nibabel                  3.0.2          \n",
            "nltk                     3.2.5          \n",
            "notebook                 5.2.2          \n",
            "np-utils                 0.5.12.1       \n",
            "numba                    0.48.0         \n",
            "numexpr                  2.7.1          \n",
            "numpy                    1.18.3         \n",
            "nvidia-ml-py3            7.352.0        \n",
            "oauth2client             4.1.3          \n",
            "oauthlib                 3.1.0          \n",
            "okgrade                  0.4.3          \n",
            "opencv-contrib-python    4.1.2.30       \n",
            "opencv-python            4.1.2.30       \n",
            "openpyxl                 2.5.9          \n",
            "opt-einsum               3.2.1          \n",
            "osqp                     0.6.1          \n",
            "packaging                20.3           \n",
            "palettable               3.3.0          \n",
            "pandas                   1.0.3          \n",
            "pandas-datareader        0.8.1          \n",
            "pandas-gbq               0.11.0         \n",
            "pandas-profiling         1.4.1          \n",
            "pandocfilters            1.4.2          \n",
            "parso                    0.7.0          \n",
            "pathlib                  1.0.1          \n",
            "patsy                    0.5.1          \n",
            "pexpect                  4.8.0          \n",
            "pickleshare              0.7.5          \n",
            "Pillow                   7.0.0          \n",
            "pip                      19.3.1         \n",
            "pip-tools                4.5.1          \n",
            "plac                     1.1.3          \n",
            "plotly                   4.4.1          \n",
            "plotnine                 0.6.0          \n",
            "pluggy                   0.7.1          \n",
            "portpicker               1.3.1          \n",
            "prefetch-generator       1.0.1          \n",
            "preshed                  3.0.2          \n",
            "prettytable              0.7.2          \n",
            "progressbar2             3.38.0         \n",
            "prometheus-client        0.7.1          \n",
            "promise                  2.3            \n",
            "prompt-toolkit           1.0.18         \n",
            "protobuf                 3.10.0         \n",
            "psutil                   5.4.8          \n",
            "psycopg2                 2.7.6.1        \n",
            "ptvsd                    5.0.0a12       \n",
            "ptyprocess               0.6.0          \n",
            "py                       1.8.1          \n",
            "pyarrow                  0.14.1         \n",
            "pyasn1                   0.4.8          \n",
            "pyasn1-modules           0.2.8          \n",
            "pycocotools              2.0.0          \n",
            "pycparser                2.20           \n",
            "pydata-google-auth       1.1.0          \n",
            "pydot                    1.3.0          \n",
            "pydot-ng                 2.0.0          \n",
            "pydotplus                2.0.2          \n",
            "PyDrive                  1.3.1          \n",
            "pyemd                    0.5.1          \n",
            "pyglet                   1.5.0          \n",
            "Pygments                 2.1.3          \n",
            "pygobject                3.26.1         \n",
            "pymc3                    3.7            \n",
            "PyMeeus                  0.3.7          \n",
            "pymongo                  3.10.1         \n",
            "pymystem3                0.2.0          \n",
            "PyOpenGL                 3.1.5          \n",
            "pyparsing                2.4.7          \n",
            "pyrsistent               0.16.0         \n",
            "pysndfile                1.3.8          \n",
            "PySocks                  1.7.1          \n",
            "pystan                   2.19.1.1       \n",
            "pytest                   3.6.4          \n",
            "python-apt               1.6.5+ubuntu0.2\n",
            "python-chess             0.23.11        \n",
            "python-dateutil          2.8.1          \n",
            "python-louvain           0.14           \n",
            "python-slugify           4.0.0          \n",
            "python-utils             2.4.0          \n",
            "pytz                     2018.9         \n",
            "PyWavelets               1.1.1          \n",
            "PyYAML                   3.13           \n",
            "pyzmq                    19.0.0         \n",
            "qtconsole                4.7.3          \n",
            "QtPy                     1.9.0          \n",
            "regex                    2019.12.20     \n",
            "requests                 2.23.0         \n",
            "requests-oauthlib        1.3.0          \n",
            "resampy                  0.2.2          \n",
            "retrying                 1.3.3          \n",
            "rpy2                     3.2.7          \n",
            "rsa                      4.0            \n",
            "s3fs                     0.4.2          \n",
            "s3transfer               0.3.3          \n",
            "scikit-image             0.16.2         \n",
            "scikit-learn             0.22.2.post1   \n",
            "scipy                    1.4.1          \n",
            "screen-resolution-extra  0.0.0          \n",
            "scs                      2.1.2          \n",
            "seaborn                  0.10.1         \n",
            "Send2Trash               1.5.0          \n",
            "setuptools               46.1.3         \n",
            "setuptools-git           1.2            \n",
            "Shapely                  1.7.0          \n",
            "simplegeneric            0.8.1          \n",
            "six                      1.12.0         \n",
            "sklearn                  0.0            \n",
            "sklearn-pandas           1.8.0          \n",
            "smart-open               2.0.0          \n",
            "snowballstemmer          2.0.0          \n",
            "sortedcontainers         2.1.0          \n",
            "spacy                    2.2.4          \n",
            "Sphinx                   1.8.5          \n",
            "sphinxcontrib-websupport 1.2.2          \n",
            "SQLAlchemy               1.3.16         \n",
            "sqlparse                 0.3.1          \n",
            "srsly                    1.0.2          \n",
            "statsmodels              0.10.2         \n",
            "sympy                    1.1.1          \n",
            "tables                   3.4.4          \n",
            "tabulate                 0.8.7          \n",
            "tbb                      2020.0.133     \n",
            "tblib                    1.6.0          \n",
            "tensorboard              2.2.1          \n",
            "tensorboard-plugin-wit   1.6.0.post3    \n",
            "tensorboardcolab         0.0.22         \n",
            "tensorflow               2.2.0rc4       \n",
            "tensorflow-addons        0.8.3          \n",
            "tensorflow-datasets      2.1.0          \n",
            "tensorflow-estimator     2.2.0          \n",
            "tensorflow-gcs-config    2.1.8          \n",
            "tensorflow-hub           0.8.0          \n",
            "tensorflow-metadata      0.21.2         \n",
            "tensorflow-privacy       0.2.2          \n",
            "tensorflow-probability   0.10.0rc0      \n",
            "termcolor                1.1.0          \n",
            "terminado                0.8.3          \n",
            "testpath                 0.4.4          \n",
            "text-unidecode           1.3            \n",
            "textblob                 0.15.3         \n",
            "textgenrnn               1.4.1          \n",
            "Theano                   1.0.4          \n",
            "thinc                    7.4.0          \n",
            "toolz                    0.10.0         \n",
            "torch                    1.5.0+cu101    \n",
            "torchsummary             1.5.1          \n",
            "torchtext                0.3.1          \n",
            "torchvision              0.6.0+cu101    \n",
            "tornado                  4.5.3          \n",
            "tqdm                     4.38.0         \n",
            "traitlets                4.3.3          \n",
            "tweepy                   3.6.0          \n",
            "typeguard                2.7.1          \n",
            "typing                   3.6.6          \n",
            "typing-extensions        3.6.6          \n",
            "tzlocal                  1.5.1          \n",
            "umap-learn               0.4.2          \n",
            "uritemplate              3.0.1          \n",
            "urllib3                  1.24.3         \n",
            "vega-datasets            0.8.0          \n",
            "wasabi                   0.6.0          \n",
            "wcwidth                  0.1.9          \n",
            "webencodings             0.5.1          \n",
            "Werkzeug                 1.0.1          \n",
            "wheel                    0.34.2         \n",
            "widgetsnbextension       3.5.1          \n",
            "wordcloud                1.5.0          \n",
            "wrapt                    1.12.1         \n",
            "xarray                   0.15.1         \n",
            "xgboost                  0.90           \n",
            "xkit                     0.0.0          \n",
            "xlrd                     1.1.0          \n",
            "xlwt                     1.3.0          \n",
            "yellowbrick              0.9.1          \n",
            "zict                     2.0.0          \n",
            "zipp                     3.1.0          \n"
          ],
          "name": "stdout"
        }
      ]
    },
    {
      "cell_type": "markdown",
      "metadata": {
        "id": "sg5tclncL7OE"
      },
      "source": [
        "# Data loading\n"
      ]
    },
    {
      "cell_type": "code",
      "metadata": {
        "id": "3qFLjd_VL7OF",
        "outputId": "c65c9868-4313-4315-deb1-4cb8f23fdaef"
      },
      "source": [
        "data=pd.read_excel(r'F:\\DOWNLOADS2\\uci-credit-approval\\uci-credit-approval\\crx.data.xlsx')\n",
        "print(data.head())"
      ],
      "execution_count": null,
      "outputs": [
        {
          "output_type": "stream",
          "text": [
            "  C0     C1     C2 C3 C4 C5 C6    C7 C8 C9  C10 C11 C12  C13  C14 C15\n",
            "0  b  30.83  0.000  u  g  w  v  1.25  t  t    1   f   g  202    0   +\n",
            "1  a  58.67  4.460  u  g  q  h  3.04  t  t    6   f   g   43  560   +\n",
            "2  a   24.5  0.500  u  g  q  h  1.50  t  f    0   f   g  280  824   +\n",
            "3  b  27.83  1.540  u  g  w  v  3.75  t  t    5   t   g  100    3   +\n",
            "4  b  20.17  5.625  u  g  w  v  1.71  t  f    0   f   s  120    0   +\n"
          ],
          "name": "stdout"
        }
      ]
    },
    {
      "cell_type": "code",
      "metadata": {
        "id": "U7d7TnlJL7OT",
        "outputId": "56df07e5-ee88-439e-c422-a2d757919d82"
      },
      "source": [
        "data1=pd.read_csv(r'D:\\PYTHON\\MACHINE LEARNING USING PYTHON\\ML\\ITML24\\DATABASE\\credit1.csv')\n",
        "print(data1.head())"
      ],
      "execution_count": null,
      "outputs": [
        {
          "output_type": "stream",
          "text": [
            "  checking_balance  months_loan_duration credit_history    purpose  amount  \\\n",
            "0           < 0 DM                     6       critical   radio/tv    1169   \n",
            "1       1 - 200 DM                    48         repaid   radio/tv    5951   \n",
            "2          unknown                    12       critical  education    2096   \n",
            "3           < 0 DM                    42         repaid  furniture    7882   \n",
            "4           < 0 DM                    24        delayed  car (new)    4870   \n",
            "\n",
            "  savings_balance employment_length  installment_rate personal_status  \\\n",
            "0         unknown           > 7 yrs                 4     single male   \n",
            "1        < 100 DM         1 - 4 yrs                 2          female   \n",
            "2        < 100 DM         4 - 7 yrs                 2     single male   \n",
            "3        < 100 DM         4 - 7 yrs                 2     single male   \n",
            "4        < 100 DM         1 - 4 yrs                 3     single male   \n",
            "\n",
            "  other_debtors  ...                  property age  installment_plan  \\\n",
            "0          none  ...               real estate  67              none   \n",
            "1          none  ...               real estate  22              none   \n",
            "2          none  ...               real estate  49              none   \n",
            "3     guarantor  ...  building society savings  45              none   \n",
            "4          none  ...              unknown/none  53              none   \n",
            "\n",
            "    housing existing_credits  default  dependents  telephone foreign_worker  \\\n",
            "0       own                2        1           1        yes            yes   \n",
            "1       own                1        2           1       none            yes   \n",
            "2       own                1        1           2       none            yes   \n",
            "3  for free                1        1           2       none            yes   \n",
            "4  for free                2        2           2       none            yes   \n",
            "\n",
            "                  job  \n",
            "0    skilled employee  \n",
            "1    skilled employee  \n",
            "2  unskilled resident  \n",
            "3    skilled employee  \n",
            "4    skilled employee  \n",
            "\n",
            "[5 rows x 21 columns]\n"
          ],
          "name": "stdout"
        }
      ]
    },
    {
      "cell_type": "markdown",
      "metadata": {
        "id": "KnyrdBNbL7Od"
      },
      "source": [
        "# label encoding"
      ]
    },
    {
      "cell_type": "code",
      "metadata": {
        "id": "FEPhuHM9L7Oe",
        "outputId": "8f716c2a-a622-4f47-dd68-573faa26ae54"
      },
      "source": [
        "label_encoder=LabelEncoder()\n",
        "print(type(data['C1'].values[0]))\n",
        "columns=data.columns\n",
        "for cols in columns:\n",
        "   # print(cols)\n",
        "    if(isinstance(data[cols].values[0],str)):\n",
        "        data[cols]=label_encoder.fit_transform(data[cols].values)"
      ],
      "execution_count": null,
      "outputs": [
        {
          "output_type": "stream",
          "text": [
            "<class 'float'>\n"
          ],
          "name": "stdout"
        }
      ]
    },
    {
      "cell_type": "code",
      "metadata": {
        "id": "KD4k5bJuL7Ok"
      },
      "source": [
        "label_encoder=LabelEncoder()\n",
        "columns=data1.columns\n",
        "for cols in columns:\n",
        "   # print(cols)\n",
        "    if(isinstance(data1[cols].values[0],str)):\n",
        "        data1[cols]=label_encoder.fit_transform(data1[cols].values)"
      ],
      "execution_count": null,
      "outputs": []
    },
    {
      "cell_type": "code",
      "metadata": {
        "id": "qBUuXo8CL7Ou",
        "outputId": "b4557a59-7091-4997-8de6-8beaedd971b9"
      },
      "source": [
        "sns.countplot(data['C15'])"
      ],
      "execution_count": null,
      "outputs": [
        {
          "output_type": "execute_result",
          "data": {
            "text/plain": [
              "<matplotlib.axes._subplots.AxesSubplot at 0x1578de30a90>"
            ]
          },
          "metadata": {
            "tags": []
          },
          "execution_count": 7
        },
        {
          "output_type": "display_data",
          "data": {
            "image/png": "[encoded data removed]",
            "text/plain": [
              "<Figure size 432x288 with 1 Axes>"
            ]
          },
          "metadata": {
            "tags": [],
            "needs_background": "light"
          }
        }
      ]
    },
    {
      "cell_type": "code",
      "metadata": {
        "id": "EnNsPCcwL7O2",
        "outputId": "1f69dc6e-fed0-4741-dc90-517eb30db40a"
      },
      "source": [
        "data1.head()"
      ],
      "execution_count": null,
      "outputs": [
        {
          "output_type": "execute_result",
          "data": {
            "text/html": [
              "<div>\n",
              "<style scoped>\n",
              "    .dataframe tbody tr th:only-of-type {\n",
              "        vertical-align: middle;\n",
              "    }\n",
              "\n",
              "    .dataframe tbody tr th {\n",
              "        vertical-align: top;\n",
              "    }\n",
              "\n",
              "    .dataframe thead th {\n",
              "        text-align: right;\n",
              "    }\n",
              "</style>\n",
              "<table border=\"1\" class=\"dataframe\">\n",
              "  <thead>\n",
              "    <tr style=\"text-align: right;\">\n",
              "      <th></th>\n",
              "      <th>checking_balance</th>\n",
              "      <th>months_loan_duration</th>\n",
              "      <th>credit_history</th>\n",
              "      <th>purpose</th>\n",
              "      <th>amount</th>\n",
              "      <th>savings_balance</th>\n",
              "      <th>employment_length</th>\n",
              "      <th>installment_rate</th>\n",
              "      <th>personal_status</th>\n",
              "      <th>other_debtors</th>\n",
              "      <th>...</th>\n",
              "      <th>property</th>\n",
              "      <th>age</th>\n",
              "      <th>installment_plan</th>\n",
              "      <th>housing</th>\n",
              "      <th>existing_credits</th>\n",
              "      <th>default</th>\n",
              "      <th>dependents</th>\n",
              "      <th>telephone</th>\n",
              "      <th>foreign_worker</th>\n",
              "      <th>job</th>\n",
              "    </tr>\n",
              "  </thead>\n",
              "  <tbody>\n",
              "    <tr>\n",
              "      <td>0</td>\n",
              "      <td>1</td>\n",
              "      <td>6</td>\n",
              "      <td>0</td>\n",
              "      <td>7</td>\n",
              "      <td>1169</td>\n",
              "      <td>4</td>\n",
              "      <td>3</td>\n",
              "      <td>4</td>\n",
              "      <td>3</td>\n",
              "      <td>2</td>\n",
              "      <td>...</td>\n",
              "      <td>2</td>\n",
              "      <td>67</td>\n",
              "      <td>1</td>\n",
              "      <td>1</td>\n",
              "      <td>2</td>\n",
              "      <td>1</td>\n",
              "      <td>1</td>\n",
              "      <td>1</td>\n",
              "      <td>1</td>\n",
              "      <td>1</td>\n",
              "    </tr>\n",
              "    <tr>\n",
              "      <td>1</td>\n",
              "      <td>0</td>\n",
              "      <td>48</td>\n",
              "      <td>4</td>\n",
              "      <td>7</td>\n",
              "      <td>5951</td>\n",
              "      <td>2</td>\n",
              "      <td>1</td>\n",
              "      <td>2</td>\n",
              "      <td>1</td>\n",
              "      <td>2</td>\n",
              "      <td>...</td>\n",
              "      <td>2</td>\n",
              "      <td>22</td>\n",
              "      <td>1</td>\n",
              "      <td>1</td>\n",
              "      <td>1</td>\n",
              "      <td>2</td>\n",
              "      <td>1</td>\n",
              "      <td>0</td>\n",
              "      <td>1</td>\n",
              "      <td>1</td>\n",
              "    </tr>\n",
              "    <tr>\n",
              "      <td>2</td>\n",
              "      <td>3</td>\n",
              "      <td>12</td>\n",
              "      <td>0</td>\n",
              "      <td>4</td>\n",
              "      <td>2096</td>\n",
              "      <td>2</td>\n",
              "      <td>2</td>\n",
              "      <td>2</td>\n",
              "      <td>3</td>\n",
              "      <td>2</td>\n",
              "      <td>...</td>\n",
              "      <td>2</td>\n",
              "      <td>49</td>\n",
              "      <td>1</td>\n",
              "      <td>1</td>\n",
              "      <td>1</td>\n",
              "      <td>1</td>\n",
              "      <td>2</td>\n",
              "      <td>0</td>\n",
              "      <td>1</td>\n",
              "      <td>3</td>\n",
              "    </tr>\n",
              "    <tr>\n",
              "      <td>3</td>\n",
              "      <td>1</td>\n",
              "      <td>42</td>\n",
              "      <td>4</td>\n",
              "      <td>5</td>\n",
              "      <td>7882</td>\n",
              "      <td>2</td>\n",
              "      <td>2</td>\n",
              "      <td>2</td>\n",
              "      <td>3</td>\n",
              "      <td>1</td>\n",
              "      <td>...</td>\n",
              "      <td>0</td>\n",
              "      <td>45</td>\n",
              "      <td>1</td>\n",
              "      <td>0</td>\n",
              "      <td>1</td>\n",
              "      <td>1</td>\n",
              "      <td>2</td>\n",
              "      <td>0</td>\n",
              "      <td>1</td>\n",
              "      <td>1</td>\n",
              "    </tr>\n",
              "    <tr>\n",
              "      <td>4</td>\n",
              "      <td>1</td>\n",
              "      <td>24</td>\n",
              "      <td>1</td>\n",
              "      <td>1</td>\n",
              "      <td>4870</td>\n",
              "      <td>2</td>\n",
              "      <td>1</td>\n",
              "      <td>3</td>\n",
              "      <td>3</td>\n",
              "      <td>2</td>\n",
              "      <td>...</td>\n",
              "      <td>3</td>\n",
              "      <td>53</td>\n",
              "      <td>1</td>\n",
              "      <td>0</td>\n",
              "      <td>2</td>\n",
              "      <td>2</td>\n",
              "      <td>2</td>\n",
              "      <td>0</td>\n",
              "      <td>1</td>\n",
              "      <td>1</td>\n",
              "    </tr>\n",
              "  </tbody>\n",
              "</table>\n",
              "<p>5 rows × 21 columns</p>\n",
              "</div>"
            ],
            "text/plain": [
              "   checking_balance  months_loan_duration  credit_history  purpose  amount  \\\n",
              "0                 1                     6               0        7    1169   \n",
              "1                 0                    48               4        7    5951   \n",
              "2                 3                    12               0        4    2096   \n",
              "3                 1                    42               4        5    7882   \n",
              "4                 1                    24               1        1    4870   \n",
              "\n",
              "   savings_balance  employment_length  installment_rate  personal_status  \\\n",
              "0                4                  3                 4                3   \n",
              "1                2                  1                 2                1   \n",
              "2                2                  2                 2                3   \n",
              "3                2                  2                 2                3   \n",
              "4                2                  1                 3                3   \n",
              "\n",
              "   other_debtors  ...  property  age  installment_plan  housing  \\\n",
              "0              2  ...         2   67                 1        1   \n",
              "1              2  ...         2   22                 1        1   \n",
              "2              2  ...         2   49                 1        1   \n",
              "3              1  ...         0   45                 1        0   \n",
              "4              2  ...         3   53                 1        0   \n",
              "\n",
              "   existing_credits  default  dependents  telephone  foreign_worker  job  \n",
              "0                 2        1           1          1               1    1  \n",
              "1                 1        2           1          0               1    1  \n",
              "2                 1        1           2          0               1    3  \n",
              "3                 1        1           2          0               1    1  \n",
              "4                 2        2           2          0               1    1  \n",
              "\n",
              "[5 rows x 21 columns]"
            ]
          },
          "metadata": {
            "tags": []
          },
          "execution_count": 18
        }
      ]
    },
    {
      "cell_type": "code",
      "metadata": {
        "id": "imv46LHkL7O_",
        "outputId": "8688bcc8-a91a-4464-c117-2e45bf18865a"
      },
      "source": [
        "sns.countplot(data1['default'])"
      ],
      "execution_count": null,
      "outputs": [
        {
          "output_type": "execute_result",
          "data": {
            "text/plain": [
              "<matplotlib.axes._subplots.AxesSubplot at 0x15790133390>"
            ]
          },
          "metadata": {
            "tags": []
          },
          "execution_count": 19
        },
        {
          "output_type": "display_data",
          "data": {
            "image/png": "[encoded data removed]",
            "text/plain": [
              "<Figure size 432x288 with 1 Axes>"
            ]
          },
          "metadata": {
            "tags": [],
            "needs_background": "light"
          }
        }
      ]
    },
    {
      "cell_type": "markdown",
      "metadata": {
        "id": "sZ6DsUewL7PE"
      },
      "source": [
        "# data cleaning"
      ]
    },
    {
      "cell_type": "code",
      "metadata": {
        "id": "CX-W2fygL7PF",
        "outputId": "43fab973-97bc-45a7-bff7-9a235d308754"
      },
      "source": [
        "print(type(data['C1'].values[86]),data['C1'].values[98])"
      ],
      "execution_count": null,
      "outputs": [
        {
          "output_type": "stream",
          "text": [
            "<class 'str'> 22.5\n"
          ],
          "name": "stdout"
        }
      ]
    },
    {
      "cell_type": "code",
      "metadata": {
        "id": "iHEAt7etL7PK",
        "outputId": "c59f4924-7fcb-4e11-eecb-3946b3196d7c"
      },
      "source": [
        "data1.isnull().sum()"
      ],
      "execution_count": null,
      "outputs": [
        {
          "output_type": "execute_result",
          "data": {
            "text/plain": [
              "checking_balance        0\n",
              "months_loan_duration    0\n",
              "credit_history          0\n",
              "purpose                 0\n",
              "amount                  0\n",
              "savings_balance         0\n",
              "employment_length       0\n",
              "installment_rate        0\n",
              "personal_status         0\n",
              "other_debtors           0\n",
              "residence_history       0\n",
              "property                0\n",
              "age                     0\n",
              "installment_plan        0\n",
              "housing                 0\n",
              "existing_credits        0\n",
              "default                 0\n",
              "dependents              0\n",
              "telephone               0\n",
              "foreign_worker          0\n",
              "job                     0\n",
              "dtype: int64"
            ]
          },
          "metadata": {
            "tags": []
          },
          "execution_count": 20
        }
      ]
    },
    {
      "cell_type": "code",
      "metadata": {
        "id": "bXjyAypwL7PR"
      },
      "source": [
        "x1=data1.drop(['default'],axis=1).values\n",
        "y1=data1['default'].values\n"
      ],
      "execution_count": null,
      "outputs": []
    },
    {
      "cell_type": "code",
      "metadata": {
        "id": "GMjA6KhWL7PW",
        "outputId": "bd8905af-72a5-46d8-fcfe-e6fe8e66ce62"
      },
      "source": [
        "X_train,X_test,Y_train,Y_test=train_test_split(x,y,stratify=y,test_size=0.2,random_state=False)\n",
        "scaler=StandardScaler()\n",
        "x_train=scaler.fit_transform(X_train)\n",
        "x_test=scaler.transform(X_test)\n",
        "print(X_train.shape,X_test.shape)"
      ],
      "execution_count": null,
      "outputs": [
        {
          "output_type": "stream",
          "text": [
            "(552, 15) (138, 15)\n"
          ],
          "name": "stdout"
        }
      ]
    },
    {
      "cell_type": "code",
      "metadata": {
        "id": "Z4Bp3EwUL7Pb",
        "outputId": "1d257174-8d4d-46fa-e8f4-0f65d00c9e18"
      },
      "source": [
        "X_train1,X_test1,Y_train1,Y_test1=train_test_split(x1,y1,stratify=y1,test_size=0.2,random_state=False)\n",
        "scaler=StandardScaler()\n",
        "x_train1=scaler.fit_transform(X_train1)\n",
        "x_test1=scaler.transform(X_test1)\n",
        "print(X_train1.shape,X_test1.shape)"
      ],
      "execution_count": null,
      "outputs": [
        {
          "output_type": "stream",
          "text": [
            "(800, 20) (200, 20)\n"
          ],
          "name": "stdout"
        }
      ]
    },
    {
      "cell_type": "code",
      "metadata": {
        "id": "L5oP5zJxL7Ph",
        "outputId": "51129fbe-daa6-4118-d74a-f8fb8e01e035"
      },
      "source": [
        "Y_train1.shape"
      ],
      "execution_count": null,
      "outputs": [
        {
          "output_type": "execute_result",
          "data": {
            "text/plain": [
              "(800,)"
            ]
          },
          "metadata": {
            "tags": []
          },
          "execution_count": 24
        }
      ]
    },
    {
      "cell_type": "code",
      "metadata": {
        "id": "HhI2IWdJL7Pn",
        "outputId": "a9123ed4-4445-407f-d5c2-30e374c15d19"
      },
      "source": [
        "svm=SVC()\n",
        "svm.fit(x_train1,Y_train1)\n",
        "y_pred=svm.predict(x_test1)\n",
        "print(accuracy_score(y_pred,Y_test1))\n",
        "print(confusion_matrix(y_pred,Y_test1))\n",
        "plt.imshow(confusion_matrix(y_pred,Y_test1))\n",
        "plt.xlabel(\"Predicted labels\")\n",
        "plt.ylabel(\"True labels\")\n",
        "plt.show()"
      ],
      "execution_count": null,
      "outputs": [
        {
          "output_type": "stream",
          "text": [
            "0.73\n",
            "[[133  47]\n",
            " [  7  13]]\n"
          ],
          "name": "stdout"
        },
        {
          "output_type": "display_data",
          "data": {
            "image/png": "[encoded data removed]",
            "text/plain": [
              "<Figure size 432x288 with 1 Axes>"
            ]
          },
          "metadata": {
            "tags": [],
            "needs_background": "light"
          }
        }
      ]
    },
    {
      "cell_type": "code",
      "metadata": {
        "id": "1YhWA3CVL7Pv",
        "outputId": "4e9bca43-28d8-4b0a-88f9-a8e699a48fce"
      },
      "source": [
        "lr=LogisticRegression()\n",
        "lr.fit(x_train,Y_train)\n",
        "y_pred=lr.predict(x_test)\n",
        "print(accuracy_score(y_pred,Y_test))"
      ],
      "execution_count": null,
      "outputs": [
        {
          "output_type": "stream",
          "text": [
            "0.8768115942028986\n"
          ],
          "name": "stdout"
        },
        {
          "output_type": "stream",
          "text": [
            "C:\\Users\\SPIRO\\AppData\\Roaming\\Python\\Python37\\site-packages\\sklearn\\linear_model\\logistic.py:432: FutureWarning: Default solver will be changed to 'lbfgs' in 0.22. Specify a solver to silence this warning.\n",
            "  FutureWarning)\n"
          ],
          "name": "stderr"
        }
      ]
    },
    {
      "cell_type": "code",
      "metadata": {
        "id": "f3ysQ8P6L7Py",
        "outputId": "d2c723b6-b2ff-463c-e447-e22beface39b"
      },
      "source": [
        "lr=LogisticRegression()\n",
        "lr.fit(x_train1,Y_train1)\n",
        "y_pred=lr.predict(x_test1)\n",
        "print(accuracy_score(y_pred,Y_test1))"
      ],
      "execution_count": null,
      "outputs": [
        {
          "output_type": "stream",
          "text": [
            "0.715\n"
          ],
          "name": "stdout"
        },
        {
          "output_type": "stream",
          "text": [
            "C:\\Users\\SPIRO\\AppData\\Roaming\\Python\\Python37\\site-packages\\sklearn\\linear_model\\logistic.py:432: FutureWarning: Default solver will be changed to 'lbfgs' in 0.22. Specify a solver to silence this warning.\n",
            "  FutureWarning)\n"
          ],
          "name": "stderr"
        }
      ]
    },
    {
      "cell_type": "code",
      "metadata": {
        "id": "h3wpiovjL7P2",
        "outputId": "dc3e24f4-364a-481c-b61f-87b59b4d4600"
      },
      "source": [
        "Nb= GaussianNB()\n",
        "Nb.fit(x_train1,Y_train1)\n",
        "y_pred=Nb.predict(x_test1)\n",
        "print(accuracy_score(y_pred,Y_test1))\n",
        "print(confusion_matrix(y_pred,Y_test1))\n",
        "plt.imshow(confusion_matrix(y_pred,Y_test1))\n",
        "plt.xlabel(\"Predicted labels\")\n",
        "plt.ylabel(\"True labels\")\n",
        "plt.show()"
      ],
      "execution_count": null,
      "outputs": [
        {
          "output_type": "stream",
          "text": [
            "0.66\n",
            "[[101  29]\n",
            " [ 39  31]]\n"
          ],
          "name": "stdout"
        },
        {
          "output_type": "display_data",
          "data": {
            "image/png": "[encoded data removed]",
            "text/plain": [
              "<Figure size 432x288 with 1 Axes>"
            ]
          },
          "metadata": {
            "tags": [],
            "needs_background": "light"
          }
        }
      ]
    },
    {
      "cell_type": "code",
      "metadata": {
        "id": "tOJIymJ6L7P7",
        "outputId": "606fb947-c858-4d0f-999e-24ad142ac864"
      },
      "source": [
        "class Naive_bayes_classifier:\n",
        "    def fit(self,X,Y):\n",
        "        self.mean_x=X.mean(axis=0)\n",
        "        self.std_x=np.std(X,axis=0)\n",
        "        self.mean_y=Y.mean()\n",
        "        self.std_y=np.std(Y)\n",
        "        self.total=Y.shape[0]\n",
        "        self.Y=Y\n",
        "        print(self.mean_x.shape)\n",
        "        print(self.std_x.shape)\n",
        "        print(self.mean_y)\n",
        "        print(self.std_y)\n",
        "        self.cls=np.unique(Y)\n",
        "        seperated_class={}\n",
        "        for c in self.cls:\n",
        "            print(c)\n",
        "            seperated_class[c]=list()\n",
        "            for j in range(Y.shape[0]):\n",
        "                if c==Y[j]:\n",
        "                    seperated_class[c].append(list(X[j]))\n",
        "        print(np.array(seperated_class[1]).shape)\n",
        "        self.sumarize={}\n",
        "        for labels in seperated_class:\n",
        "            self.sumarize[labels]=list()\n",
        "           # print(np.array(seperated_class[labels]).shape)\n",
        "            for cols in zip(*np.array(seperated_class[labels])):\n",
        "                self.sumarize[labels].append([np.array(cols).mean(),np.array(cols).std()])\n",
        "    def calculate_probablity(self,X,mean_std):\n",
        "            pdf=1\n",
        "            for x,cols in zip(X,mean_std):\n",
        "                m=cols[0]\n",
        "                std=cols[1]\n",
        "                #print(m,std,x)\n",
        "                #print(std)\n",
        "                if(round(std,3)>0):\n",
        "                    exponent = math.exp(-(math.pow(x-m,2)/(2*math.pow(std,2))))\n",
        "                    if(exponent!=0):\n",
        "                        gus=(1/(math.sqrt(2*math.pi)*std))*exponent\n",
        "                        pdf=pdf*gus\n",
        "            return pdf\n",
        "    def predict(self,X):\n",
        "            y_pred=[]\n",
        "            P_den=0\n",
        "            for x in X:\n",
        "                y_prob=[]\n",
        "                for c in self.cls:\n",
        "                    P_x_given_y=self.calculate_probablity(x,self.sumarize[c])\n",
        "                    P_c=list(self.Y).count(c)/self.Y.shape[0]\n",
        "                    #P_den+= P_x_given_y*P_c\n",
        "                    #print(P_x_given_y*P_c,end=' ')\n",
        "                    y_prob.append(P_x_given_y*P_c)\n",
        "                y_prob=np.array(y_prob)\n",
        "                #print(np.argmax(y_prob,axis=0))\n",
        "                y_pred.append(np.argmax(y_prob,axis=0))\n",
        "            return y_pred\n",
        "                    \n",
        "                    \n",
        "                #print(Px)\n",
        "                \n",
        "                \n",
        "  \n",
        "        \n",
        "model=Naive_bayes_classifier()\n",
        "X_train1=X_train1.astype('float64')\n",
        "model.fit(X_train1,Y_train1)\n",
        "y_pred=model.predict(X_test1)\n",
        "print(accuracy_score(y_pred,Y_test1))"
      ],
      "execution_count": null,
      "outputs": [
        {
          "output_type": "stream",
          "text": [
            "(20,)\n",
            "(20,)\n",
            "1.3\n",
            "0.45825756949558394\n",
            "1\n",
            "2\n",
            "(560, 20)\n",
            "0.195\n"
          ],
          "name": "stdout"
        }
      ]
    },
    {
      "cell_type": "code",
      "metadata": {
        "id": "xKRpDv1pL7QB",
        "outputId": "6ce57cbd-ff69-4f66-a627-7f554c5857d1"
      },
      "source": [
        "kn=KNeighborsClassifier(n_neighbors=5)\n",
        "kn.fit(x_train,Y_train)\n",
        "y_pred=kn.predict(x_test)\n",
        "print(accuracy_score(y_pred,Y_test))\n",
        "print(confusion_matrix(y_pred,Y_test))\n",
        "plt.imshow(confusion_matrix(y_pred,Y_test))\n",
        "plt.xlabel(\"Predicted labels\")\n",
        "plt.ylabel(\"True labels\")\n",
        "plt.show()"
      ],
      "execution_count": null,
      "outputs": [
        {
          "output_type": "stream",
          "text": [
            "0.8913043478260869\n",
            "[[52  6]\n",
            " [ 9 71]]\n"
          ],
          "name": "stdout"
        },
        {
          "output_type": "display_data",
          "data": {
            "image/png": "[encoded data removed]",
            "text/plain": [
              "<Figure size 432x288 with 1 Axes>"
            ]
          },
          "metadata": {
            "tags": [],
            "needs_background": "light"
          }
        }
      ]
    },
    {
      "cell_type": "code",
      "metadata": {
        "id": "Tjngjy_hL7QG",
        "outputId": "4669a8a6-312d-43b7-d101-954b787383bd"
      },
      "source": [
        "l=[]\n",
        "Y_pred=[]\n",
        "def distance(x_test,K):\n",
        "    l=[]\n",
        "    for i in range(X_train1.shape[0]):\n",
        "        s=0\n",
        "        for j,t in zip(x_train1[i],x_test):\n",
        "            s+=(t-j)**2\n",
        "        l.append((np.sqrt(s),Y_train1[i]))\n",
        "       # print(l)\n",
        "    l.sort()\n",
        "    l_min=[]\n",
        "    #print(l)\n",
        "    for k in range(K):\n",
        "        l_min.append(l[k])\n",
        "    l_lables=[]\n",
        "    #print(l_min)\n",
        "    for i in l_min:\n",
        "     l_lables.append(i[1])\n",
        "    Y_pred.append(most_frequent(l_lables))\n",
        "    #Y_pred.append((min(l_min))[1])\n",
        "\n",
        "def most_frequent(List):\n",
        "    return max(set(List),key=List.count)\n",
        "for i in range(X_test1.shape[0]):\n",
        "    distance(x_test1[i],5)#change here for different k value for getting better accuracy\n",
        "#print(Y_pred,Y_test)\n",
        "print(accuracy_score(Y_pred,Y_test1))\n",
        "\n"
      ],
      "execution_count": null,
      "outputs": [
        {
          "output_type": "stream",
          "text": [
            "0.705\n"
          ],
          "name": "stdout"
        }
      ]
    },
    {
      "cell_type": "code",
      "metadata": {
        "id": "PuSl5GkUL7QK",
        "outputId": "22231e4a-8838-4b00-b1db-c9c743558061"
      },
      "source": [
        "from numpy import linalg as LA\n",
        "from sklearn.preprocessing import StandardScaler\n",
        "\n",
        "S=np.dot(X_train1.T,X_train1)\n",
        "#print(S)\n",
        "eign_value,eign_vect=LA.eig(S)\n",
        "print(len(eign_value))\n",
        "eig_sort=np.argsort(eign_value)[::-1]\n",
        "eig_vect_sort=None\n",
        "for i in eig_sort:\n",
        "   if eig_vect_sort is None:\n",
        "     eig_vect_sort=eign_vect[i]\n",
        "   else:\n",
        "     eig_vect_sort=np.vstack((eig_vect_sort,eign_vect[i]))\n",
        "eig_vect_sort=eig_vect_sort.T \n",
        "S_=np.dot(S,eig_vect_sort)\n",
        "#print(S_)\n",
        "propotion_variance=[]\n",
        "c=0\n",
        "s=0\n",
        "for v in eign_value:\n",
        "      f=v\n",
        "      if(c==0 or c==1):\n",
        "       #print(v/sum(eign_value))\n",
        "       propotion_variance.append(f/sum(eign_value))\n",
        "      else:\n",
        "        #print(s/sum(eign_value))\n",
        "        propotion_variance.append(s/sum(eign_value))\n",
        "      s=s+f\n",
        "      c+=1\n",
        "print(len(propotion_variance))\n",
        "plt.figure(figsize=(50,10))\n",
        "import matplotlib.pyplot as plt\n",
        "cols=[i for i in range(len(eign_value))]\n",
        "plt.plot(cols, propotion_variance)\n",
        "plt.xticks(cols)\n",
        "plt.show()\n",
        "print(eig_vect_sort.shape)"
      ],
      "execution_count": null,
      "outputs": [
        {
          "output_type": "stream",
          "text": [
            "20\n",
            "20\n"
          ],
          "name": "stdout"
        },
        {
          "output_type": "display_data",
          "data": {
            "image/png": "[encoded data removed]",
            "text/plain": [
              "<Figure size 3600x720 with 1 Axes>"
            ]
          },
          "metadata": {
            "tags": [],
            "needs_background": "light"
          }
        },
        {
          "output_type": "stream",
          "text": [
            "(20, 20)\n"
          ],
          "name": "stdout"
        }
      ]
    },
    {
      "cell_type": "code",
      "metadata": {
        "id": "3rgdHK9hL7QP"
      },
      "source": [
        "np.random.seed(0)\n",
        "class Logistic:\n",
        "    def __init__(self):\n",
        "            self.w=np.random.randn(x_train1.shape[1])/(x_train1.shape[1]**0.5)\n",
        "            self.b=0\n",
        "            self.v_w=0\n",
        "            self.m_w=0\n",
        "            self.v_b=0\n",
        "            self.m_b=0\n",
        "    def sigmoid(self,x):\n",
        "         return(1/(1+np.exp(-x)))\n",
        "    def loss(self,y,fx):\n",
        "        return ((fx-y)**2)\n",
        "    def fit(self,X,Y,eta):\n",
        "        beta_1=0.9\n",
        "        beta_2=0.99\n",
        "        \n",
        "        for t in range(100):\n",
        "            dw=0\n",
        "            db=0\n",
        "            self.Loss=0\n",
        "            self.Y_pred=[]\n",
        "            self.Y_true=[]\n",
        "            epsilon=1e-10\n",
        "            num=0\n",
        "            for x,y in zip(X,Y):\n",
        "                self.a=np.dot(x,self.w)+self.b\n",
        "                p=self.sigmoid(self.a)\n",
        "                if(p>=0.5):\n",
        "                    fx=2\n",
        "                else:\n",
        "                    fx=1\n",
        "                #self.Loss=self.Loss+self.loss(y,fx)\n",
        "            self.w=self.w+eta*x\n",
        "            self.b=self.b-eta*1\n",
        "        #print(\"Epochs {}-----------loss {}\".format(t,self.Loss))\n",
        "    def predict(self,x_test):\n",
        "            pred=[]\n",
        "            for x in x_test:\n",
        "                self.a=np.dot(x,self.w)+self.b\n",
        "                p=self.sigmoid(self.a)\n",
        "                #print(p)\n",
        "                if(p>=0.5):\n",
        "                    fx=2\n",
        "                else:\n",
        "                    fx=1\n",
        "                pred.append(fx)\n",
        "            return(pred)\n",
        "                \n",
        "model=Logistic()\n",
        "model.fit(X_train1,Y_train1,eta=0.1)\n"
      ],
      "execution_count": null,
      "outputs": []
    },
    {
      "cell_type": "code",
      "metadata": {
        "id": "AY7WiXueL7QT"
      },
      "source": [
        "y_pred=model.predict(X_test1)"
      ],
      "execution_count": null,
      "outputs": []
    },
    {
      "cell_type": "code",
      "metadata": {
        "id": "vnzWeaiGL7Qa",
        "outputId": "e1ca17bd-c25c-421f-b9ed-42661746cbde"
      },
      "source": [
        "y_pred"
      ],
      "execution_count": null,
      "outputs": [
        {
          "output_type": "execute_result",
          "data": {
            "text/plain": [
              "[2,\n",
              " 2,\n",
              " 2,\n",
              " 2,\n",
              " 2,\n",
              " 2,\n",
              " 2,\n",
              " 2,\n",
              " 2,\n",
              " 2,\n",
              " 2,\n",
              " 2,\n",
              " 2,\n",
              " 2,\n",
              " 2,\n",
              " 2,\n",
              " 2,\n",
              " 2,\n",
              " 2,\n",
              " 2,\n",
              " 2,\n",
              " 2,\n",
              " 2,\n",
              " 2,\n",
              " 2,\n",
              " 2,\n",
              " 2,\n",
              " 2,\n",
              " 2,\n",
              " 2,\n",
              " 2,\n",
              " 2,\n",
              " 2,\n",
              " 2,\n",
              " 2,\n",
              " 2,\n",
              " 2,\n",
              " 2,\n",
              " 2,\n",
              " 2,\n",
              " 2,\n",
              " 2,\n",
              " 2,\n",
              " 2,\n",
              " 2,\n",
              " 2,\n",
              " 2,\n",
              " 2,\n",
              " 2,\n",
              " 2,\n",
              " 2,\n",
              " 2,\n",
              " 2,\n",
              " 2,\n",
              " 2,\n",
              " 2,\n",
              " 2,\n",
              " 2,\n",
              " 2,\n",
              " 2,\n",
              " 2,\n",
              " 2,\n",
              " 2,\n",
              " 2,\n",
              " 2,\n",
              " 2,\n",
              " 2,\n",
              " 2,\n",
              " 2,\n",
              " 2,\n",
              " 2,\n",
              " 2,\n",
              " 2,\n",
              " 2,\n",
              " 2,\n",
              " 2,\n",
              " 2,\n",
              " 2,\n",
              " 2,\n",
              " 2,\n",
              " 2,\n",
              " 2,\n",
              " 2,\n",
              " 2,\n",
              " 2,\n",
              " 2,\n",
              " 2,\n",
              " 2,\n",
              " 2,\n",
              " 2,\n",
              " 2,\n",
              " 2,\n",
              " 2,\n",
              " 2,\n",
              " 2,\n",
              " 2,\n",
              " 2,\n",
              " 2,\n",
              " 2,\n",
              " 2,\n",
              " 2,\n",
              " 2,\n",
              " 2,\n",
              " 2,\n",
              " 2,\n",
              " 2,\n",
              " 2,\n",
              " 2,\n",
              " 2,\n",
              " 2,\n",
              " 2,\n",
              " 2,\n",
              " 2,\n",
              " 2,\n",
              " 2,\n",
              " 2,\n",
              " 2,\n",
              " 2,\n",
              " 2,\n",
              " 2,\n",
              " 2,\n",
              " 2,\n",
              " 2,\n",
              " 2,\n",
              " 2,\n",
              " 2,\n",
              " 2,\n",
              " 2,\n",
              " 2,\n",
              " 2,\n",
              " 2,\n",
              " 2,\n",
              " 2,\n",
              " 2,\n",
              " 2,\n",
              " 2,\n",
              " 2,\n",
              " 2,\n",
              " 2,\n",
              " 2,\n",
              " 2,\n",
              " 2,\n",
              " 2,\n",
              " 2,\n",
              " 2,\n",
              " 2,\n",
              " 2,\n",
              " 2,\n",
              " 2,\n",
              " 2,\n",
              " 2,\n",
              " 2,\n",
              " 2,\n",
              " 2,\n",
              " 2,\n",
              " 2,\n",
              " 2,\n",
              " 2,\n",
              " 2,\n",
              " 2,\n",
              " 2,\n",
              " 2,\n",
              " 2,\n",
              " 2,\n",
              " 2,\n",
              " 2,\n",
              " 2,\n",
              " 2,\n",
              " 2,\n",
              " 2,\n",
              " 2,\n",
              " 2,\n",
              " 2,\n",
              " 2,\n",
              " 2,\n",
              " 2,\n",
              " 2,\n",
              " 2,\n",
              " 2,\n",
              " 2,\n",
              " 2,\n",
              " 2,\n",
              " 2,\n",
              " 2,\n",
              " 2,\n",
              " 2,\n",
              " 2,\n",
              " 2,\n",
              " 2,\n",
              " 2,\n",
              " 2,\n",
              " 2,\n",
              " 2,\n",
              " 2,\n",
              " 2,\n",
              " 2,\n",
              " 2,\n",
              " 2,\n",
              " 2,\n",
              " 2]"
            ]
          },
          "metadata": {
            "tags": []
          },
          "execution_count": 82
        }
      ]
    },
    {
      "cell_type": "code",
      "metadata": {
        "id": "Nz03ThfkL7Qh",
        "outputId": "582196e9-c62f-47e8-9e2b-069ad1af021a"
      },
      "source": [
        "Y_test1"
      ],
      "execution_count": null,
      "outputs": [
        {
          "output_type": "execute_result",
          "data": {
            "text/plain": [
              "array([1, 2, 1, 1, 2, 1, 2, 1, 1, 1, 2, 1, 2, 2, 2, 1, 1, 1, 1, 1, 1, 1,\n",
              "       1, 1, 2, 1, 2, 2, 1, 1, 1, 1, 1, 1, 1, 1, 2, 1, 1, 2, 2, 2, 2, 1,\n",
              "       2, 1, 2, 1, 2, 2, 2, 1, 1, 2, 1, 2, 2, 2, 1, 1, 2, 2, 1, 1, 1, 1,\n",
              "       1, 1, 2, 1, 1, 1, 2, 1, 1, 1, 2, 1, 2, 2, 1, 2, 1, 2, 2, 2, 1, 1,\n",
              "       1, 1, 1, 1, 1, 2, 2, 1, 2, 1, 1, 1, 2, 1, 1, 1, 1, 1, 1, 1, 1, 2,\n",
              "       1, 1, 1, 1, 1, 2, 2, 1, 1, 1, 2, 2, 2, 1, 1, 2, 1, 1, 1, 1, 1, 1,\n",
              "       1, 1, 2, 1, 1, 1, 1, 2, 1, 2, 1, 1, 2, 1, 1, 1, 2, 1, 1, 1, 1, 1,\n",
              "       1, 1, 1, 1, 2, 1, 1, 1, 2, 1, 1, 2, 1, 1, 2, 1, 1, 1, 1, 2, 2, 1,\n",
              "       1, 1, 1, 1, 1, 1, 1, 1, 2, 1, 2, 1, 1, 1, 1, 1, 1, 2, 1, 1, 1, 1,\n",
              "       1, 1], dtype=int64)"
            ]
          },
          "metadata": {
            "tags": []
          },
          "execution_count": 73
        }
      ]
    },
    {
      "cell_type": "code",
      "metadata": {
        "id": "PJze_VbfL7Qn",
        "outputId": "9d072d77-785b-4f77-f762-a35e7a7a2d38"
      },
      "source": [
        "ohe = OneHotEncoder(categories='auto')\n",
        "Y_cat_train= ohe.fit_transform(Y_train.reshape(-1,1)).toarray()\n",
        "Y_cat_test= ohe.fit_transform(Y_test.reshape(-1,1)).toarray()\n",
        "Y_cat_train"
      ],
      "execution_count": null,
      "outputs": [
        {
          "output_type": "execute_result",
          "data": {
            "text/plain": [
              "array([[1., 0.],\n",
              "       [0., 1.],\n",
              "       [0., 1.],\n",
              "       ...,\n",
              "       [0., 1.],\n",
              "       [0., 1.],\n",
              "       [1., 0.]])"
            ]
          },
          "metadata": {
            "tags": []
          },
          "execution_count": 45
        }
      ]
    },
    {
      "cell_type": "markdown",
      "metadata": {
        "id": "dMsOCHWhL7Qq"
      },
      "source": [
        "# Artificial neural Network"
      ]
    },
    {
      "cell_type": "code",
      "metadata": {
        "id": "LLje3DAOL7Qq",
        "colab": {
          "base_uri": "https://localhost:8080/",
          "height": 223
        },
        "outputId": "9e364d87-be71-40dc-b9ed-e0428b4acb04"
      },
      "source": [
        "model=Sequential()\n",
        "model.add(Dense(12,input_dim=15))\n",
        "model.add(Dense(4))\n",
        "model.add(Dense(2,activation='softmax'))"
      ],
      "execution_count": null,
      "outputs": [
        {
          "output_type": "error",
          "ename": "NameError",
          "evalue": "ignored",
          "traceback": [
            "\u001b[0;31m---------------------------------------------------------------------------\u001b[0m",
            "\u001b[0;31mNameError\u001b[0m                                 Traceback (most recent call last)",
            "\u001b[0;32m<ipython-input-1-cb0cb7a0b719>\u001b[0m in \u001b[0;36m<module>\u001b[0;34m\u001b[0m\n\u001b[0;32m----> 1\u001b[0;31m \u001b[0mmodel\u001b[0m\u001b[0;34m=\u001b[0m\u001b[0mSequential\u001b[0m\u001b[0;34m(\u001b[0m\u001b[0;34m)\u001b[0m\u001b[0;34m\u001b[0m\u001b[0;34m\u001b[0m\u001b[0m\n\u001b[0m\u001b[1;32m      2\u001b[0m \u001b[0mmodel\u001b[0m\u001b[0;34m.\u001b[0m\u001b[0madd\u001b[0m\u001b[0;34m(\u001b[0m\u001b[0mDense\u001b[0m\u001b[0;34m(\u001b[0m\u001b[0;36m12\u001b[0m\u001b[0;34m,\u001b[0m\u001b[0minput_dim\u001b[0m\u001b[0;34m=\u001b[0m\u001b[0;36m15\u001b[0m\u001b[0;34m)\u001b[0m\u001b[0;34m)\u001b[0m\u001b[0;34m\u001b[0m\u001b[0;34m\u001b[0m\u001b[0m\n\u001b[1;32m      3\u001b[0m \u001b[0mmodel\u001b[0m\u001b[0;34m.\u001b[0m\u001b[0madd\u001b[0m\u001b[0;34m(\u001b[0m\u001b[0mDense\u001b[0m\u001b[0;34m(\u001b[0m\u001b[0;36m4\u001b[0m\u001b[0;34m)\u001b[0m\u001b[0;34m)\u001b[0m\u001b[0;34m\u001b[0m\u001b[0;34m\u001b[0m\u001b[0m\n\u001b[1;32m      4\u001b[0m \u001b[0mmodel\u001b[0m\u001b[0;34m.\u001b[0m\u001b[0madd\u001b[0m\u001b[0;34m(\u001b[0m\u001b[0mDense\u001b[0m\u001b[0;34m(\u001b[0m\u001b[0;36m2\u001b[0m\u001b[0;34m,\u001b[0m\u001b[0mactivation\u001b[0m\u001b[0;34m=\u001b[0m\u001b[0;34m'softmax'\u001b[0m\u001b[0;34m)\u001b[0m\u001b[0;34m)\u001b[0m\u001b[0;34m\u001b[0m\u001b[0;34m\u001b[0m\u001b[0m\n",
            "\u001b[0;31mNameError\u001b[0m: name 'Sequential' is not defined"
          ]
        }
      ]
    },
    {
      "cell_type": "code",
      "metadata": {
        "id": "hgfV12E7L7Qt"
      },
      "source": [
        "model.compile(optimizer='adam',loss='categorical_crossentropy',metrics=['accuracy'])"
      ],
      "execution_count": null,
      "outputs": []
    },
    {
      "cell_type": "code",
      "metadata": {
        "id": "ZIW2yWEuL7Q0"
      },
      "source": [
        "history=model.fit(X_train,Y_cat_train,epochs=200,validation_data=(X_test,Y_cat_test),verbose=1)"
      ],
      "execution_count": null,
      "outputs": []
    },
    {
      "cell_type": "code",
      "metadata": {
        "id": "VhP07hwvL7Q4"
      },
      "source": [
        "y_pred=model.predict(x_test)\n",
        "print(np.argmax(y_pred,axis=1))\n",
        "print(accuracy_score(np.argmax(y_pred,axis=1),np.argmax(Y_cat_test,axis=1)))\n",
        "print(confusion_matrix(np.argmax(y_pred,axis=1),np.argmax(Y_cat_test,axis=1)))\n",
        "plt.imshow(confusion_matrix(y_pred,Y_test))\n",
        "plt.xlabel(\"Predicted labels\")\n",
        "plt.ylabel(\"True labels\")\n",
        "plt.show()"
      ],
      "execution_count": null,
      "outputs": []
    },
    {
      "cell_type": "code",
      "metadata": {
        "id": "lIq1t1M7L7Q6"
      },
      "source": [
        "scores_svm =cross_val_score(SVC(gamma='auto'), x, y, cv=5)\n",
        "print(scores_svm.mean())"
      ],
      "execution_count": null,
      "outputs": []
    },
    {
      "cell_type": "code",
      "metadata": {
        "id": "8GKS4jYAL7Q9"
      },
      "source": [
        "scores_NB =cross_val_score(Nb, x, y, cv=5)\n",
        "print(scores_NB.mean())"
      ],
      "execution_count": null,
      "outputs": []
    },
    {
      "cell_type": "code",
      "metadata": {
        "id": "3c8xrxWmL7RC"
      },
      "source": [
        "scores_kn =cross_val_score(kn, x, y, cv=5)\n",
        "print(scores_kn.mean())"
      ],
      "execution_count": null,
      "outputs": []
    },
    {
      "cell_type": "code",
      "metadata": {
        "id": "x_5z3FGXL7RG"
      },
      "source": [
        "result={'svm':scores_svm,'knn':scores_kn,'Nb':scores_NB}\n",
        "performance_matrix=pd.DataFrame(result,columns=['svm','knn','Nb'])"
      ],
      "execution_count": null,
      "outputs": []
    },
    {
      "cell_type": "code",
      "metadata": {
        "id": "0DNwsIg8L7RJ"
      },
      "source": [
        "performance_matrix"
      ],
      "execution_count": null,
      "outputs": []
    },
    {
      "cell_type": "code",
      "metadata": {
        "id": "FffQ1BTaL7RM"
      },
      "source": [],
      "execution_count": null,
      "outputs": []
    }
  ]
}