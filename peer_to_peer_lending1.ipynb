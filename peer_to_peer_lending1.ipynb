{
  "nbformat": 4,
  "nbformat_minor": 0,
  "metadata": {
    "celltoolbar": "Raw Cell Format",
    "kernelspec": {
      "display_name": "Python 3",
      "language": "python",
      "name": "python3"
    },
    "language_info": {
      "codemirror_mode": {
        "name": "ipython",
        "version": 3
      },
      "file_extension": ".py",
      "mimetype": "text/x-python",
      "name": "python",
      "nbconvert_exporter": "python",
      "pygments_lexer": "ipython3",
      "version": "3.7.3"
    },
    "colab": {
      "provenance": [],
      "include_colab_link": true
    }
  },
  "cells": [
    {
      "cell_type": "markdown",
      "metadata": {
        "id": "view-in-github",
        "colab_type": "text"
      },
      "source": [
        "<a href=\"https://colab.research.google.com/github/sarthakkar99/Capstone_peer_to_per_lending/blob/main/peer_to_peer_lending1.ipynb\" target=\"_parent\"><img src=\"https://colab.research.google.com/assets/colab-badge.svg\" alt=\"Open In Colab\"/></a>"
      ]
    },
    {
      "cell_type": "code",
      "metadata": {
        "id": "qqM76EYSepyY",
        "colab": {
          "base_uri": "https://localhost:8080/",
          "height": 84
        },
        "outputId": "e099beee-3ce7-4cc4-bfa5-ee7f261ac06a"
      },
      "source": [
        "\n",
        "# PCA FEATURE SELECTION,RF\n",
        "import pandas as pd\n",
        "import numpy as np\n",
        "from sklearn.model_selection import train_test_split,cross_val_score\n",
        "from sklearn.preprocessing import StandardScaler\n",
        "from sklearn.linear_model import LinearRegression,LogisticRegression\n",
        "from sklearn.metrics import accuracy_score,confusion_matrix\n",
        "from sklearn.svm import SVC\n",
        "from sklearn.preprocessing import LabelEncoder\n",
        "import matplotlib.pyplot as plt\n",
        "import math\n",
        "from keras.models import Sequential\n",
        "from keras.layers import Dense,Softmax\n",
        "from sklearn.neighbors import KNeighborsClassifier\n",
        "from sklearn.naive_bayes import GaussianNB\n",
        "from sklearn.preprocessing import OneHotEncoder\n",
        "import seaborn as sns"
      ],
      "execution_count": null,
      "outputs": [
        {
          "output_type": "stream",
          "text": [
            "Using TensorFlow backend.\n"
          ],
          "name": "stderr"
        },
        {
          "output_type": "display_data",
          "data": {
            "text/html": [
              "<p style=\"color: red;\">\n",
              "The default version of TensorFlow in Colab will soon switch to TensorFlow 2.x.<br>\n",
              "We recommend you <a href=\"https://www.tensorflow.org/guide/migrate\" target=\"_blank\">upgrade</a> now \n",
              "or ensure your notebook will continue to use TensorFlow 1.x via the <code>%tensorflow_version 1.x</code> magic:\n",
              "<a href=\"https://colab.research.google.com/notebooks/tensorflow_version.ipynb\" target=\"_blank\">more info</a>.</p>\n"
            ],
            "text/plain": [
              "<IPython.core.display.HTML object>"
            ]
          },
          "metadata": {
            "tags": []
          }
        }
      ]
    },
    {
      "cell_type": "markdown",
      "metadata": {
        "id": "vWehaBj5epy0"
      },
      "source": [
        "# Data loading\n"
      ]
    },
    {
      "cell_type": "code",
      "metadata": {
        "id": "dJYl_5c_epzH",
        "outputId": "68027ee6-b530-4928-9cb5-9197499999fb"
      },
      "source": [
        "data=pd.read_excel(r'F:\\DOWNLOADS2\\uci-credit-approval\\uci-credit-approval\\crx.data.xlsx')\n",
        "print(data.head())"
      ],
      "execution_count": null,
      "outputs": [
        {
          "output_type": "stream",
          "text": [
            "  C0     C1     C2 C3 C4 C5 C6    C7 C8 C9  C10 C11 C12  C13  C14 C15\n",
            "0  b  30.83  0.000  u  g  w  v  1.25  t  t    1   f   g  202    0   +\n",
            "1  a  58.67  4.460  u  g  q  h  3.04  t  t    6   f   g   43  560   +\n",
            "2  a   24.5  0.500  u  g  q  h  1.50  t  f    0   f   g  280  824   +\n",
            "3  b  27.83  1.540  u  g  w  v  3.75  t  t    5   t   g  100    3   +\n",
            "4  b  20.17  5.625  u  g  w  v  1.71  t  f    0   f   s  120    0   +\n"
          ],
          "name": "stdout"
        }
      ]
    },
    {
      "cell_type": "code",
      "metadata": {
        "id": "4XegAeO3epzk",
        "outputId": "f29addae-b05e-4e00-f6ea-4a68a9860078"
      },
      "source": [
        "data1=pd.read_csv(r'D:\\PYTHON\\MACHINE LEARNING USING PYTHON\\ML\\ITML24\\DATABASE\\credit1.csv')\n",
        "print(data1.head())"
      ],
      "execution_count": null,
      "outputs": [
        {
          "output_type": "stream",
          "text": [
            "  checking_balance  months_loan_duration credit_history    purpose  amount  \\\n",
            "0           < 0 DM                     6       critical   radio/tv    1169   \n",
            "1       1 - 200 DM                    48         repaid   radio/tv    5951   \n",
            "2          unknown                    12       critical  education    2096   \n",
            "3           < 0 DM                    42         repaid  furniture    7882   \n",
            "4           < 0 DM                    24        delayed  car (new)    4870   \n",
            "\n",
            "  savings_balance employment_length  installment_rate personal_status  \\\n",
            "0         unknown           > 7 yrs                 4     single male   \n",
            "1        < 100 DM         1 - 4 yrs                 2          female   \n",
            "2        < 100 DM         4 - 7 yrs                 2     single male   \n",
            "3        < 100 DM         4 - 7 yrs                 2     single male   \n",
            "4        < 100 DM         1 - 4 yrs                 3     single male   \n",
            "\n",
            "  other_debtors  ...                  property age  installment_plan  \\\n",
            "0          none  ...               real estate  67              none   \n",
            "1          none  ...               real estate  22              none   \n",
            "2          none  ...               real estate  49              none   \n",
            "3     guarantor  ...  building society savings  45              none   \n",
            "4          none  ...              unknown/none  53              none   \n",
            "\n",
            "    housing existing_credits  default  dependents  telephone foreign_worker  \\\n",
            "0       own                2        1           1        yes            yes   \n",
            "1       own                1        2           1       none            yes   \n",
            "2       own                1        1           2       none            yes   \n",
            "3  for free                1        1           2       none            yes   \n",
            "4  for free                2        2           2       none            yes   \n",
            "\n",
            "                  job  \n",
            "0    skilled employee  \n",
            "1    skilled employee  \n",
            "2  unskilled resident  \n",
            "3    skilled employee  \n",
            "4    skilled employee  \n",
            "\n",
            "[5 rows x 21 columns]\n"
          ],
          "name": "stdout"
        }
      ]
    },
    {
      "cell_type": "markdown",
      "metadata": {
        "id": "1-WdyLFxepz8"
      },
      "source": [
        "# label encoding"
      ]
    },
    {
      "cell_type": "code",
      "metadata": {
        "id": "MOOW7ThHep0F",
        "outputId": "98ce789a-7511-4475-8a10-ceb86fc0369f"
      },
      "source": [
        "label_encoder=LabelEncoder()\n",
        "print(type(data['C1'].values[0]))\n",
        "columns=data.columns\n",
        "for cols in columns:\n",
        "   # print(cols)\n",
        "    if(isinstance(data[cols].values[0],str)):\n",
        "        data[cols]=label_encoder.fit_transform(data[cols].values)"
      ],
      "execution_count": null,
      "outputs": [
        {
          "output_type": "stream",
          "text": [
            "<class 'float'>\n"
          ],
          "name": "stdout"
        }
      ]
    },
    {
      "cell_type": "code",
      "metadata": {
        "id": "-AmBPwBbep0V"
      },
      "source": [
        "label_encoder=LabelEncoder()\n",
        "columns=data1.columns\n",
        "for cols in columns:\n",
        "   # print(cols)\n",
        "    if(isinstance(data1[cols].values[0],str)):\n",
        "        data1[cols]=label_encoder.fit_transform(data1[cols].values)"
      ],
      "execution_count": null,
      "outputs": []
    },
    {
      "cell_type": "code",
      "metadata": {
        "id": "WX2Y3jWAep0i",
        "outputId": "bd43f4d9-ae05-45c9-87bb-fae506ee9a02"
      },
      "source": [
        "print(data.head(100))"
      ],
      "execution_count": null,
      "outputs": [
        {
          "output_type": "stream",
          "text": [
            "    C0     C1      C2  C3  C4  C5  C6     C7  C8  C9  C10  C11  C12  C13  C14  \\\n",
            "0    2  30.83   0.000   2   1  13   8  1.250   1   1    1    0    0  202    0   \n",
            "1    1  58.67   4.460   2   1  11   4  3.040   1   1    6    0    0   43  560   \n",
            "2    1   24.5   0.500   2   1  11   4  1.500   1   0    0    0    0  280  824   \n",
            "3    2  27.83   1.540   2   1  13   8  3.750   1   1    5    1    0  100    3   \n",
            "4    2  20.17   5.625   2   1  13   8  1.710   1   0    0    0    2  120    0   \n",
            "..  ..    ...     ...  ..  ..  ..  ..    ...  ..  ..  ...  ...  ...  ...  ...   \n",
            "95   1  28.58   3.540   2   1   7   1  0.500   1   0    0    1    0  171    0   \n",
            "96   2     23   0.625   3   3   1   8  0.125   1   0    0    0    0  180    1   \n",
            "97   2      ?   0.500   2   1   2   1  0.835   1   0    0    1    2  320    0   \n",
            "98   1   22.5  11.000   3   3  11   8  3.000   1   0    0    1    0  268    0   \n",
            "99   1   28.5   1.000   2   1  11   8  1.000   1   1    2    1    0  167  500   \n",
            "\n",
            "    C15  \n",
            "0     0  \n",
            "1     0  \n",
            "2     0  \n",
            "3     0  \n",
            "4     0  \n",
            "..  ...  \n",
            "95    1  \n",
            "96    1  \n",
            "97    1  \n",
            "98    1  \n",
            "99    1  \n",
            "\n",
            "[100 rows x 16 columns]\n"
          ],
          "name": "stdout"
        }
      ]
    },
    {
      "cell_type": "code",
      "metadata": {
        "id": "HijCGTJtep0t",
        "outputId": "686eba56-c8fa-4b58-87c1-9eba17f9ab03"
      },
      "source": [
        "sns.countplot(data['C15'])"
      ],
      "execution_count": null,
      "outputs": [
        {
          "output_type": "execute_result",
          "data": {
            "text/plain": [
              "<matplotlib.axes._subplots.AxesSubplot at 0x197e92cae10>"
            ]
          },
          "metadata": {
            "tags": []
          },
          "execution_count": 21
        },
        {
          "output_type": "display_data",
          "data": {
            "image/png": "[encoded data removed]",
            "text/plain": [
              "<Figure size 432x288 with 1 Axes>"
            ]
          },
          "metadata": {
            "tags": [],
            "needs_background": "light"
          }
        }
      ]
    },
    {
      "cell_type": "code",
      "metadata": {
        "id": "OT6tNBrEep06",
        "outputId": "f29953ff-9c02-40c8-91b3-a0834bd87666"
      },
      "source": [
        "data1.head()"
      ],
      "execution_count": null,
      "outputs": [
        {
          "output_type": "execute_result",
          "data": {
            "text/html": [
              "<div>\n",
              "<style scoped>\n",
              "    .dataframe tbody tr th:only-of-type {\n",
              "        vertical-align: middle;\n",
              "    }\n",
              "\n",
              "    .dataframe tbody tr th {\n",
              "        vertical-align: top;\n",
              "    }\n",
              "\n",
              "    .dataframe thead th {\n",
              "        text-align: right;\n",
              "    }\n",
              "</style>\n",
              "<table border=\"1\" class=\"dataframe\">\n",
              "  <thead>\n",
              "    <tr style=\"text-align: right;\">\n",
              "      <th></th>\n",
              "      <th>checking_balance</th>\n",
              "      <th>months_loan_duration</th>\n",
              "      <th>credit_history</th>\n",
              "      <th>purpose</th>\n",
              "      <th>amount</th>\n",
              "      <th>savings_balance</th>\n",
              "      <th>employment_length</th>\n",
              "      <th>installment_rate</th>\n",
              "      <th>personal_status</th>\n",
              "      <th>other_debtors</th>\n",
              "      <th>...</th>\n",
              "      <th>property</th>\n",
              "      <th>age</th>\n",
              "      <th>installment_plan</th>\n",
              "      <th>housing</th>\n",
              "      <th>existing_credits</th>\n",
              "      <th>default</th>\n",
              "      <th>dependents</th>\n",
              "      <th>telephone</th>\n",
              "      <th>foreign_worker</th>\n",
              "      <th>job</th>\n",
              "    </tr>\n",
              "  </thead>\n",
              "  <tbody>\n",
              "    <tr>\n",
              "      <td>0</td>\n",
              "      <td>1</td>\n",
              "      <td>6</td>\n",
              "      <td>0</td>\n",
              "      <td>7</td>\n",
              "      <td>1169</td>\n",
              "      <td>4</td>\n",
              "      <td>3</td>\n",
              "      <td>4</td>\n",
              "      <td>3</td>\n",
              "      <td>2</td>\n",
              "      <td>...</td>\n",
              "      <td>2</td>\n",
              "      <td>67</td>\n",
              "      <td>1</td>\n",
              "      <td>1</td>\n",
              "      <td>2</td>\n",
              "      <td>1</td>\n",
              "      <td>1</td>\n",
              "      <td>1</td>\n",
              "      <td>1</td>\n",
              "      <td>1</td>\n",
              "    </tr>\n",
              "    <tr>\n",
              "      <td>1</td>\n",
              "      <td>0</td>\n",
              "      <td>48</td>\n",
              "      <td>4</td>\n",
              "      <td>7</td>\n",
              "      <td>5951</td>\n",
              "      <td>2</td>\n",
              "      <td>1</td>\n",
              "      <td>2</td>\n",
              "      <td>1</td>\n",
              "      <td>2</td>\n",
              "      <td>...</td>\n",
              "      <td>2</td>\n",
              "      <td>22</td>\n",
              "      <td>1</td>\n",
              "      <td>1</td>\n",
              "      <td>1</td>\n",
              "      <td>2</td>\n",
              "      <td>1</td>\n",
              "      <td>0</td>\n",
              "      <td>1</td>\n",
              "      <td>1</td>\n",
              "    </tr>\n",
              "    <tr>\n",
              "      <td>2</td>\n",
              "      <td>3</td>\n",
              "      <td>12</td>\n",
              "      <td>0</td>\n",
              "      <td>4</td>\n",
              "      <td>2096</td>\n",
              "      <td>2</td>\n",
              "      <td>2</td>\n",
              "      <td>2</td>\n",
              "      <td>3</td>\n",
              "      <td>2</td>\n",
              "      <td>...</td>\n",
              "      <td>2</td>\n",
              "      <td>49</td>\n",
              "      <td>1</td>\n",
              "      <td>1</td>\n",
              "      <td>1</td>\n",
              "      <td>1</td>\n",
              "      <td>2</td>\n",
              "      <td>0</td>\n",
              "      <td>1</td>\n",
              "      <td>3</td>\n",
              "    </tr>\n",
              "    <tr>\n",
              "      <td>3</td>\n",
              "      <td>1</td>\n",
              "      <td>42</td>\n",
              "      <td>4</td>\n",
              "      <td>5</td>\n",
              "      <td>7882</td>\n",
              "      <td>2</td>\n",
              "      <td>2</td>\n",
              "      <td>2</td>\n",
              "      <td>3</td>\n",
              "      <td>1</td>\n",
              "      <td>...</td>\n",
              "      <td>0</td>\n",
              "      <td>45</td>\n",
              "      <td>1</td>\n",
              "      <td>0</td>\n",
              "      <td>1</td>\n",
              "      <td>1</td>\n",
              "      <td>2</td>\n",
              "      <td>0</td>\n",
              "      <td>1</td>\n",
              "      <td>1</td>\n",
              "    </tr>\n",
              "    <tr>\n",
              "      <td>4</td>\n",
              "      <td>1</td>\n",
              "      <td>24</td>\n",
              "      <td>1</td>\n",
              "      <td>1</td>\n",
              "      <td>4870</td>\n",
              "      <td>2</td>\n",
              "      <td>1</td>\n",
              "      <td>3</td>\n",
              "      <td>3</td>\n",
              "      <td>2</td>\n",
              "      <td>...</td>\n",
              "      <td>3</td>\n",
              "      <td>53</td>\n",
              "      <td>1</td>\n",
              "      <td>0</td>\n",
              "      <td>2</td>\n",
              "      <td>2</td>\n",
              "      <td>2</td>\n",
              "      <td>0</td>\n",
              "      <td>1</td>\n",
              "      <td>1</td>\n",
              "    </tr>\n",
              "  </tbody>\n",
              "</table>\n",
              "<p>5 rows × 21 columns</p>\n",
              "</div>"
            ],
            "text/plain": [
              "   checking_balance  months_loan_duration  credit_history  purpose  amount  \\\n",
              "0                 1                     6               0        7    1169   \n",
              "1                 0                    48               4        7    5951   \n",
              "2                 3                    12               0        4    2096   \n",
              "3                 1                    42               4        5    7882   \n",
              "4                 1                    24               1        1    4870   \n",
              "\n",
              "   savings_balance  employment_length  installment_rate  personal_status  \\\n",
              "0                4                  3                 4                3   \n",
              "1                2                  1                 2                1   \n",
              "2                2                  2                 2                3   \n",
              "3                2                  2                 2                3   \n",
              "4                2                  1                 3                3   \n",
              "\n",
              "   other_debtors  ...  property  age  installment_plan  housing  \\\n",
              "0              2  ...         2   67                 1        1   \n",
              "1              2  ...         2   22                 1        1   \n",
              "2              2  ...         2   49                 1        1   \n",
              "3              1  ...         0   45                 1        0   \n",
              "4              2  ...         3   53                 1        0   \n",
              "\n",
              "   existing_credits  default  dependents  telephone  foreign_worker  job  \n",
              "0                 2        1           1          1               1    1  \n",
              "1                 1        2           1          0               1    1  \n",
              "2                 1        1           2          0               1    3  \n",
              "3                 1        1           2          0               1    1  \n",
              "4                 2        2           2          0               1    1  \n",
              "\n",
              "[5 rows x 21 columns]"
            ]
          },
          "metadata": {
            "tags": []
          },
          "execution_count": 8
        }
      ]
    },
    {
      "cell_type": "code",
      "metadata": {
        "id": "K8QZdDOwep1H",
        "outputId": "9cbbcce1-ad10-4669-8fe3-f2bbf7ab60d9"
      },
      "source": [
        "sns.countplot(data1['default'])"
      ],
      "execution_count": null,
      "outputs": [
        {
          "output_type": "execute_result",
          "data": {
            "text/plain": [
              "<matplotlib.axes._subplots.AxesSubplot at 0x197e8ee3390>"
            ]
          },
          "metadata": {
            "tags": []
          },
          "execution_count": 15
        },
        {
          "output_type": "display_data",
          "data": {
            "image/png": "[encoded data removed]",
            "text/plain": [
              "<Figure size 432x288 with 1 Axes>"
            ]
          },
          "metadata": {
            "tags": [],
            "needs_background": "light"
          }
        }
      ]
    },
    {
      "cell_type": "markdown",
      "metadata": {
        "id": "RSpOaJOQep1i"
      },
      "source": [
        "# data cleaning"
      ]
    },
    {
      "cell_type": "code",
      "metadata": {
        "id": "E5Pzfltkep1q",
        "outputId": "edab0838-a0d1-41fd-8566-966a50e0601a"
      },
      "source": [
        "print(type(data['C1'].values[86]),data['C1'].values[98])"
      ],
      "execution_count": null,
      "outputs": [
        {
          "output_type": "stream",
          "text": [
            "<class 'str'> 22.5\n"
          ],
          "name": "stdout"
        }
      ]
    },
    {
      "cell_type": "code",
      "metadata": {
        "id": "hxY-cQXvep2A",
        "outputId": "e0f74a26-836b-4be7-c61a-0f0887a57e22"
      },
      "source": [
        "data1.isnull().sum()"
      ],
      "execution_count": null,
      "outputs": [
        {
          "output_type": "execute_result",
          "data": {
            "text/plain": [
              "checking_balance        0\n",
              "months_loan_duration    0\n",
              "credit_history          0\n",
              "purpose                 0\n",
              "amount                  0\n",
              "savings_balance         0\n",
              "employment_length       0\n",
              "installment_rate        0\n",
              "personal_status         0\n",
              "other_debtors           0\n",
              "residence_history       0\n",
              "property                0\n",
              "age                     0\n",
              "installment_plan        0\n",
              "housing                 0\n",
              "existing_credits        0\n",
              "default                 0\n",
              "dependents              0\n",
              "telephone               0\n",
              "foreign_worker          0\n",
              "job                     0\n",
              "dtype: int64"
            ]
          },
          "metadata": {
            "tags": []
          },
          "execution_count": 9
        }
      ]
    },
    {
      "cell_type": "code",
      "metadata": {
        "id": "w4lW9Qryep2V"
      },
      "source": [
        "for cols in columns:\n",
        "    try:\n",
        "        m=data[cols].mean()\n",
        "    except:\n",
        "        for i in range(data[cols].values.shape[0]):\n",
        "            if isinstance(data[cols].values[i],str):\n",
        "                data[cols].values[i]=0"
      ],
      "execution_count": null,
      "outputs": []
    },
    {
      "cell_type": "code",
      "metadata": {
        "id": "T3tX-kdOep2l",
        "outputId": "815dbf75-1ec3-4dd4-c807-7190605dced6"
      },
      "source": [
        "print(data.head(100))"
      ],
      "execution_count": null,
      "outputs": [
        {
          "output_type": "stream",
          "text": [
            "    C0     C1      C2  C3  C4  C5  C6     C7  C8  C9  C10  C11  C12  C13  C14  \\\n",
            "0    2  30.83   0.000   2   1  13   8  1.250   1   1    1    0    0  202    0   \n",
            "1    1  58.67   4.460   2   1  11   4  3.040   1   1    6    0    0   43  560   \n",
            "2    1   24.5   0.500   2   1  11   4  1.500   1   0    0    0    0  280  824   \n",
            "3    2  27.83   1.540   2   1  13   8  3.750   1   1    5    1    0  100    3   \n",
            "4    2  20.17   5.625   2   1  13   8  1.710   1   0    0    0    2  120    0   \n",
            "..  ..    ...     ...  ..  ..  ..  ..    ...  ..  ..  ...  ...  ...  ...  ...   \n",
            "95   1  28.58   3.540   2   1   7   1  0.500   1   0    0    1    0  171    0   \n",
            "96   2     23   0.625   3   3   1   8  0.125   1   0    0    0    0  180    1   \n",
            "97   2      0   0.500   2   1   2   1  0.835   1   0    0    1    2  320    0   \n",
            "98   1   22.5  11.000   3   3  11   8  3.000   1   0    0    1    0  268    0   \n",
            "99   1   28.5   1.000   2   1  11   8  1.000   1   1    2    1    0  167  500   \n",
            "\n",
            "    C15  \n",
            "0     0  \n",
            "1     0  \n",
            "2     0  \n",
            "3     0  \n",
            "4     0  \n",
            "..  ...  \n",
            "95    1  \n",
            "96    1  \n",
            "97    1  \n",
            "98    1  \n",
            "99    1  \n",
            "\n",
            "[100 rows x 16 columns]\n"
          ],
          "name": "stdout"
        }
      ]
    },
    {
      "cell_type": "code",
      "metadata": {
        "id": "OehMUL6Fep2u"
      },
      "source": [
        "x=data.drop(['C15'],axis=1).values\n",
        "y=data['C15'].values\n",
        "\n"
      ],
      "execution_count": null,
      "outputs": []
    },
    {
      "cell_type": "code",
      "metadata": {
        "id": "OVEWYFjmep25"
      },
      "source": [
        "x1=data1.drop(['default'],axis=1).values\n",
        "y1=data1['default'].values\n"
      ],
      "execution_count": null,
      "outputs": []
    },
    {
      "cell_type": "code",
      "metadata": {
        "id": "nee2Nqnvep3C",
        "outputId": "6a315855-70f8-4f18-cde1-9a875c026708"
      },
      "source": [
        "X_train,X_test,Y_train,Y_test=train_test_split(x,y,stratify=y,test_size=0.2,random_state=False)\n",
        "scaler=StandardScaler()\n",
        "x_train=scaler.fit_transform(X_train)\n",
        "x_test=scaler.transform(X_test)\n",
        "print(X_train.shape,X_test.shape)"
      ],
      "execution_count": null,
      "outputs": [
        {
          "output_type": "stream",
          "text": [
            "(552, 15) (138, 15)\n"
          ],
          "name": "stdout"
        }
      ]
    },
    {
      "cell_type": "code",
      "metadata": {
        "id": "oekAIGQrep3N",
        "outputId": "0839614a-f9f4-493f-d646-b4c0b766d71f"
      },
      "source": [
        "X_train1,X_test1,Y_train1,Y_test1=train_test_split(x1,y1,stratify=y1,test_size=0.2,random_state=False)\n",
        "scaler=StandardScaler()\n",
        "x_train1=scaler.fit_transform(X_train1)\n",
        "x_test1=scaler.transform(X_test1)\n",
        "print(X_train1.shape,X_test1.shape)"
      ],
      "execution_count": null,
      "outputs": [
        {
          "output_type": "stream",
          "text": [
            "(800, 20) (200, 20)\n"
          ],
          "name": "stdout"
        }
      ]
    },
    {
      "cell_type": "code",
      "metadata": {
        "id": "ICtQcHitep3W",
        "outputId": "3907a48d-a4b0-4093-f8f5-6a0b73593bc4"
      },
      "source": [
        "Y_train.shape"
      ],
      "execution_count": null,
      "outputs": [
        {
          "output_type": "execute_result",
          "data": {
            "text/plain": [
              "(552,)"
            ]
          },
          "metadata": {
            "tags": []
          },
          "execution_count": 37
        }
      ]
    },
    {
      "cell_type": "code",
      "metadata": {
        "id": "c_vsawYdep3f",
        "outputId": "be8ff8f9-0db7-4c89-ba6c-a613e1314a3f"
      },
      "source": [
        "Y_train1.shape"
      ],
      "execution_count": null,
      "outputs": [
        {
          "output_type": "execute_result",
          "data": {
            "text/plain": [
              "(800,)"
            ]
          },
          "metadata": {
            "tags": []
          },
          "execution_count": 12
        }
      ]
    },
    {
      "cell_type": "code",
      "metadata": {
        "id": "c7azJh1Pep3k",
        "outputId": "20213d64-5e3d-485c-9476-8374ae0e8420"
      },
      "source": [
        "svm=SVC()\n",
        "svm.fit(x_train,Y_train)\n",
        "y_pred=svm.predict(x_test)\n",
        "print(accuracy_score(y_pred,Y_test))\n",
        "print(confusion_matrix(y_pred,Y_test))\n",
        "plt.imshow(confusion_matrix(y_pred,Y_test))\n",
        "plt.xlabel(\"Predicted labels\")\n",
        "plt.ylabel(\"True labels\")\n",
        "plt.show()"
      ],
      "execution_count": null,
      "outputs": [
        {
          "output_type": "stream",
          "text": [
            "0.8840579710144928\n",
            "[[57 12]\n",
            " [ 4 65]]\n"
          ],
          "name": "stdout"
        },
        {
          "output_type": "display_data",
          "data": {
            "image/png": "[encoded data removed]",
            "text/plain": [
              "<Figure size 432x288 with 1 Axes>"
            ]
          },
          "metadata": {
            "tags": [],
            "needs_background": "light"
          }
        }
      ]
    },
    {
      "cell_type": "code",
      "metadata": {
        "id": "5cSWrdQCep3p",
        "outputId": "c2f368d9-39c7-468b-d9cd-b4eef4f67851"
      },
      "source": [
        "svm=SVC()\n",
        "svm.fit(x_train1,Y_train1)\n",
        "y_pred=svm.predict(x_test1)\n",
        "print(accuracy_score(y_pred,Y_test1))\n",
        "print(confusion_matrix(y_pred,Y_test1))\n",
        "plt.imshow(confusion_matrix(y_pred,Y_test1))\n",
        "plt.xlabel(\"Predicted labels\")\n",
        "plt.ylabel(\"True labels\")\n",
        "plt.show()"
      ],
      "execution_count": null,
      "outputs": [
        {
          "output_type": "stream",
          "text": [
            "0.73\n",
            "[[133  47]\n",
            " [  7  13]]\n"
          ],
          "name": "stdout"
        },
        {
          "output_type": "display_data",
          "data": {
            "image/png": "[encoded data removed]",
            "text/plain": [
              "<Figure size 432x288 with 1 Axes>"
            ]
          },
          "metadata": {
            "tags": [],
            "needs_background": "light"
          }
        }
      ]
    },
    {
      "cell_type": "code",
      "metadata": {
        "id": "TIN9ifRnep30",
        "outputId": "69988b49-7e7c-4f7f-e6f1-b858c3ed9c19"
      },
      "source": [
        "lr=LogisticRegression()\n",
        "lr.fit(x_train,Y_train)\n",
        "y_pred=lr.predict(x_test)\n",
        "print(accuracy_score(y_pred,Y_test))"
      ],
      "execution_count": null,
      "outputs": [
        {
          "output_type": "stream",
          "text": [
            "0.8768115942028986\n"
          ],
          "name": "stdout"
        },
        {
          "output_type": "stream",
          "text": [
            "C:\\Users\\SPIRO\\AppData\\Roaming\\Python\\Python37\\site-packages\\sklearn\\linear_model\\logistic.py:432: FutureWarning: Default solver will be changed to 'lbfgs' in 0.22. Specify a solver to silence this warning.\n",
            "  FutureWarning)\n"
          ],
          "name": "stderr"
        }
      ]
    },
    {
      "cell_type": "code",
      "metadata": {
        "id": "iWCtxPQNep35",
        "outputId": "232f66e0-5bbb-41e8-d5d3-a4d8aa703d15"
      },
      "source": [
        "lr=LogisticRegression()\n",
        "lr.fit(x_train1,Y_train1)\n",
        "y_pred=lr.predict(x_test1)\n",
        "print(accuracy_score(y_pred,Y_test1))"
      ],
      "execution_count": null,
      "outputs": [
        {
          "output_type": "stream",
          "text": [
            "0.715\n"
          ],
          "name": "stdout"
        },
        {
          "output_type": "stream",
          "text": [
            "C:\\Users\\SPIRO\\AppData\\Roaming\\Python\\Python37\\site-packages\\sklearn\\linear_model\\logistic.py:432: FutureWarning: Default solver will be changed to 'lbfgs' in 0.22. Specify a solver to silence this warning.\n",
            "  FutureWarning)\n"
          ],
          "name": "stderr"
        }
      ]
    },
    {
      "cell_type": "code",
      "metadata": {
        "id": "LyiRgHWpep4P",
        "outputId": "339e7d73-9cb3-4b36-d6d3-7eb02e48c2a9"
      },
      "source": [
        "kn=KNeighborsClassifier(n_neighbors=5)\n",
        "kn.fit(x_train,Y_train)\n",
        "y_pred=kn.predict(x_test)\n",
        "print(accuracy_score(y_pred,Y_test))\n",
        "print(confusion_matrix(y_pred,Y_test))\n",
        "plt.imshow(confusion_matrix(y_pred,Y_test))\n",
        "plt.xlabel(\"Predicted labels\")\n",
        "plt.ylabel(\"True labels\")\n",
        "plt.show()"
      ],
      "execution_count": null,
      "outputs": [
        {
          "output_type": "stream",
          "text": [
            "0.8913043478260869\n",
            "[[52  6]\n",
            " [ 9 71]]\n"
          ],
          "name": "stdout"
        },
        {
          "output_type": "display_data",
          "data": {
            "image/png": "[encoded data removed]",
            "text/plain": [
              "<Figure size 432x288 with 1 Axes>"
            ]
          },
          "metadata": {
            "tags": [],
            "needs_background": "light"
          }
        }
      ]
    },
    {
      "cell_type": "code",
      "metadata": {
        "id": "nQTF3PVkep4U",
        "outputId": "fd24b583-5f9b-4996-dac3-0952e545ada5"
      },
      "source": [
        "l=[]\n",
        "Y_pred=[]\n",
        "def distance(x_test,K):\n",
        "    l=[]\n",
        "    for i in range(X_train.shape[0]):\n",
        "        s=0\n",
        "        for j,t in zip(x_train[i],x_test):\n",
        "            s+=(t-j)**2\n",
        "        l.append((round(np.sqrt(s),2),Y_train[i]))\n",
        "    l.sort()\n",
        "    l_min=[]\n",
        "    #print(l)\n",
        "    for k in range(K):\n",
        "        l_min.append(l[k])\n",
        "    l_lables=[]\n",
        "    #print(l_min)\n",
        "    for i in l_min:\n",
        "     l_lables.append(i[1])\n",
        "    Y_pred.append(most_frequent(l_lables))\n",
        "    #Y_pred.append((min(l_min))[1])\n",
        "\n",
        "def most_frequent(List):\n",
        "    return max(set(List),key=List.count)\n",
        "for i in range(X_test.shape[0]):\n",
        "    distance(x_test[i],5)#change here for different k value for getting better accuracy\n",
        "#print(Y_pred,Y_test)\n",
        "print(accuracy_score(Y_pred,Y_test))\n",
        "\n"
      ],
      "execution_count": null,
      "outputs": [
        {
          "output_type": "stream",
          "text": [
            "0.8913043478260869\n"
          ],
          "name": "stdout"
        }
      ]
    },
    {
      "cell_type": "code",
      "metadata": {
        "id": "qnDCEsuoep4Y"
      },
      "source": [],
      "execution_count": null,
      "outputs": []
    },
    {
      "cell_type": "code",
      "metadata": {
        "id": "eQcT6aJYep4d"
      },
      "source": [
        "ohe = OneHotEncoder(categories='auto')\n",
        "Y_cat_train= ohe.fit_transform(Y_train.reshape(-1,1)).toarray()\n",
        "Y_cat_test= ohe.fit_transform(Y_test.reshape(-1,1)).toarray()\n",
        "Y_cat_train"
      ],
      "execution_count": null,
      "outputs": []
    }
  ]
}